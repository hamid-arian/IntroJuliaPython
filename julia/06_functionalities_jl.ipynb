{
 "cells": [
  {
   "cell_type": "markdown",
   "metadata": {
    "id": "A_pY5CUIVptt"
   },
   "source": [
    "# Functions, Methods and Macros\n",
    "\n"
   ]
  },
  {
   "cell_type": "markdown",
   "metadata": {
    "id": "jKpjTHMbao6r"
   },
   "source": [
    "## Functions"
   ]
  },
  {
   "cell_type": "markdown",
   "metadata": {
    "id": "k-IIQF4vP7w9"
   },
   "source": [
    "Julia functions supports positional arguments and default values:"
   ]
  },
  {
   "cell_type": "code",
   "execution_count": 1,
   "metadata": {
    "colab": {
     "base_uri": "https://localhost:8080/"
    },
    "id": "BnVg7UKNQQ4M",
    "outputId": "ae062611-82f5-4e44-d04e-e007f332882c"
   },
   "outputs": [
    {
     "data": {
      "text/plain": [
       "func_default_arg (generic function with 2 methods)"
      ]
     },
     "metadata": {},
     "output_type": "display_data"
    }
   ],
   "source": [
    "function func_default_arg(x, y=1) #def func_default_arg():\n",
    "    print(\"$x , $y\")\n",
    "end"
   ]
  },
  {
   "cell_type": "markdown",
   "metadata": {
    "id": "AmKSe9fYRMxb"
   },
   "source": [
    "However, unlike in Python, positional arguments must not be named when the function is called:"
   ]
  },
  {
   "cell_type": "code",
   "execution_count": 2,
   "metadata": {
    "colab": {
     "base_uri": "https://localhost:8080/"
    },
    "id": "fB1flNxMRAo4",
    "outputId": "9fb32d7c-53e8-4839-e25a-589873675ee3"
   },
   "outputs": [
    {
     "data": {
      "text/plain": [
       "MethodError(Core.kwcall, ((y = 1,), func_default_arg, 1), 0x0000000000007b0e)"
      ]
     },
     "metadata": {},
     "output_type": "display_data"
    }
   ],
   "source": [
    "try\n",
    "    func_default_arg(1, y=1)\n",
    "catch ex\n",
    "    ex\n",
    "end"
   ]
  },
  {
   "cell_type": "markdown",
   "metadata": {
    "id": "yBQOd8H6RUJs"
   },
   "source": [
    "Julia also supports a variable number of arguments (called \"varargs\") using the syntax `arg...`, which is the equivalent of Python's `*arg`:"
   ]
  },
  {
   "cell_type": "code",
   "execution_count": 3,
   "metadata": {
    "colab": {
     "base_uri": "https://localhost:8080/"
    },
    "id": "OS1U6AxeRYyb",
    "outputId": "9e0c0722-bf80-448b-d794-a3a80a84db05"
   },
   "outputs": [
    {
     "name": "stdout",
     "output_type": "stream",
     "text": [
      "multiple argument list: (\"first string\", \"apple\", \"orange\", \"yellow\")\n"
     ]
    }
   ],
   "source": [
    "function func_multiple_arg(myarglist...)\n",
    "    println(\"multiple argument list: $myarglist\")\n",
    "end\n",
    "\n",
    "func_multiple_arg(\"first string\", \"apple\", \"orange\", \"yellow\")"
   ]
  },
  {
   "cell_type": "markdown",
   "metadata": {
    "id": "x8lJsP6wQujj"
   },
   "source": [
    "Keyword arguments are supported, after a semicolon `;`:"
   ]
  },
  {
   "cell_type": "code",
   "execution_count": 4,
   "metadata": {
    "colab": {
     "base_uri": "https://localhost:8080/"
    },
    "id": "R4XDHjftQwel",
    "outputId": "34b10e15-44f6-413a-f90a-b0fe73abdb3d"
   },
   "outputs": [
    {
     "name": "stdout",
     "output_type": "stream",
     "text": [
      "paths=(\"a.txt\", \"b.txt\"), confirm=true, /tmp\n"
     ]
    }
   ],
   "source": [
    "function copy_files2(paths...; confirm=false, target_dir)\n",
    "    println(\"paths=$paths, confirm=$confirm, $target_dir\") # string interpolation\n",
    "end\n",
    "\n",
    "copy_files2(\"a.txt\", \"b.txt\"; confirm=true, target_dir=\"/tmp\")"
   ]
  },
  {
   "cell_type": "markdown",
   "metadata": {
    "id": "katU7ZypHZdc"
   },
   "source": [
    "Notes:\n",
    "* `target_dir` has no default value, so it is a required argument.\n",
    "* The order of the keyword arguments does not matter."
   ]
  },
  {
   "cell_type": "markdown",
   "metadata": {
    "id": "c24CyL7PGE35"
   },
   "source": [
    "You can have another vararg in the keyword section. It corresponds to Python's `**kwargs`:"
   ]
  },
  {
   "cell_type": "code",
   "execution_count": 5,
   "metadata": {
    "colab": {
     "base_uri": "https://localhost:8080/"
    },
    "id": "m-u29GPoGP8l",
    "outputId": "b8d658d2-ef64-4553-9200-5230214e905b"
   },
   "outputs": [
    {
     "name": "stdout",
     "output_type": "stream",
     "text": [
      "paths=(\"a.txt\", \"b.txt\"), confirm=false, /tmp\n",
      "verbose=true\n"
     ]
    }
   ],
   "source": [
    "function copy_files3(paths...; confirm=false, target_dir, options...)\n",
    "    println(\"paths=$paths, confirm=$confirm, $target_dir\")\n",
    "    verbose = options[:verbose]\n",
    "    println(\"verbose=$verbose\")\n",
    "end\n",
    "\n",
    "copy_files3(\"a.txt\", \"b.txt\"; target_dir=\"/tmp\", verbose=true, timeout=60)"
   ]
  },
  {
   "cell_type": "code",
   "execution_count": 6,
   "metadata": {},
   "outputs": [
    {
     "name": "stdout",
     "output_type": "stream",
     "text": [
      "a: 1, b: &b, c: 3\n",
      "a: 1, b: &b, c: (3, 4, 5)"
     ]
    }
   ],
   "source": [
    "function foo1(a, b=2, c=3)\n",
    "    print(\"a: $a, b: &b, c: $c\")\n",
    "end\n",
    "\n",
    "foo1(1, 2)\n",
    "println()\n",
    "\n",
    "function foo2(a, b=2, c...)\n",
    "    print(\"a: $a, b: &b, c: $c\")\n",
    "end\n",
    "\n",
    "foo2(1, 2, 3, 4, 5)"
   ]
  },
  {
   "cell_type": "markdown",
   "metadata": {
    "id": "UpbuZ0RYGsC2"
   },
   "source": [
    "\n",
    "|Julia|Python (3.8+ if `/` is used)\n",
    "|-----|------\n",
    "| `function foo(a, b=2, c=3)`<br />&nbsp;&nbsp;&nbsp;&nbsp;`...`<br />`end`<br /><br />`foo(1, 2) # positional only` | `def foo(a, b=2, c=3, /):`<br />&nbsp;&nbsp;&nbsp;&nbsp;`...`<br /><br />`foo(1, 2) # pos only because of /`\n",
    "| `function foo(;a=1, b, c=3)`<br />&nbsp;&nbsp;&nbsp;&nbsp;`...`<br />`end`<br /><br />`foo(c=30, b=2) # keyword only` | `def foo(*, a=1, b, c=3):`<br />&nbsp;&nbsp;&nbsp;&nbsp;`...`<br /><br />`foo(c=30, b=2) # kw only because of *`\n",
    "| `function foo(a, b=2; c=3, d)`<br />&nbsp;&nbsp;&nbsp;&nbsp;`...`<br />`end`<br /><br />`foo(1; d=4) # pos only; then keyword only` | `def foo(a, b=2, /, *, c=3, d):`<br />&nbsp;&nbsp;&nbsp;&nbsp;`...`<br /><br />`foo(1, d=4) # pos only then kw only`\n",
    "| `function foo(a, b=2, c...)`<br />&nbsp;&nbsp;&nbsp;&nbsp;`...`<br />`end`<br /><br />`foo(1, 2, 3, 4) # positional only` | `def foo(a, b=2, /, *c):`<br />&nbsp;&nbsp;&nbsp;&nbsp;`...`<br /><br />`foo(1, 2, 3, 4) # positional only`\n",
    "| `function foo(a, b=1, c...; d=1, e, f...)`<br />&nbsp;&nbsp;&nbsp;&nbsp;`...`<br />`end`<br /><br />`foo(1, 2, 3, 4, e=5, x=10, y=20)`<br /> | `def foo(a, b=1, /, *c, d=1, e, **f):`<br />&nbsp;&nbsp;&nbsp;&nbsp;`...`<br /><br />`foo(1, 2, 3, 4, e=5, x=10, y=20)`\n"
   ]
  },
  {
   "cell_type": "markdown",
   "metadata": {
    "id": "JQsdtaYXDoNm"
   },
   "source": [
    "## Concise Functions\n",
    "\n",
    "In Julia, the following definition:"
   ]
  },
  {
   "cell_type": "code",
   "execution_count": 7,
   "metadata": {
    "colab": {
     "base_uri": "https://localhost:8080/"
    },
    "id": "PnB4hMDIkd_4",
    "outputId": "a39dfb82-d96d-44bc-acff-7f981cf7dcca"
   },
   "outputs": [
    {
     "data": {
      "text/plain": [
       "increase_by_one (generic function with 1 method)"
      ]
     },
     "metadata": {},
     "output_type": "display_data"
    }
   ],
   "source": [
    "increase_by_one(x) = x+1"
   ]
  },
  {
   "cell_type": "markdown",
   "metadata": {
    "id": "iXKsRqZUkk9O"
   },
   "source": [
    "is equivalent to:"
   ]
  },
  {
   "cell_type": "code",
   "execution_count": 8,
   "metadata": {
    "colab": {
     "base_uri": "https://localhost:8080/"
    },
    "id": "iaDlQ7Mzkong",
    "outputId": "ba240ba0-c8a2-4eea-d85b-fbb2724bb3ae"
   },
   "outputs": [
    {
     "data": {
      "text/plain": [
       "increase_by_one (generic function with 1 method)"
      ]
     },
     "metadata": {},
     "output_type": "display_data"
    }
   ],
   "source": [
    "function increase_by_one(x)\n",
    "    x + 1\n",
    "end"
   ]
  },
  {
   "cell_type": "markdown",
   "metadata": {
    "id": "Fjt5CFRfktfK"
   },
   "source": [
    "For example, here's a shorter way to define the `π_approx4()` function in Julia:\n",
    "\\begin{equation}\n",
    "\\pi = \\sqrt{12} \\sum_0^\\infty {\\frac{(\\frac{-1}{3})^i}{2i+1} }\n",
    "\\end{equation}\n",
    "\n",
    "Also another way for calculating the number $\\pi$ is by $\\pi = 4 \\sum_{n = 0}^\\infty {\\frac{(-1)^n}{2n+1}}$"
   ]
  },
  {
   "cell_type": "code",
   "execution_count": 9,
   "metadata": {},
   "outputs": [
    {
     "data": {
      "text/plain": [
       "π_approx4 (generic function with 1 method)"
      ]
     },
     "metadata": {},
     "output_type": "display_data"
    }
   ],
   "source": [
    "π_approx4(n) = sqrt(12) * sum((isodd(i) ? -1 : 1) * (1/3)^i /(2 * i + 1) for i ∈ 0:n)"
   ]
  },
  {
   "cell_type": "code",
   "execution_count": 10,
   "metadata": {},
   "outputs": [
    {
     "name": "stdout",
     "output_type": "stream",
     "text": [
      "8.881784197001252e-6\n"
     ]
    }
   ],
   "source": [
    "println(10000000000*(π_approx4(100000)- π))"
   ]
  },
  {
   "cell_type": "markdown",
   "metadata": {
    "id": "UV29B5anEAFF"
   },
   "source": [
    "## Anonymous Functions\n",
    "Just like in Python, you can define anonymous functions:"
   ]
  },
  {
   "cell_type": "code",
   "execution_count": 11,
   "metadata": {
    "colab": {
     "base_uri": "https://localhost:8080/"
    },
    "id": "VAH0e6BjEJB2",
    "outputId": "6d2beb36-8fee-43f9-fac8-7ac30f708a75"
   },
   "outputs": [
    {
     "data": {
      "text/plain": [
       "4-element Vector{Int64}:\n",
       "  1\n",
       "  4\n",
       "  9\n",
       " 16"
      ]
     },
     "metadata": {},
     "output_type": "display_data"
    }
   ],
   "source": [
    "u(x) = x^2\n",
    "map(u, 1:4)"
   ]
  },
  {
   "cell_type": "markdown",
   "metadata": {
    "id": "RLy4-8trawqM"
   },
   "source": [
    "Here is the equivalent Python code:\n",
    "\n",
    "```python\n",
    "list(map(lambda x: x**2, range(1, 5)))\n",
    "```\n",
    "\n",
    "Notes:\n",
    "* `map()` returns an array in Julia, instead of an iterator like in Python.\n",
    "* You could use a comprehension instead: `[x^2 for x in 1:4]`."
   ]
  },
  {
   "cell_type": "markdown",
   "metadata": {
    "id": "7RcghJ-EEUjz"
   },
   "source": [
    "\n",
    "|Julia|Python\n",
    "|-----|------\n",
    "|`x -> x^2` | `lambda x: x**2`\n",
    "|`(x,y) -> x + y` | `lambda x,y: x + y `\n",
    "|`() -> println(\"yes\")` | `lambda: print(\"yes\")`\n"
   ]
  },
  {
   "cell_type": "markdown",
   "metadata": {
    "id": "jSYEdqYvF6XH"
   },
   "source": [
    "In Python, lambda functions must be simple expressions. They cannot contain multiple statements. In Julia, they can be as long as you want. Indeed, you can create a multi-statement block using the syntax `(stmt_1; stmt_2; ...; stmt_n)`. The return value is the output of the last statement. For example:"
   ]
  },
  {
   "cell_type": "code",
   "execution_count": 12,
   "metadata": {
    "colab": {
     "base_uri": "https://localhost:8080/"
    },
    "id": "SnuJMFymEbPp",
    "outputId": "80a60021-dd04-4aa0-e2ab-26befeec0d83"
   },
   "outputs": [
    {
     "name": "stdout",
     "output_type": "stream",
     "text": [
      "Number 1\n",
      "Number 2\n",
      "Number 3\n",
      "Number 4\n"
     ]
    },
    {
     "data": {
      "text/plain": [
       "4-element Vector{Int64}:\n",
       "  1\n",
       "  4\n",
       "  9\n",
       " 16"
      ]
     },
     "metadata": {},
     "output_type": "display_data"
    }
   ],
   "source": [
    "map(x -> (println(\"Number $x\"); x^2), 1:4)"
   ]
  },
  {
   "cell_type": "markdown",
   "metadata": {
    "id": "k1ztQt-VGz7p"
   },
   "source": [
    "This syntax can span multiple lines:"
   ]
  },
  {
   "cell_type": "code",
   "execution_count": 13,
   "metadata": {
    "colab": {
     "base_uri": "https://localhost:8080/"
    },
    "id": "H-XL-nysG67t",
    "outputId": "43f086b2-388c-4df8-f21b-816694404ac3"
   },
   "outputs": [
    {
     "name": "stdout",
     "output_type": "stream",
     "text": [
      "Number 1\n",
      "Number 2\n",
      "Number 3\n",
      "Number 4\n"
     ]
    },
    {
     "data": {
      "text/plain": [
       "4-element Vector{Int64}:\n",
       "  1\n",
       "  4\n",
       "  9\n",
       " 16"
      ]
     },
     "metadata": {},
     "output_type": "display_data"
    }
   ],
   "source": [
    "map(x -> (\n",
    "  println(\"Number $x\");\n",
    "  x^2;\n",
    "  ), 1:4)"
   ]
  },
  {
   "cell_type": "markdown",
   "metadata": {
    "id": "YZUU9OLdHEUX"
   },
   "source": [
    "But in this case, it's probably clearer to use the `begin ... end` syntax instead:"
   ]
  },
  {
   "cell_type": "code",
   "execution_count": 14,
   "metadata": {
    "colab": {
     "base_uri": "https://localhost:8080/"
    },
    "id": "t3LUgpigHJ3Z",
    "outputId": "38d42ee4-0760-489c-dac1-34c3e913e23a"
   },
   "outputs": [
    {
     "name": "stdout",
     "output_type": "stream",
     "text": [
      "Number 1\n",
      "Number 2\n",
      "Number 3\n",
      "Number 4\n"
     ]
    },
    {
     "data": {
      "text/plain": [
       "4-element Vector{Int64}:\n",
       "  1\n",
       "  4\n",
       "  9\n",
       " 16"
      ]
     },
     "metadata": {},
     "output_type": "display_data"
    }
   ],
   "source": [
    "map(x -> begin\n",
    "        println(\"Number $x\");\n",
    "        x^2;\n",
    "    end, 1:4)"
   ]
  },
  {
   "cell_type": "markdown",
   "metadata": {
    "id": "FQ5nX-AHIYUr"
   },
   "source": [
    "Notice that this syntax allows you to drop the semicolons `;` at the end of each line in the block.\n",
    "\n",
    "Yet another way to define an anonymous function is using the `function (args) ... end` syntax:"
   ]
  },
  {
   "cell_type": "code",
   "execution_count": 15,
   "metadata": {
    "colab": {
     "base_uri": "https://localhost:8080/"
    },
    "id": "vKAR1ucxIQzF",
    "outputId": "bc0f0ab0-0a10-4d9d-eb56-7e16f2d890a7"
   },
   "outputs": [
    {
     "name": "stdout",
     "output_type": "stream",
     "text": [
      "Number 1\n",
      "Number 2\n",
      "Number 3\n",
      "Number 4\n"
     ]
    },
    {
     "data": {
      "text/plain": [
       "4-element Vector{Int64}:\n",
       "  1\n",
       "  4\n",
       "  9\n",
       " 16"
      ]
     },
     "metadata": {},
     "output_type": "display_data"
    }
   ],
   "source": [
    "map(function (x)\n",
    "        println(\"Number $x\")\n",
    "        x^2\n",
    "    end, 1:4)"
   ]
  },
  {
   "cell_type": "markdown",
   "metadata": {
    "id": "SGBwAWJ7HQ78"
   },
   "source": [
    "Lastly, if you're passing the anonymous function as the first argument to a function (as is the case in this example), it's usually much preferable to define the anonymous function immediately after the function call, using the `do` syntax, like this:"
   ]
  },
  {
   "cell_type": "code",
   "execution_count": 16,
   "metadata": {
    "colab": {
     "base_uri": "https://localhost:8080/"
    },
    "id": "G60xP30UHW5F",
    "outputId": "bb032f19-03d9-407b-862b-931f69dd0254"
   },
   "outputs": [
    {
     "name": "stdout",
     "output_type": "stream",
     "text": [
      "Number 1\n",
      "Number 2\n",
      "Number 3\n",
      "Number 4\n"
     ]
    },
    {
     "data": {
      "text/plain": [
       "4-element Vector{Int64}:\n",
       "  1\n",
       "  4\n",
       "  9\n",
       " 16"
      ]
     },
     "metadata": {},
     "output_type": "display_data"
    }
   ],
   "source": [
    "map(1:4) do x\n",
    "  println(\"Number $x\")\n",
    "  x^2\n",
    "end"
   ]
  },
  {
   "cell_type": "markdown",
   "metadata": {
    "id": "vtsXFsLTJTpD"
   },
   "source": [
    "This syntax lets you easily define constructs that feel like language extensions:"
   ]
  },
  {
   "cell_type": "code",
   "execution_count": 17,
   "metadata": {
    "colab": {
     "base_uri": "https://localhost:8080/"
    },
    "id": "03Hru6aqIIgY",
    "outputId": "e45ca426-0640-44fe-e2f6-4aa4f697adbe"
   },
   "outputs": [
    {
     "name": "stdout",
     "output_type": "stream",
     "text": [
      "The square of 1 is 1\n",
      "The square of 2 is 4\n",
      "The square of 3 is 9\n",
      "The square of 4 is 16\n"
     ]
    }
   ],
   "source": [
    "function my_for(func, collection)\n",
    "    for i in collection\n",
    "        func(i)\n",
    "    end\n",
    "end\n",
    "\n",
    "my_for(1:4) do i\n",
    "    println(\"The square of $i is $(i^2)\")\n",
    "end"
   ]
  },
  {
   "cell_type": "markdown",
   "metadata": {
    "id": "scEsYrSt2jpA"
   },
   "source": [
    "## Piping\n",
    "If you are used to the Object Oriented syntax `\"a b c\".upper().split()`, you may feel that writing `split(uppercase(\"a b c\"))` is a bit backwards. If so, the piping operation `|>` is for you:"
   ]
  },
  {
   "cell_type": "code",
   "execution_count": 18,
   "metadata": {
    "colab": {
     "base_uri": "https://localhost:8080/"
    },
    "id": "wRrmVEWG24_f",
    "outputId": "fd08d0f9-22ed-4b61-c591-01a6486eacb7"
   },
   "outputs": [
    {
     "data": {
      "text/plain": [
       "3-element Vector{SubString{String}}:\n",
       " \"A\"\n",
       " \"B\"\n",
       " \"C\""
      ]
     },
     "metadata": {},
     "output_type": "display_data"
    }
   ],
   "source": [
    "\"a b c\" |> uppercase |> split"
   ]
  },
  {
   "cell_type": "markdown",
   "metadata": {
    "id": "c2Y1HRhG4S47"
   },
   "source": [
    "If you want to pass more than one argument to some of the functions, you can use anonymous functions:"
   ]
  },
  {
   "cell_type": "code",
   "execution_count": 19,
   "metadata": {
    "colab": {
     "base_uri": "https://localhost:8080/"
    },
    "id": "IzIFbaLQ4UCO",
    "outputId": "e6c9bcec-2f46-453c-d35b-ed5d08605168"
   },
   "outputs": [
    {
     "data": {
      "text/plain": [
       "\"A, B, C\""
      ]
     },
     "metadata": {},
     "output_type": "display_data"
    }
   ],
   "source": [
    "\"a b c\" |> uppercase |> split |> tokens->join(tokens, \", \")"
   ]
  },
  {
   "cell_type": "markdown",
   "metadata": {
    "id": "GcnKoRyHcGC6"
   },
   "source": [
    "The dotted version of the pipe operator works as you might expect, applying the _i_<sup>th</sup> function of the right array to the _i_<sup>th</sup> value in the left array:"
   ]
  },
  {
   "cell_type": "code",
   "execution_count": 20,
   "metadata": {
    "colab": {
     "base_uri": "https://localhost:8080/"
    },
    "id": "a7LytVDKbL_e",
    "outputId": "1b864093-5971-4335-c06f-9f2a7fdf4a68"
   },
   "outputs": [
    {
     "data": {
      "text/plain": [
       "3-element Vector{Real}:\n",
       "  1.0\n",
       "  5\n",
       " 16"
      ]
     },
     "metadata": {},
     "output_type": "display_data"
    }
   ],
   "source": [
    "[π/2, \"hello\", 4] .|> [sin, length, x->x^2]"
   ]
  },
  {
   "cell_type": "markdown",
   "metadata": {
    "id": "Czk5ZFOn3LDi"
   },
   "source": [
    "## Composition\n",
    "Julia also lets you compose functions like mathematicians do, using the composition operator ∘ (`\\circ<tab>` in the REPL or Jupyter, but not Colab):"
   ]
  },
  {
   "cell_type": "code",
   "execution_count": 21,
   "metadata": {
    "colab": {
     "base_uri": "https://localhost:8080/"
    },
    "id": "iK9UrlF2aU_y",
    "outputId": "4ce117b1-b260-45bb-c662-2d6379844cd9"
   },
   "outputs": [
    {
     "data": {
      "text/plain": [
       "true"
      ]
     },
     "metadata": {},
     "output_type": "display_data"
    }
   ],
   "source": [
    "f = exp ∘ sin ∘ sqrt\n",
    "ℯ ≈ f((π/2)^2)"
   ]
  },
  {
   "cell_type": "code",
   "execution_count": 22,
   "metadata": {
    "colab": {
     "base_uri": "https://localhost:8080/"
    },
    "id": "VxLP4dV4U0gm",
    "outputId": "c8830d10-f6a3-4e59-f451-840f20cf77b4"
   },
   "outputs": [
    {
     "name": "stdout",
     "output_type": "stream",
     "text": [
      "this is an inner function!\n"
     ]
    }
   ],
   "source": [
    "inner_function() = println(\"this is an inner function!\") #Define a simple function f\n",
    "\n",
    "g(any_func::Function) = any_func() #Define a function g that accepts any function as input and then calls that function\n",
    "\n",
    "g(inner_function) #Call g with f as the input\n"
   ]
  },
  {
   "cell_type": "code",
   "execution_count": 23,
   "metadata": {
    "colab": {
     "base_uri": "https://localhost:8080/"
    },
    "id": "jh4iXW8VTqMt",
    "outputId": "1d611ae3-9b46-4f30-91fe-420f64889ca4"
   },
   "outputs": [
    {
     "data": {
      "text/plain": [
       "4.0"
      ]
     },
     "metadata": {},
     "output_type": "display_data"
    }
   ],
   "source": [
    "g(x) = x^2\n",
    "h(argF::Function, x) = argF(x)\n",
    "x= 2.0\n",
    "h(g, x)"
   ]
  },
  {
   "cell_type": "markdown",
   "metadata": {
    "id": "tBKp4lciICdi"
   },
   "source": [
    "## Estimating π and ℯ\n",
    "\n",
    "Let's write our first function. It will estimate π using the equation:\n",
    "\\begin{equation}\n",
    "\\pi=\\sqrt{12} \\sum_{k=0}^{\\infty} \\frac{\\left(-\\frac{1}{3}\\right)^{k}}{2 k+1}=\\sqrt{12}\\left(1-\\frac{1}{3 \\cdot 3}+\\frac{1}{5 \\cdot 3^{2}}-\\frac{1}{7 \\cdot 3^{3}}+\\cdots\\right)\n",
    "\\end{equation}"
   ]
  },
  {
   "cell_type": "code",
   "execution_count": 24,
   "metadata": {
    "colab": {
     "base_uri": "https://localhost:8080/"
    },
    "id": "EPRfV4_XI2Rk",
    "outputId": "13f76c80-5b5b-4aae-b27e-0ebe1f1cfeac"
   },
   "outputs": [
    {
     "name": "stdout",
     "output_type": "stream",
     "text": [
      "π ≈ 3.141592653589794\n",
      "Error is 8.881784197001252e-16\n"
     ]
    }
   ],
   "source": [
    "function π_approx(n)\n",
    "    sum = 1.0\n",
    "    for i in 1:n\n",
    "        sum += (isodd(i) ? -1 : 1) * (1/3)^i / (2i + 1)\n",
    "    end\n",
    "    return sqrt(12.0) * sum\n",
    "end\n",
    "\n",
    "p = π_approx(100_000_000)\n",
    "println(\"π ≈ $p\")\n",
    "println(\"Error is $(p - π)\")"
   ]
  },
  {
   "cell_type": "code",
   "execution_count": 25,
   "metadata": {
    "id": "RhQ0pwIfl4up"
   },
   "outputs": [
    {
     "data": {
      "text/plain": [
       "π_approx_inline (generic function with 1 method)"
      ]
     },
     "metadata": {},
     "output_type": "display_data"
    }
   ],
   "source": [
    "π_approx_inline(n) = sqrt(12.0) * sum((isodd(i) ? -1 : 1) * (1/3)^i /(2i + 1) for i ∈ 0:n) "
   ]
  },
  {
   "cell_type": "markdown",
   "metadata": {
    "id": "zZl4GRE0LuEc"
   },
   "source": [
    "Pretty similar, right? But notice the small differences:\n",
    "\n",
    "|Julia|Python\n",
    "|-----|------\n",
    "|`function` | `def`\n",
    "|`for i in X`<br />&nbsp;&nbsp;&nbsp;&nbsp;`...`<br />`end` | `for i in X:`<br />&nbsp;&nbsp;&nbsp;&nbsp;`...`\n",
    "|`1:n` | `range(1, n+1)`\n",
    "|`cond ? a : b` | `a if cond else b`\n",
    "|`2i + 1` | `2 * i + 1`\n",
    "|`4s` | `return 4 * s`\n",
    "|`println(a, b)` | `print(a, b, sep=\"\")`\n",
    "|`print(a, b)` | `print(a, b, sep=\"\", end=\"\")`\n",
    "|`\"$p\"` | `f\"{p}\"`\n",
    "|`\"$(p - π)\"` | `f\"{p - math.pi}\"`\n",
    "\n",
    "This example shows that:\n",
    "* Julia can be just as concise and readable as Python.\n",
    "* Indentation in Julia is _not_ meaningful like it is in Python. Instead, blocks end with `end`.\n",
    "* Many math features are built in Julia and need no imports.\n",
    "* There's some mathy syntactic sugar, such as `2i` (but you can write `2 * i` if you prefer).\n",
    "* In Julia, the `return` keyword is optional at the end of a function. The result of the last expression is returned (`4s` in this example).\n",
    "* Julia loves Unicode and does not hesitate to use Unicode characters like `π`. However, there are generally plain-ASCII equivalents (e.g., `π == pi`)."
   ]
  },
  {
   "cell_type": "markdown",
   "metadata": {},
   "source": [
    "Now let's compute the Euler's number\n",
    "$$\n",
    "e=\\sum_{n=0}^{\\infty} \\frac{1}{n !}=1+\\frac{1}{1}+\\frac{1}{1 \\cdot 2}+\\frac{1}{1 \\cdot 2 \\cdot 3}+\\cdots\n",
    "$$"
   ]
  },
  {
   "cell_type": "code",
   "execution_count": 26,
   "metadata": {},
   "outputs": [
    {
     "data": {
      "text/plain": [
       "ℯ_approx1 (generic function with 1 method)"
      ]
     },
     "metadata": {},
     "output_type": "display_data"
    }
   ],
   "source": [
    "function ℯ_approx1(n)\n",
    "    sum = 1.0\n",
    "    factorial = 1.0\n",
    "    for i in 1:n\n",
    "        factorial *= i\n",
    "        sum += 1 / factorial\n",
    "    end\n",
    "    return sum\n",
    "end"
   ]
  },
  {
   "cell_type": "code",
   "execution_count": 27,
   "metadata": {
    "id": "ZYYN12HKjUat"
   },
   "outputs": [
    {
     "data": {
      "text/plain": [
       "ℯ_approx2 (generic function with 1 method)"
      ]
     },
     "metadata": {},
     "output_type": "display_data"
    }
   ],
   "source": [
    "function ℯ_approx2(n)\n",
    "    s = 0.0\n",
    "    for i in 0:n \n",
    "        s += 1 / factorial(i)\n",
    "    end\n",
    "    return s\n",
    "end"
   ]
  },
  {
   "cell_type": "code",
   "execution_count": 28,
   "metadata": {},
   "outputs": [
    {
     "data": {
      "text/plain": [
       "ℯ_approx3 (generic function with 1 method)"
      ]
     },
     "metadata": {},
     "output_type": "display_data"
    }
   ],
   "source": [
    "function ℯ_approx3(n)\n",
    "    s = 0.0\n",
    "    for i in 0:n\n",
    "        s += 1 / factorial(big(i))\n",
    "    end\n",
    "    return s    \n",
    "end"
   ]
  },
  {
   "cell_type": "code",
   "execution_count": 29,
   "metadata": {},
   "outputs": [
    {
     "name": "stdout",
     "output_type": "stream",
     "text": [
      "  0.009613 seconds (3.16 k allocations: 212.047 KiB, 99.60% compilation time)\n",
      "4.440892098500626e-16\n"
     ]
    },
    {
     "ename": "OverflowError",
     "evalue": "OverflowError: 21 is too large to look up in the table; consider using `factorial(big(21))` instead",
     "output_type": "error",
     "traceback": [
      "OverflowError: 21 is too large to look up in the table; consider using `factorial(big(21))` instead\n",
      "\n",
      "Stacktrace:\n",
      " [1] factorial_lookup\n",
      "   @ .\\combinatorics.jl:19 [inlined]\n",
      " [2] factorial\n",
      "   @ .\\combinatorics.jl:27 [inlined]\n",
      " [3] ℯ_approx2(n::Int64)\n",
      "   @ Main c:\\Users\\Hamid\\Downloads\\IntroJuliaPython\\julia\\jl_notebook_cell_df34fa98e69747e1a8f8a730347b8e2f_Y105sZmlsZQ==.jl:4\n",
      " [4] macro expansion\n",
      "   @ .\\timing.jl:279 [inlined]\n",
      " [5] top-level scope\n",
      "   @ c:\\Users\\Hamid\\Downloads\\IntroJuliaPython\\julia\\jl_notebook_cell_df34fa98e69747e1a8f8a730347b8e2f_Y110sZmlsZQ==.jl:7"
     ]
    }
   ],
   "source": [
    "n = 21\n",
    "\n",
    "@time ℯ_approx1(n)\n",
    "error1 = ℯ_approx1(n) - ℯ\n",
    "println(error1)\n",
    "\n",
    "@time ℯ_approx2(n)\n",
    "error2 = ℯ_approx2(n) - ℯ\n",
    "println(error2)\n",
    "\n",
    "@time ℯ_approx3(n)\n",
    "error2 = ℯ_approx2(n) - ℯ\n",
    "println(error2)"
   ]
  },
  {
   "cell_type": "code",
   "execution_count": 30,
   "metadata": {
    "id": "sRoT3AAClIV0"
   },
   "outputs": [
    {
     "data": {
      "text/plain": [
       "-1.381786968815111140061816298048063931378560058309805021603792555226974688505988e-76"
      ]
     },
     "metadata": {},
     "output_type": "display_data"
    }
   ],
   "source": [
    "ℯ_approx_inline(n) = sum(1/factorial(big(i)) for i in 0:n)\n",
    "\n",
    "ℯ_approx_inline(100) - ℯ"
   ]
  },
  {
   "cell_type": "markdown",
   "metadata": {
    "id": "0CnQq32IaDGD"
   },
   "source": [
    "## PyCall\n",
    "Julia lets you easily run Python code using the `PyCall` module. We installed it earlier, so we just need to import it:"
   ]
  },
  {
   "cell_type": "code",
   "execution_count": 31,
   "metadata": {},
   "outputs": [
    {
     "name": "stderr",
     "output_type": "stream",
     "text": [
      "┌ Warning: could not download https://pkg.julialang.org/registries\n",
      "│   exception = Downloads.RequestError(\"https://pkg.julialang.org/registries\", 6, \"Could not resolve host: pkg.julialang.org\", Downloads.Response(nothing, \"https://pkg.julialang.org/registries\", 0, \"\", Pair{String, String}[]))\n",
      "└ @ Pkg.Registry C:\\Users\\Hamid\\AppData\\Local\\Programs\\Julia-1.10.5\\share\\julia\\stdlib\\v1.10\\Pkg\\src\\Registry\\Registry.jl:69\n",
      "\u001b[32m\u001b[1m    Updating\u001b[22m\u001b[39m registry at `C:\\Users\\Hamid\\.julia\\registries\\General.toml`\n",
      "\u001b[32m\u001b[1m   Resolving\u001b[22m\u001b[39m package versions...\n",
      "\u001b[32m\u001b[1m  No Changes\u001b[22m\u001b[39m to `C:\\Users\\Hamid\\.julia\\environments\\v1.10\\Project.toml`\n",
      "\u001b[32m\u001b[1m  No Changes\u001b[22m\u001b[39m to `C:\\Users\\Hamid\\.julia\\environments\\v1.10\\Manifest.toml`\n"
     ]
    }
   ],
   "source": [
    "using Pkg\n",
    "Pkg.add(\"PyCall\")\n",
    "using PyCall"
   ]
  },
  {
   "cell_type": "markdown",
   "metadata": {
    "id": "x7Qk9ht-d8Vo"
   },
   "source": [
    "Now that we have imported `PyCall`, we can use the `pyimport()` function to import a Python module directly in Julia! For example, let's check which Python version we are using:"
   ]
  },
  {
   "cell_type": "code",
   "execution_count": 32,
   "metadata": {
    "colab": {
     "base_uri": "https://localhost:8080/"
    },
    "id": "LlB4nMZVeZmY",
    "outputId": "09f90cc6-6bfd-44a2-cf9a-4542b19e5e0a"
   },
   "outputs": [
    {
     "data": {
      "text/plain": [
       "2025-09-22"
      ]
     },
     "metadata": {},
     "output_type": "display_data"
    }
   ],
   "source": [
    "date_time_now = pyimport(\"datetime\")\n",
    "date_time_now.date.today()"
   ]
  },
  {
   "cell_type": "markdown",
   "metadata": {
    "id": "YwM2lGhmjIAA"
   },
   "source": [
    "In fact, let's run the Python code we discussed earlier (this will take about 15 seconds to run, because Python is so slow...):"
   ]
  },
  {
   "cell_type": "code",
   "execution_count": 33,
   "metadata": {
    "id": "MrhaObEaJ_sB"
   },
   "outputs": [],
   "source": [
    "py\"\"\"\n",
    "import math\n",
    " \n",
    "def my_function(x):\n",
    "    return 2*x\n",
    " \n",
    "function_output = my_function(10)\n",
    "\"\"\""
   ]
  },
  {
   "cell_type": "markdown",
   "metadata": {
    "id": "PHemaGjSja7O"
   },
   "source": [
    "As you can see, running arbitrary Python code is as simple as using py-strings (`py\"...\"`). Note that py-strings are not part of the Julia language itself: they are defined by the `PyCall` module (we will see how this works later)."
   ]
  },
  {
   "cell_type": "code",
   "execution_count": 34,
   "metadata": {
    "colab": {
     "base_uri": "https://localhost:8080/"
    },
    "id": "5z_QlxhJLRJ5",
    "outputId": "1bfde083-22a6-4bc8-92ee-86d6fb02aec1"
   },
   "outputs": [
    {
     "data": {
      "text/plain": [
       "20"
      ]
     },
     "metadata": {},
     "output_type": "display_data"
    }
   ],
   "source": [
    "py\"function_output\""
   ]
  },
  {
   "cell_type": "code",
   "execution_count": 35,
   "metadata": {
    "colab": {
     "base_uri": "https://localhost:8080/"
    },
    "id": "uXSDig4XrKyS",
    "outputId": "6f992155-e682-4ebd-8f88-30fba38af720"
   },
   "outputs": [
    {
     "data": {
      "text/plain": [
       "0.0"
      ]
     },
     "metadata": {},
     "output_type": "display_data"
    }
   ],
   "source": [
    "np = pyimport(\"numpy\")\n",
    "a = np.sin(0.0)"
   ]
  },
  {
   "cell_type": "markdown",
   "metadata": {
    "id": "zPMwgIaeyRBh"
   },
   "source": [
    "Notice that `PyCall` automatically converts some Python types to Julia types, including NumPy arrays. That's really quite convenient! Note that Julia supports multi-dimensional arrays (analog to NumPy arrays) out of the box. `Array{Float64, 2}` means that it's a 2-dimensional array of 64-bit floats."
   ]
  },
  {
   "cell_type": "code",
   "execution_count": 36,
   "metadata": {
    "colab": {
     "base_uri": "https://localhost:8080/"
    },
    "id": "aWAC4wxqrxCb",
    "outputId": "cd1b5248-ca8f-48f4-9565-72c4b7298e40"
   },
   "outputs": [
    {
     "data": {
      "text/plain": [
       "Float64"
      ]
     },
     "metadata": {},
     "output_type": "display_data"
    }
   ],
   "source": [
    "exp_a = np.exp(a)\n",
    "typeof(exp_a)"
   ]
  },
  {
   "cell_type": "markdown",
   "metadata": {
    "id": "gy8gZ8pp3Z0n"
   },
   "source": [
    "If you want to use some Julia variable in a py-string, for example `exp_a`, you can do so by writing `$exp_a` like this:"
   ]
  },
  {
   "cell_type": "code",
   "execution_count": 37,
   "metadata": {
    "colab": {
     "base_uri": "https://localhost:8080/"
    },
    "id": "dxQ25HpJ3oPA",
    "outputId": "b98b920d-e1a0-4af8-cbe9-a33c67a98f20"
   },
   "outputs": [
    {
     "data": {
      "text/plain": [
       "0.0"
      ]
     },
     "metadata": {},
     "output_type": "display_data"
    }
   ],
   "source": [
    "py\"\"\"\n",
    "import numpy as np\n",
    "\n",
    "result = np.sin($a)\n",
    "\"\"\"\n",
    "\n",
    "py\"result\""
   ]
  },
  {
   "cell_type": "markdown",
   "metadata": {
    "id": "jtxk8kebxFdM"
   },
   "source": [
    "If you want to keep using Matplotlib, it's best to use the `PyPlot` module (which we installed earlier), rather than trying to use `pyimport(\"matplotlib\")`, as `PyPlot` provides a more straightforward interface with Julia, and it plays nicely with Jupyter and Colab:"
   ]
  },
  {
   "cell_type": "code",
   "execution_count": 38,
   "metadata": {},
   "outputs": [],
   "source": [
    "using Plots"
   ]
  },
  {
   "cell_type": "code",
   "execution_count": 39,
   "metadata": {
    "colab": {
     "base_uri": "https://localhost:8080/",
     "height": 452
    },
    "id": "gyHkEL7ExPg2",
    "outputId": "8ddd3d91-c679-4a0d-debf-4ce57a2e7d2a"
   },
   "outputs": [
    {
     "name": "stderr",
     "output_type": "stream",
     "text": [
      "sys:1: UserWarning: Matplotlib is currently using agg, which is a non-GUI backend, so cannot show the figure.\n"
     ]
    }
   ],
   "source": [
    "using PyPlot\n",
    "\n",
    "x = range(-10π, 10π, length=100)\n",
    "plt.plot(x, sin.(x) ./ x) # we'll discuss this syntax in the next section\n",
    "plt.title(\"sin(x) / x\")\n",
    "plt.grid(\"True\")\n",
    "plt.show()"
   ]
  },
  {
   "cell_type": "markdown",
   "metadata": {
    "id": "b42BIiqN6JM_"
   },
   "source": [
    "That said, Julia has its own plotting libraries, such as the `Plots` library, which you may want to check out."
   ]
  },
  {
   "cell_type": "markdown",
   "metadata": {
    "id": "FGStdgNK9IG1"
   },
   "source": [
    "As you can see, Julia's `range()` function acts much like NumPy's `linspace()` function, when you use the `length` argument. However, it acts like Python's `range()` function when you use the `step` argument instead (except the upper bound is inclusive). Julia's `range()` function returns an object which behaves just like an array, except it doesn't actually use any RAM for its elements, it just stores the range parameters. If you want to collect all of the elements into an array, use the `collect()` function (similar to Python's `list()` function):"
   ]
  },
  {
   "cell_type": "code",
   "execution_count": 40,
   "metadata": {
    "colab": {
     "base_uri": "https://localhost:8080/"
    },
    "id": "h728H-f9-rC_",
    "outputId": "7c7e2a11-fff6-4362-bb62-5f9e9743752f"
   },
   "outputs": [
    {
     "name": "stdout",
     "output_type": "stream",
     "text": [
      "[10, 30, 50, 70]\n",
      "[10, 30, 50, 70]\n",
      "[10.0, 27.5, 45.0, 62.5, 80.0]\n",
      "[10.0, 27.5, 45.0, 62.5, 80.0]\n"
     ]
    }
   ],
   "source": [
    "println(collect(range(10, 80, step=20)))\n",
    "println(collect(10:20:80)) # 10:20:80 is equivalent to the previous range\n",
    "println(collect(range(10, 80, length=5))) # similar to NumPy's linspace()\n",
    "step = (80-10)/(5-1) # 17.5\n",
    "println(collect(10:step:80)) # equivalent to the previous range"
   ]
  },
  {
   "cell_type": "markdown",
   "metadata": {
    "id": "gAU4t9zl72PW"
   },
   "source": [
    "The equivalent Python code is:\n",
    "\n",
    "```python\n",
    "# PYTHON\n",
    "print(list(range(10, 80+1, 20)))\n",
    "# there's no short-hand for range() in Python\n",
    "print(np.linspace(10, 80, 5))\n",
    "step = (80-10)/(5-1) # 17.5\n",
    "print([i*step + 10 for i in range(5)])\n",
    "```"
   ]
  },
  {
   "cell_type": "markdown",
   "metadata": {
    "id": "ucA1zMkw-n_U"
   },
   "source": [
    "|Julia|Python\n",
    "|-----|------\n",
    "|`np = pyimport(\"numpy\")` | `import numpy as np`\n",
    "|`using PyPlot` | `from pylab import *`\n",
    "|`1:10` | `range(1, 11)`\n",
    "|`1:2:10`<br />or<br />`range(1, 11, 2)` | `range(1, 11, 2)`\n",
    "|`1.2:0.5:10.3`<br />or<br />`range(1.2, 10.3, step=0.5)` | `np.arange(1.2, 10.3, 0.5)`\n",
    "|`range(1, 10, length=3)` | `np.linspace(1, 10, 3)`\n",
    "|`collect(1:5)`<br />or<br />`[i for i in 1:5]` | `list(range(1, 6))`<br />or<br />`[i for i in range(1, 6)]`\n",
    "\n"
   ]
  },
  {
   "cell_type": "code",
   "execution_count": 41,
   "metadata": {
    "id": "D3i2IcDXkiM5"
   },
   "outputs": [
    {
     "data": {
      "text/plain": [
       "2.7182818284590455"
      ]
     },
     "metadata": {},
     "output_type": "display_data"
    }
   ],
   "source": [
    "py\"\"\"\n",
    "import math\n",
    "\n",
    "def e_approx_py(n):\n",
    "    sum = 1.0\n",
    "    factorial = 1.0\n",
    "    for i in range(1, n):\n",
    "        factorial *= i\n",
    "        sum += 1/factorial\n",
    "    return sum\n",
    "\n",
    "e_py = e_approx_py(1_000_000) \n",
    "\"\"\"\n",
    "\n",
    "py\"e_py\""
   ]
  },
  {
   "cell_type": "code",
   "execution_count": 42,
   "metadata": {
    "id": "7Hq8WWDMkqW2"
   },
   "outputs": [
    {
     "name": "stdout",
     "output_type": "stream",
     "text": [
      "  0.002427 seconds\n"
     ]
    },
    {
     "data": {
      "text/plain": [
       "2.7182818284590455"
      ]
     },
     "metadata": {},
     "output_type": "display_data"
    }
   ],
   "source": [
    "@time ℯ_approx1(1_000_000)"
   ]
  },
  {
   "cell_type": "code",
   "execution_count": 43,
   "metadata": {
    "id": "KTNUt1eXksix"
   },
   "outputs": [
    {
     "data": {
      "text/plain": [
       "0.18884180003078654"
      ]
     },
     "metadata": {},
     "output_type": "display_data"
    }
   ],
   "source": [
    "py\"\"\"\n",
    "from timeit import timeit\n",
    "duration_e_py = timeit(\"e_approx_py(1000000)\", number = 1, globals = globals())\n",
    "\"\"\"\n",
    "\n",
    "py\"duration_e_py\""
   ]
  },
  {
   "cell_type": "code",
   "execution_count": 44,
   "metadata": {},
   "outputs": [],
   "source": [
    "using BenchmarkTools"
   ]
  },
  {
   "cell_type": "code",
   "execution_count": 45,
   "metadata": {
    "id": "t_VK9_bumsWN"
   },
   "outputs": [
    {
     "data": {
      "text/plain": [
       "BenchmarkTools.Trial: 1787 samples with 1 evaluation.\n",
       " Range \u001b[90m(\u001b[39m\u001b[36m\u001b[1mmin\u001b[22m\u001b[39m … \u001b[35mmax\u001b[39m\u001b[90m):  \u001b[39m\u001b[36m\u001b[1m1.431 ms\u001b[22m\u001b[39m … \u001b[35m 13.852 ms\u001b[39m  \u001b[90m┊\u001b[39m GC \u001b[90m(\u001b[39mmin … max\u001b[90m): \u001b[39m0.00% … 0.00%\n",
       " Time  \u001b[90m(\u001b[39m\u001b[34m\u001b[1mmedian\u001b[22m\u001b[39m\u001b[90m):     \u001b[39m\u001b[34m\u001b[1m2.387 ms               \u001b[22m\u001b[39m\u001b[90m┊\u001b[39m GC \u001b[90m(\u001b[39mmedian\u001b[90m):    \u001b[39m0.00%\n",
       " Time  \u001b[90m(\u001b[39m\u001b[32m\u001b[1mmean\u001b[22m\u001b[39m ± \u001b[32mσ\u001b[39m\u001b[90m):   \u001b[39m\u001b[32m\u001b[1m2.740 ms\u001b[22m\u001b[39m ± \u001b[32m911.081 μs\u001b[39m  \u001b[90m┊\u001b[39m GC \u001b[90m(\u001b[39mmean ± σ\u001b[90m):  \u001b[39m0.00% ± 0.00%\n",
       "\n",
       "  \u001b[39m▂\u001b[39m \u001b[39m \u001b[39m \u001b[39m \u001b[39m \u001b[39m \u001b[39m \u001b[39m \u001b[39m \u001b[39m▁\u001b[39m \u001b[34m█\u001b[39m\u001b[39m▃\u001b[39m▂\u001b[39m▁\u001b[39m▂\u001b[32m▁\u001b[39m\u001b[39m▃\u001b[39m▂\u001b[39m▂\u001b[39m▁\u001b[39m▁\u001b[39m \u001b[39m \u001b[39m \u001b[39m \u001b[39m \u001b[39m \u001b[39m \u001b[39m \u001b[39m \u001b[39m \u001b[39m \u001b[39m \u001b[39m \u001b[39m \u001b[39m \u001b[39m \u001b[39m \u001b[39m \u001b[39m \u001b[39m \u001b[39m \u001b[39m \u001b[39m \u001b[39m \u001b[39m \u001b[39m \u001b[39m \u001b[39m \u001b[39m \u001b[39m \u001b[39m \u001b[39m \u001b[39m \u001b[39m \u001b[39m \u001b[39m \u001b[39m \u001b[39m \n",
       "  \u001b[39m█\u001b[39m▇\u001b[39m▇\u001b[39m▆\u001b[39m▇\u001b[39m▇\u001b[39m▇\u001b[39m█\u001b[39m▇\u001b[39m▇\u001b[39m█\u001b[39m▇\u001b[34m█\u001b[39m\u001b[39m█\u001b[39m█\u001b[39m█\u001b[39m█\u001b[32m█\u001b[39m\u001b[39m█\u001b[39m█\u001b[39m█\u001b[39m█\u001b[39m█\u001b[39m█\u001b[39m█\u001b[39m█\u001b[39m█\u001b[39m█\u001b[39m█\u001b[39m█\u001b[39m▆\u001b[39m▇\u001b[39m▆\u001b[39m▆\u001b[39m▇\u001b[39m▆\u001b[39m▇\u001b[39m▅\u001b[39m▅\u001b[39m▅\u001b[39m▃\u001b[39m▅\u001b[39m▆\u001b[39m▅\u001b[39m▅\u001b[39m▄\u001b[39m▅\u001b[39m▃\u001b[39m▄\u001b[39m▃\u001b[39m▃\u001b[39m▃\u001b[39m▅\u001b[39m▃\u001b[39m▃\u001b[39m▄\u001b[39m▅\u001b[39m▄\u001b[39m▃\u001b[39m \u001b[39m█\n",
       "  1.43 ms\u001b[90m      \u001b[39m\u001b[90mHistogram: \u001b[39m\u001b[90m\u001b[1mlog(\u001b[22m\u001b[39m\u001b[90mfrequency\u001b[39m\u001b[90m\u001b[1m)\u001b[22m\u001b[39m\u001b[90m by time\u001b[39m      5.95 ms \u001b[0m\u001b[1m<\u001b[22m\n",
       "\n",
       " Memory estimate\u001b[90m: \u001b[39m\u001b[33m0 bytes\u001b[39m, allocs estimate\u001b[90m: \u001b[39m\u001b[33m0\u001b[39m."
      ]
     },
     "metadata": {},
     "output_type": "display_data"
    }
   ],
   "source": [
    "@benchmark ℯ_approx1(1_000_000)"
   ]
  },
  {
   "cell_type": "code",
   "execution_count": 46,
   "metadata": {},
   "outputs": [
    {
     "data": {
      "text/plain": [
       "BenchmarkTools.Trial: 10000 samples with 1 evaluation.\n",
       " Range \u001b[90m(\u001b[39m\u001b[36m\u001b[1mmin\u001b[22m\u001b[39m … \u001b[35mmax\u001b[39m\u001b[90m):  \u001b[39m\u001b[36m\u001b[1m107.000 μs\u001b[22m\u001b[39m … \u001b[35m 2.560 ms\u001b[39m  \u001b[90m┊\u001b[39m GC \u001b[90m(\u001b[39mmin … max\u001b[90m): \u001b[39m0.00% … 0.00%\n",
       " Time  \u001b[90m(\u001b[39m\u001b[34m\u001b[1mmedian\u001b[22m\u001b[39m\u001b[90m):     \u001b[39m\u001b[34m\u001b[1m153.100 μs              \u001b[22m\u001b[39m\u001b[90m┊\u001b[39m GC \u001b[90m(\u001b[39mmedian\u001b[90m):    \u001b[39m0.00%\n",
       " Time  \u001b[90m(\u001b[39m\u001b[32m\u001b[1mmean\u001b[22m\u001b[39m ± \u001b[32mσ\u001b[39m\u001b[90m):   \u001b[39m\u001b[32m\u001b[1m181.346 μs\u001b[22m\u001b[39m ± \u001b[32m92.112 μs\u001b[39m  \u001b[90m┊\u001b[39m GC \u001b[90m(\u001b[39mmean ± σ\u001b[90m):  \u001b[39m0.00% ± 0.00%\n",
       "\n",
       "  \u001b[39m▅\u001b[39m▄\u001b[39m▂\u001b[39m▃\u001b[39m▆\u001b[39m█\u001b[34m▇\u001b[39m\u001b[39m▅\u001b[39m▄\u001b[39m▄\u001b[32m▄\u001b[39m\u001b[39m▃\u001b[39m▃\u001b[39m▃\u001b[39m▂\u001b[39m▂\u001b[39m▂\u001b[39m▂\u001b[39m▂\u001b[39m▂\u001b[39m▁\u001b[39m▁\u001b[39m▁\u001b[39m \u001b[39m \u001b[39m \u001b[39m \u001b[39m \u001b[39m \u001b[39m \u001b[39m \u001b[39m \u001b[39m \u001b[39m \u001b[39m \u001b[39m \u001b[39m \u001b[39m \u001b[39m \u001b[39m \u001b[39m \u001b[39m \u001b[39m \u001b[39m \u001b[39m \u001b[39m \u001b[39m \u001b[39m \u001b[39m \u001b[39m \u001b[39m \u001b[39m \u001b[39m \u001b[39m \u001b[39m \u001b[39m \u001b[39m \u001b[39m \u001b[39m \u001b[39m \u001b[39m \u001b[39m▂\n",
       "  \u001b[39m█\u001b[39m█\u001b[39m█\u001b[39m█\u001b[39m█\u001b[39m█\u001b[34m█\u001b[39m\u001b[39m█\u001b[39m█\u001b[39m█\u001b[32m█\u001b[39m\u001b[39m█\u001b[39m█\u001b[39m█\u001b[39m█\u001b[39m█\u001b[39m█\u001b[39m█\u001b[39m█\u001b[39m█\u001b[39m█\u001b[39m█\u001b[39m█\u001b[39m█\u001b[39m█\u001b[39m█\u001b[39m█\u001b[39m█\u001b[39m█\u001b[39m█\u001b[39m▇\u001b[39m▇\u001b[39m▇\u001b[39m▇\u001b[39m▇\u001b[39m▇\u001b[39m▇\u001b[39m▇\u001b[39m▆\u001b[39m▆\u001b[39m▆\u001b[39m▆\u001b[39m▇\u001b[39m▇\u001b[39m▆\u001b[39m▇\u001b[39m▅\u001b[39m▆\u001b[39m▆\u001b[39m▄\u001b[39m▆\u001b[39m▆\u001b[39m▅\u001b[39m▄\u001b[39m▅\u001b[39m▅\u001b[39m▄\u001b[39m▄\u001b[39m▆\u001b[39m▅\u001b[39m \u001b[39m█\n",
       "  107 μs\u001b[90m        \u001b[39m\u001b[90mHistogram: \u001b[39m\u001b[90m\u001b[1mlog(\u001b[22m\u001b[39m\u001b[90mfrequency\u001b[39m\u001b[90m\u001b[1m)\u001b[22m\u001b[39m\u001b[90m by time\u001b[39m       561 μs \u001b[0m\u001b[1m<\u001b[22m\n",
       "\n",
       " Memory estimate\u001b[90m: \u001b[39m\u001b[33m55.59 KiB\u001b[39m, allocs estimate\u001b[90m: \u001b[39m\u001b[33m1538\u001b[39m."
      ]
     },
     "metadata": {},
     "output_type": "display_data"
    }
   ],
   "source": [
    "@benchmark ℯ_approx3(100)"
   ]
  },
  {
   "cell_type": "markdown",
   "metadata": {
    "id": "1iiE76xA8pwr"
   },
   "source": [
    "## Loop Fusion\n",
    "Did you notice that we wrote `sin.(x) ./ x` (not `sin(x) / x`)? This is equivalent to `[sin(i) / i for i in x]`."
   ]
  },
  {
   "cell_type": "code",
   "execution_count": 47,
   "metadata": {
    "id": "kjXg63Hmd2ux"
   },
   "outputs": [],
   "source": [
    "a = sin.(x) ./ x\n",
    "b = [sin(i) / i for i in x]\n",
    "@assert all(a == b)"
   ]
  },
  {
   "cell_type": "markdown",
   "metadata": {
    "id": "wX26wG02d1KI"
   },
   "source": [
    " This is not just syntactic sugar: it's actually a very powerful Julia feature. Indeed, notice that the array only gets traversed once. Even if we chained more than two dotted operations, the array would still only get traversed once. This is called _loop fusion_.\n",
    "\n",
    "In contrast, when using NumPy arrays, `sin(x) / x` first computes a temporary array containing `sin(x)` and then it computes the final array. Two loops and two arrays instead of one. NumPy is implemented in C, and has been heavily optimized, but if you chain many operations, it still ends up being slower and using more RAM than Julia.\n",
    "\n",
    "However, all the extra dots can sometimes make the code a bit harder to read. To avoid that, you can write `@.` before an expression: every operation will be \"dotted\" automatically, like this:"
   ]
  },
  {
   "cell_type": "code",
   "execution_count": 48,
   "metadata": {
    "id": "raOw65bd-Qeg"
   },
   "outputs": [],
   "source": [
    "a = @. sin(x) / x\n",
    "b = sin.(x) ./ x\n",
    "@assert all(a == b)"
   ]
  },
  {
   "cell_type": "markdown",
   "metadata": {
    "id": "6ys5cFYaogb2"
   },
   "source": [
    "**Note**: Julia's `@assert` statement starts with an `@` sign, just like `@.`, which means that they are macros. In Julia, macros are very powerful metaprogramming tools: a macro is evaluated at parse time, and it can inspect the expression that follows it and then transform it, or even replace it. In practice, you will often _use_ macros, but you will rarely _define_ your own. I'll come back to macros later."
   ]
  },
  {
   "cell_type": "markdown",
   "metadata": {
    "id": "MQ1U3aAwk5iD"
   },
   "source": [
    "## Julia is fast!\n",
    "Let's compare the Julia and Python implementations of the `π_approx()` function:"
   ]
  },
  {
   "cell_type": "code",
   "execution_count": 49,
   "metadata": {
    "colab": {
     "base_uri": "https://localhost:8080/"
    },
    "id": "pXQbFKYgk9gG",
    "outputId": "40986449-f922-438d-b692-b83be3a7ed36"
   },
   "outputs": [
    {
     "name": "stdout",
     "output_type": "stream",
     "text": [
      "  0.199421 seconds\n"
     ]
    }
   ],
   "source": [
    "@time π_approx(1_000_000);"
   ]
  },
  {
   "cell_type": "markdown",
   "metadata": {
    "id": "2B7Vu5lepqOW"
   },
   "source": [
    "To get a more precise benchmark, it's preferable to use the `BenchmarkTools` module. Just like Python's `timeit` module, it provides tools to benchmark code by running it multiple times. This provides a better estimate of how long each call takes:"
   ]
  },
  {
   "cell_type": "code",
   "execution_count": 50,
   "metadata": {
    "colab": {
     "base_uri": "https://localhost:8080/"
    },
    "id": "xK4b8X_cppNQ",
    "outputId": "795e3b0f-a1b7-4eb9-f62a-a64ef5b02222"
   },
   "outputs": [
    {
     "data": {
      "text/plain": [
       "BenchmarkTools.Trial: 31 samples with 1 evaluation.\n",
       " Range \u001b[90m(\u001b[39m\u001b[36m\u001b[1mmin\u001b[22m\u001b[39m … \u001b[35mmax\u001b[39m\u001b[90m):  \u001b[39m\u001b[36m\u001b[1m144.870 ms\u001b[22m\u001b[39m … \u001b[35m188.878 ms\u001b[39m  \u001b[90m┊\u001b[39m GC \u001b[90m(\u001b[39mmin … max\u001b[90m): \u001b[39m0.00% … 0.00%\n",
       " Time  \u001b[90m(\u001b[39m\u001b[34m\u001b[1mmedian\u001b[22m\u001b[39m\u001b[90m):     \u001b[39m\u001b[34m\u001b[1m165.152 ms               \u001b[22m\u001b[39m\u001b[90m┊\u001b[39m GC \u001b[90m(\u001b[39mmedian\u001b[90m):    \u001b[39m0.00%\n",
       " Time  \u001b[90m(\u001b[39m\u001b[32m\u001b[1mmean\u001b[22m\u001b[39m ± \u001b[32mσ\u001b[39m\u001b[90m):   \u001b[39m\u001b[32m\u001b[1m164.923 ms\u001b[22m\u001b[39m ± \u001b[32m 10.781 ms\u001b[39m  \u001b[90m┊\u001b[39m GC \u001b[90m(\u001b[39mmean ± σ\u001b[90m):  \u001b[39m0.00% ± 0.00%\n",
       "\n",
       "  \u001b[39m \u001b[39m \u001b[39m \u001b[39m \u001b[39m \u001b[39m \u001b[39m \u001b[39m \u001b[39m \u001b[39m \u001b[39m \u001b[39m \u001b[39m \u001b[39m \u001b[39m \u001b[39m \u001b[39m▃\u001b[39m \u001b[39m \u001b[39m \u001b[39m \u001b[39m \u001b[39m▃\u001b[39m \u001b[39m \u001b[39m \u001b[39m \u001b[34m \u001b[39m\u001b[32m█\u001b[39m\u001b[39m \u001b[39m \u001b[39m \u001b[39m \u001b[39m \u001b[39m▃\u001b[39m \u001b[39m \u001b[39m \u001b[39m \u001b[39m▃\u001b[39m \u001b[39m \u001b[39m \u001b[39m \u001b[39m \u001b[39m \u001b[39m \u001b[39m \u001b[39m \u001b[39m \u001b[39m \u001b[39m \u001b[39m \u001b[39m \u001b[39m \u001b[39m \u001b[39m \u001b[39m \u001b[39m \u001b[39m \u001b[39m \u001b[39m \u001b[39m \n",
       "  \u001b[39m▇\u001b[39m▁\u001b[39m▁\u001b[39m▇\u001b[39m▁\u001b[39m▇\u001b[39m▁\u001b[39m▇\u001b[39m▁\u001b[39m▁\u001b[39m▇\u001b[39m▁\u001b[39m▁\u001b[39m▁\u001b[39m▇\u001b[39m▁\u001b[39m█\u001b[39m▇\u001b[39m▁\u001b[39m▁\u001b[39m▁\u001b[39m▇\u001b[39m█\u001b[39m▇\u001b[39m▇\u001b[39m▁\u001b[39m▇\u001b[34m▁\u001b[39m\u001b[32m█\u001b[39m\u001b[39m▇\u001b[39m▁\u001b[39m▁\u001b[39m▁\u001b[39m▁\u001b[39m█\u001b[39m▇\u001b[39m▇\u001b[39m▇\u001b[39m▇\u001b[39m█\u001b[39m▁\u001b[39m▁\u001b[39m▁\u001b[39m▁\u001b[39m▁\u001b[39m▁\u001b[39m▁\u001b[39m▁\u001b[39m▇\u001b[39m▇\u001b[39m▁\u001b[39m▁\u001b[39m▁\u001b[39m▁\u001b[39m▁\u001b[39m▇\u001b[39m▁\u001b[39m▁\u001b[39m▁\u001b[39m▁\u001b[39m▇\u001b[39m \u001b[39m▁\n",
       "  145 ms\u001b[90m           Histogram: frequency by time\u001b[39m          189 ms \u001b[0m\u001b[1m<\u001b[22m\n",
       "\n",
       " Memory estimate\u001b[90m: \u001b[39m\u001b[33m0 bytes\u001b[39m, allocs estimate\u001b[90m: \u001b[39m\u001b[33m0\u001b[39m."
      ]
     },
     "metadata": {},
     "output_type": "display_data"
    }
   ],
   "source": [
    "using BenchmarkTools\n",
    "\n",
    "@benchmark π_approx(1_000_000)"
   ]
  },
  {
   "cell_type": "markdown",
   "metadata": {
    "id": "xHsab0EkqObG"
   },
   "source": [
    "If this output is too verbose for you, simply use `@btime` instead:"
   ]
  },
  {
   "cell_type": "code",
   "execution_count": 51,
   "metadata": {},
   "outputs": [
    {
     "name": "stdout",
     "output_type": "stream",
     "text": [
      "  86.837 ms (0 allocations: 0 bytes)\n"
     ]
    },
    {
     "data": {
      "text/plain": [
       "3.141592653589794"
      ]
     },
     "metadata": {},
     "output_type": "display_data"
    }
   ],
   "source": [
    "@btime π_approx(1_000_000)"
   ]
  },
  {
   "cell_type": "markdown",
   "metadata": {
    "id": "Jqtx4_erlxky"
   },
   "source": [
    "It looks like Julia is close to 100 times faster than Python in this case! To be fair, `PyCall` does add some overhead, but even if you run this code in a separate Python shell, you will see that Julia crushes (pure) Python when it comes to speed."
   ]
  },
  {
   "cell_type": "markdown",
   "metadata": {
    "id": "hiVDodlPmzoP"
   },
   "source": [
    "So why is Julia so much faster than Python? Well, **Julia compiles the code on the fly as it runs it**."
   ]
  },
  {
   "cell_type": "markdown",
   "metadata": {
    "id": "w-HSoqJ8ts7P"
   },
   "source": [
    "Okay, let's summarize what we learned so far: Julia is a dynamic language that looks and feels a lot like Python, you can even execute Python code super easily, and pure Julia code runs much faster than pure Python code, because it is compiled on the fly. I hope this convinces you to read on!\n",
    "\n",
    "Next, let's continue to see how Python's main constructs can be implemented in Julia."
   ]
  },
  {
   "cell_type": "markdown",
   "metadata": {
    "id": "lQJKl9rD-BWj"
   },
   "source": [
    "# Methods\n",
    "Earlier, we discussed structs, which look a lot like Python classes, with instance variables and constructors, but they did not contain any methods (just the inner constructors). In Julia, methods are defined separately, like regular functions:"
   ]
  },
  {
   "cell_type": "code",
   "execution_count": 52,
   "metadata": {
    "colab": {
     "base_uri": "https://localhost:8080/"
    },
    "id": "axvF_XwJ-DJw",
    "outputId": "b678d157-e300-4b93-be37-a1855e040ba6"
   },
   "outputs": [
    {
     "data": {
      "text/plain": [
       "true"
      ]
     },
     "metadata": {},
     "output_type": "display_data"
    }
   ],
   "source": [
    "struct Option # contains data only! struct separtes data with behaviour\n",
    "    iscall::Bool\n",
    "    strike_price::Float64\n",
    "    maturity::Float64\n",
    "end\n",
    "\n",
    "option = Option(true, 100.0, 1.0)\n",
    "option.iscall"
   ]
  },
  {
   "cell_type": "code",
   "execution_count": 53,
   "metadata": {},
   "outputs": [
    {
     "data": {
      "text/plain": [
       "10.0"
      ]
     },
     "metadata": {},
     "output_type": "display_data"
    }
   ],
   "source": [
    "function payoff(option, price) # behavior\n",
    "    return option.iscall ? max(price - option.strike_price, 0.0) : max(option.strike_price - price , 0.0)  \n",
    "end\n",
    "\n",
    "put = Option(false, 100.0, 1.0) # constructor of Option\n",
    "payoff(put, 90.0) "
   ]
  },
  {
   "cell_type": "markdown",
   "metadata": {
    "id": "ylOha2mhCRgz"
   },
   "source": [
    "Since the `payoff()` method in Julia is not bound to any particular type, we can use it with any other type we want, as long as that type has a `iscall` and an `strike_price`:"
   ]
  },
  {
   "cell_type": "code",
   "execution_count": 54,
   "metadata": {
    "colab": {
     "base_uri": "https://localhost:8080/"
    },
    "id": "vWkQqaEPCgeY",
    "outputId": "d67c7026-4660-48c5-f2bc-bd7007c8f684"
   },
   "outputs": [
    {
     "data": {
      "text/plain": [
       "30.0"
      ]
     },
     "metadata": {},
     "output_type": "display_data"
    }
   ],
   "source": [
    "struct BarrierOption\n",
    "    iscall::Bool\n",
    "    strike_price::Float64\n",
    "    maturity::Float64\n",
    "    isknockin::Bool\n",
    "    lower_barrier::Float64\n",
    "    upper_barrier::Float64\n",
    "end\n",
    "\n",
    "barrier_option = BarrierOption(true, 100.0, 1.0, true, 80.0, 90.0)\n",
    "payoff(barrier_option, 130.0)"
   ]
  },
  {
   "cell_type": "markdown",
   "metadata": {
    "id": "iRNLWOyURGGp"
   },
   "source": [
    "## Extending a Function\n",
    "One nice thing about having a class hierarchy is that you can override methods in subclasses to get specialized behavior for each class. For example, in Python you could override the `payoff()` method like this:\n",
    "\n",
    "```python\n",
    "# PYTHON\n",
    "class Option:\n",
    "    def __init__(self, iscall, strike_price, maturity) -> None:\n",
    "        self.iscall, self.strike_price, self.maturity = iscall, strike_price, maturity\n",
    "\n",
    "    def payoff(self, price):\n",
    "        return max(price - self.strike_price, 0.0) if self.iscall else max(self.strike_price - price , 0.0)  \n",
    "\n",
    "    \n",
    "class BinaryOption(Option):\n",
    "    def __init__(self, iscall, strike_price, maturity) -> None:\n",
    "        super().__init__(iscall, strike_price, maturity)\n",
    "\n",
    "    def payoff(self, price):\n",
    "        call_payoff = 1 if price > self.strike_price else 0\n",
    "        put_payoff = 1 if self.strike_price > price else 0\n",
    "        return call_payoff if self.iscall else put_payoff  \n",
    "\n",
    "    def isexercised(self, price):\n",
    "        call_exercised = price > self.strike_price # output type Boolean\n",
    "        put_exercised = price < self.strike_price # output type Boolean\n",
    "        return call_exercised if self.iscall else put_exercised # output type Boolean\n",
    "\n",
    "barrier_option = BinaryOption(False, 100.0, 1.0)\n",
    "\n",
    "print(barrier_option.payoff(90.0))\n",
    "\n",
    "barrier_option.isexercised(110.0)\n",
    "```\n"
   ]
  },
  {
   "cell_type": "markdown",
   "metadata": {
    "id": "srgbdxLxSWGG"
   },
   "source": [
    "Notice that the expression `d.payoff()` will call a different method if `d` is an `Option` or a `BarrierOption`. This is called \"polymorphism\": the same method call behaves differently depending on the type of the object. The language chooses which actual method implementation to call, based on the type of `d`: this is called method \"dispatch\". More specifically, since it only depends on a single variable, it is called \"single dispatch\".\n",
    "\n",
    "The good news is that Julia can do single dispatch as well:"
   ]
  },
  {
   "cell_type": "code",
   "execution_count": 55,
   "metadata": {},
   "outputs": [
    {
     "name": "stdout",
     "output_type": "stream",
     "text": [
      "false\n"
     ]
    }
   ],
   "source": [
    "mutable struct MutableOption\n",
    "    iscall::Bool\n",
    "end\n",
    "\n",
    "exotic = MutableOption(true)\n",
    "exotic.iscall = false\n",
    "println(exotic.iscall)"
   ]
  },
  {
   "cell_type": "code",
   "execution_count": 56,
   "metadata": {},
   "outputs": [],
   "source": [
    "struct BinaryOption\n",
    "    iscall::Bool\n",
    "    strike_price::Float64\n",
    "    maturity::Float64\n",
    "end"
   ]
  },
  {
   "cell_type": "code",
   "execution_count": 57,
   "metadata": {
    "colab": {
     "base_uri": "https://localhost:8080/"
    },
    "id": "j6fIldepUFA1",
    "outputId": "f9caf442-0286-4c23-ad03-30dafc0359ea"
   },
   "outputs": [
    {
     "name": "stdout",
     "output_type": "stream",
     "text": [
      "1"
     ]
    },
    {
     "data": {
      "text/plain": [
       "false"
      ]
     },
     "metadata": {},
     "output_type": "display_data"
    }
   ],
   "source": [
    "function payoff(binary::BinaryOption, price)\n",
    "    call_payoff = price > binary.strike_price ? 1 : 0\n",
    "    put_payoff = binary.strike_price > price ? 1 : 0\n",
    "    return binary.iscall ? call_payoff : put_payoff  \n",
    "end\n",
    "\n",
    "function isexercised(binary::BinaryOption, price)\n",
    "    call_exercised = price > binary.strike_price # output type Boolean\n",
    "    put_exercised = price < binary.strike_price # output type Boolean\n",
    "    return binary.iscall ? call_exercised : put_exercised # output type Boolean\n",
    "end\n",
    "\n",
    "binary_option = BinaryOption(false, 100.0, 1.0)\n",
    "\n",
    "print(payoff(binary_option, 90.0))\n",
    "\n",
    "isexercised(binary_option, 110.0)"
   ]
  },
  {
   "cell_type": "markdown",
   "metadata": {
    "id": "2ji22KZNVHub"
   },
   "source": [
    "Notice that the `binary` argument is followed by `::BinaryOption`, which means that this method will only be called if the argument has that type.\n",
    "\n",
    "We have **extended** the `payoff` **function**, so that it now has two different implementations, called **methods**, each for different argument types: namely, `payoff(binary::BinaryOption, price)` for arguments of type `BinaryOption`, and `payoff(option, price)` for values of any other type.\n",
    "\n",
    "You can easily get the list of all the methods of a given function:"
   ]
  },
  {
   "cell_type": "code",
   "execution_count": 58,
   "metadata": {
    "colab": {
     "base_uri": "https://localhost:8080/",
     "height": 81
    },
    "id": "6yQgjmjST2xL",
    "outputId": "4b932a31-e26e-43cb-bc2e-c1b4302314fc"
   },
   "outputs": [
    {
     "data": {
      "text/html": [
       "# 2 methods for generic function <b>payoff</b> from \u001b[35mMain\u001b[39m:<ul><li> payoff(binary::<b>BinaryOption</b>, price) in Main at <a href=\"https://github.com/hamid-arian/IntroJuliaPython/tree/f1e1b2fd2eee62b8dad4f83c5cfb61980963114b//julia/jl_notebook_cell_df34fa98e69747e1a8f8a730347b8e2f_Y213sZmlsZQ==.jl#L1\" target=\"_blank\">c:\\Users\\Hamid\\Downloads\\IntroJuliaPython\\julia\\jl_notebook_cell_df34fa98e69747e1a8f8a730347b8e2f_Y213sZmlsZQ==.jl:1</a></li> <li> payoff(option, price) in Main at <a href=\"https://github.com/hamid-arian/IntroJuliaPython/tree/f1e1b2fd2eee62b8dad4f83c5cfb61980963114b//julia/jl_notebook_cell_df34fa98e69747e1a8f8a730347b8e2f_Y203sZmlsZQ==.jl#L1\" target=\"_blank\">c:\\Users\\Hamid\\Downloads\\IntroJuliaPython\\julia\\jl_notebook_cell_df34fa98e69747e1a8f8a730347b8e2f_Y203sZmlsZQ==.jl:1</a></li> </ul>"
      ],
      "text/plain": [
       "# 2 methods for generic function \"payoff\" from \u001b[35mMain\u001b[39m:\n",
       " [1] payoff(\u001b[90mbinary\u001b[39m::\u001b[1mBinaryOption\u001b[22m, \u001b[90mprice\u001b[39m)\n",
       "\u001b[90m     @\u001b[39m \u001b[90mc:\\Users\\Hamid\\Downloads\\IntroJuliaPython\\julia\\\u001b[39m\u001b[90m\u001b[4mjl_notebook_cell_df34fa98e69747e1a8f8a730347b8e2f_Y213sZmlsZQ==.jl:1\u001b[24m\u001b[39m\n",
       " [2] payoff(\u001b[90moption\u001b[39m, \u001b[90mprice\u001b[39m)\n",
       "\u001b[90m     @\u001b[39m \u001b[90mc:\\Users\\Hamid\\Downloads\\IntroJuliaPython\\julia\\\u001b[39m\u001b[90m\u001b[4mjl_notebook_cell_df34fa98e69747e1a8f8a730347b8e2f_Y203sZmlsZQ==.jl:1\u001b[24m\u001b[39m"
      ]
     },
     "metadata": {},
     "output_type": "display_data"
    }
   ],
   "source": [
    "methods(payoff)"
   ]
  },
  {
   "cell_type": "markdown",
   "metadata": {
    "id": "iS7Byq8yd8uE"
   },
   "source": [
    "You can also get the list of all the methods which take a particular type as argument:"
   ]
  },
  {
   "cell_type": "code",
   "execution_count": 59,
   "metadata": {
    "colab": {
     "base_uri": "https://localhost:8080/",
     "height": 81
    },
    "id": "ZxFaPzByd0qv",
    "outputId": "b52ea5d5-9c06-4651-95cd-84235c86d278"
   },
   "outputs": [
    {
     "data": {
      "text/html": [
       "# 2 methods for type constructor:<ul><li> Option(iscall::<b>Bool</b>, strike_price::<b>Float64</b>, maturity::<b>Float64</b>) in Main at <a href=\"https://github.com/hamid-arian/IntroJuliaPython/tree/f1e1b2fd2eee62b8dad4f83c5cfb61980963114b//julia/jl_notebook_cell_df34fa98e69747e1a8f8a730347b8e2f_Y202sZmlsZQ==.jl#L2\" target=\"_blank\">c:\\Users\\Hamid\\Downloads\\IntroJuliaPython\\julia\\jl_notebook_cell_df34fa98e69747e1a8f8a730347b8e2f_Y202sZmlsZQ==.jl:2</a></li> <li> Option(iscall, strike_price, maturity) in Main at <a href=\"https://github.com/hamid-arian/IntroJuliaPython/tree/f1e1b2fd2eee62b8dad4f83c5cfb61980963114b//julia/jl_notebook_cell_df34fa98e69747e1a8f8a730347b8e2f_Y202sZmlsZQ==.jl#L2\" target=\"_blank\">c:\\Users\\Hamid\\Downloads\\IntroJuliaPython\\julia\\jl_notebook_cell_df34fa98e69747e1a8f8a730347b8e2f_Y202sZmlsZQ==.jl:2</a></li> </ul>"
      ],
      "text/plain": [
       "# 2 methods for type constructor:\n",
       " [1] Option(\u001b[90miscall\u001b[39m::\u001b[1mBool\u001b[22m, \u001b[90mstrike_price\u001b[39m::\u001b[1mFloat64\u001b[22m, \u001b[90mmaturity\u001b[39m::\u001b[1mFloat64\u001b[22m)\n",
       "\u001b[90m     @\u001b[39m \u001b[90mc:\\Users\\Hamid\\Downloads\\IntroJuliaPython\\julia\\\u001b[39m\u001b[90m\u001b[4mjl_notebook_cell_df34fa98e69747e1a8f8a730347b8e2f_Y202sZmlsZQ==.jl:2\u001b[24m\u001b[39m\n",
       " [2] Option(\u001b[90miscall\u001b[39m, \u001b[90mstrike_price\u001b[39m, \u001b[90mmaturity\u001b[39m)\n",
       "\u001b[90m     @\u001b[39m \u001b[90mc:\\Users\\Hamid\\Downloads\\IntroJuliaPython\\julia\\\u001b[39m\u001b[90m\u001b[4mjl_notebook_cell_df34fa98e69747e1a8f8a730347b8e2f_Y202sZmlsZQ==.jl:2\u001b[24m\u001b[39m"
      ]
     },
     "metadata": {},
     "output_type": "display_data"
    }
   ],
   "source": [
    "methodswith(BinaryOption)\n",
    "# methodswith(Option)\n",
    "methods(Option)"
   ]
  },
  {
   "cell_type": "markdown",
   "metadata": {
    "id": "ab4DP1-fT7dE"
   },
   "source": [
    "When you call the `payoff()` function, Julia automatically dispatches the call to the appropriate method, depending on the type of the argument. If Julia can determine at compile time what the type of the argument will be, then it optimizes the compiled code so that there's no choice to be made at runtime. This is called **static dispatch**, and it can significantly speed up the program. If the argument's type can't be determined at compile time, then Julia makes the choice at runtime, just like in Python: this is called **dynamic dispatch**."
   ]
  },
  {
   "cell_type": "markdown",
   "metadata": {
    "id": "Y7U4rXr2GnFx"
   },
   "source": [
    "## Multiple Dispatch\n",
    "Julia actually looks at the types of _all_ the positional arguments, not just the first one. This is called **multiple dispatch**. For example:"
   ]
  },
  {
   "cell_type": "code",
   "execution_count": 60,
   "metadata": {
    "colab": {
     "base_uri": "https://localhost:8080/"
    },
    "id": "YE7pb7tHHEcb",
    "outputId": "4e669cf7-aec8-4669-8924-a2e1d4131ff4"
   },
   "outputs": [
    {
     "data": {
      "text/plain": [
       "1"
      ]
     },
     "metadata": {},
     "output_type": "display_data"
    }
   ],
   "source": [
    "f_specific(a::Int64, b::Int64) = 1\n",
    "f_specific(a::Int64, b::Float64) = 2\n",
    "f_specific(a::Float64, b::Int64) = 3\n",
    "f_specific(a::Float64, b::Float64) = 4\n",
    "\n",
    "f_specific(10, 20)"
   ]
  },
  {
   "cell_type": "markdown",
   "metadata": {
    "id": "wJtjHEYGJr5B"
   },
   "source": [
    "Julia always chooses the most specific method it can, so the following method will only be called if the first argument is neither an `Int64` nor a `Float64`:"
   ]
  },
  {
   "cell_type": "code",
   "execution_count": 61,
   "metadata": {
    "colab": {
     "base_uri": "https://localhost:8080/"
    },
    "id": "SrZv6JZBKZGF",
    "outputId": "d83d38af-d215-458d-c35d-14ba6ec86da6"
   },
   "outputs": [
    {
     "name": "stdout",
     "output_type": "stream",
     "text": [
      "6\n",
      "5\n"
     ]
    }
   ],
   "source": [
    "f_specific(a::Any, b::Int64) = 5 # catch-all method\n",
    "f_specific(a::String, b::Int64) = 6\n",
    "\n",
    "\n",
    "f_specific(\"string\", 20) |> println\n",
    "f_specific(big(10), 20) |> println\n",
    "# methods(f_specific)"
   ]
  },
  {
   "cell_type": "markdown",
   "metadata": {
    "id": "BiwKlUcMKvbr"
   },
   "source": [
    "Julia will raise an exception if there is some ambiguity as to which method is the most specific:"
   ]
  },
  {
   "cell_type": "code",
   "execution_count": 62,
   "metadata": {
    "colab": {
     "base_uri": "https://localhost:8080/"
    },
    "id": "wnvxky-JJQxU",
    "outputId": "710d9cf3-e17a-4ed0-e41f-b41fb25cffd6"
   },
   "outputs": [
    {
     "ename": "MethodError",
     "evalue": "MethodError: f_ambiguous(::Int64, ::Int64) is ambiguous.\n\nCandidates:\n  f_ambiguous(a, b::Int64)\n    @ Main c:\\Users\\Hamid\\Downloads\\IntroJuliaPython\\julia\\jl_notebook_cell_df34fa98e69747e1a8f8a730347b8e2f_Y230sZmlsZQ==.jl:2\n  f_ambiguous(a::Int64, b)\n    @ Main c:\\Users\\Hamid\\Downloads\\IntroJuliaPython\\julia\\jl_notebook_cell_df34fa98e69747e1a8f8a730347b8e2f_Y230sZmlsZQ==.jl:1\n\nPossible fix, define\n  f_ambiguous(::Int64, ::Int64)\n",
     "output_type": "error",
     "traceback": [
      "MethodError: f_ambiguous(::Int64, ::Int64) is ambiguous.\n",
      "\n",
      "Candidates:\n",
      "  f_ambiguous(a, b::Int64)\n",
      "    @ Main c:\\Users\\Hamid\\Downloads\\IntroJuliaPython\\julia\\jl_notebook_cell_df34fa98e69747e1a8f8a730347b8e2f_Y230sZmlsZQ==.jl:2\n",
      "  f_ambiguous(a::Int64, b)\n",
      "    @ Main c:\\Users\\Hamid\\Downloads\\IntroJuliaPython\\julia\\jl_notebook_cell_df34fa98e69747e1a8f8a730347b8e2f_Y230sZmlsZQ==.jl:1\n",
      "\n",
      "Possible fix, define\n",
      "  f_ambiguous(::Int64, ::Int64)\n",
      "\n",
      "\n",
      "Stacktrace:\n",
      " [1] top-level scope\n",
      "   @ c:\\Users\\Hamid\\Downloads\\IntroJuliaPython\\julia\\jl_notebook_cell_df34fa98e69747e1a8f8a730347b8e2f_Y230sZmlsZQ==.jl:4"
     ]
    }
   ],
   "source": [
    "f_ambiguous(a::Int64, b) = 1 # undefined behavior\n",
    "f_ambiguous(a, b::Int64) = 2\n",
    "\n",
    "f_ambiguous(10, 20)"
   ]
  },
  {
   "cell_type": "markdown",
   "metadata": {
    "id": "5Pb7CA7kK8UT"
   },
   "source": [
    "To solve this problem, you can explicitely define a method for the ambiguous case:"
   ]
  },
  {
   "cell_type": "code",
   "execution_count": 63,
   "metadata": {
    "colab": {
     "base_uri": "https://localhost:8080/"
    },
    "id": "mlr9q0GxLL-q",
    "outputId": "f1d90f5c-ecac-4bbc-b09b-259d66931a4e"
   },
   "outputs": [
    {
     "data": {
      "text/plain": [
       "3"
      ]
     },
     "metadata": {},
     "output_type": "display_data"
    }
   ],
   "source": [
    "f_ambiguous(a::Int64, b::Int64) = 3\n",
    "f_ambiguous(10, 20)"
   ]
  },
  {
   "cell_type": "code",
   "execution_count": 64,
   "metadata": {},
   "outputs": [
    {
     "data": {
      "text/plain": [
       "3"
      ]
     },
     "metadata": {},
     "output_type": "display_data"
    }
   ],
   "source": [
    "f_ambiguous(a::Any, b::Any) = 4 # catch-all method\n",
    "f_ambiguous(10, 20)"
   ]
  },
  {
   "cell_type": "code",
   "execution_count": 65,
   "metadata": {},
   "outputs": [
    {
     "ename": "MethodError",
     "evalue": "MethodError: f_ambigous(::String, ::String) is ambiguous.\n\nCandidates:\n  f_ambigous(a, b::String)\n    @ Main c:\\Users\\Hamid\\Downloads\\IntroJuliaPython\\julia\\jl_notebook_cell_df34fa98e69747e1a8f8a730347b8e2f_Y234sZmlsZQ==.jl:3\n  f_ambigous(a::String, b)\n    @ Main c:\\Users\\Hamid\\Downloads\\IntroJuliaPython\\julia\\jl_notebook_cell_df34fa98e69747e1a8f8a730347b8e2f_Y234sZmlsZQ==.jl:2\n\nPossible fix, define\n  f_ambigous(::String, ::String)\n",
     "output_type": "error",
     "traceback": [
      "MethodError: f_ambigous(::String, ::String) is ambiguous.\n",
      "\n",
      "Candidates:\n",
      "  f_ambigous(a, b::String)\n",
      "    @ Main c:\\Users\\Hamid\\Downloads\\IntroJuliaPython\\julia\\jl_notebook_cell_df34fa98e69747e1a8f8a730347b8e2f_Y234sZmlsZQ==.jl:3\n",
      "  f_ambigous(a::String, b)\n",
      "    @ Main c:\\Users\\Hamid\\Downloads\\IntroJuliaPython\\julia\\jl_notebook_cell_df34fa98e69747e1a8f8a730347b8e2f_Y234sZmlsZQ==.jl:2\n",
      "\n",
      "Possible fix, define\n",
      "  f_ambigous(::String, ::String)\n",
      "\n",
      "\n",
      "Stacktrace:\n",
      " [1] top-level scope\n",
      "   @ c:\\Users\\Hamid\\Downloads\\IntroJuliaPython\\julia\\jl_notebook_cell_df34fa98e69747e1a8f8a730347b8e2f_Y234sZmlsZQ==.jl:4"
     ]
    }
   ],
   "source": [
    "f_ambigous(a::Any, b::Any) = \"Upper choice of types\"\n",
    "f_ambigous(a::String, b) = 1\n",
    "f_ambigous(a, b::String) = 2\n",
    "f_ambigous(\"first\", \"second\")"
   ]
  },
  {
   "cell_type": "markdown",
   "metadata": {
    "id": "W19FsOf2GOcF"
   },
   "source": [
    "So you can have polymorphism in Julia, just like in Python. This means that you can write your algorithms in a generic way, without having to know the exact types of the values you are manipulating, and it will work fine, as long as these types act in the general way you expect. For example:"
   ]
  },
  {
   "cell_type": "code",
   "execution_count": 66,
   "metadata": {},
   "outputs": [],
   "source": [
    "struct AmericanOption\n",
    "    iscall::Bool\n",
    "    strike_price::Float64\n",
    "    maturity::Float64\n",
    "end"
   ]
  },
  {
   "cell_type": "code",
   "execution_count": 67,
   "metadata": {
    "colab": {
     "base_uri": "https://localhost:8080/"
    },
    "id": "L_i8ksenUoz8",
    "outputId": "ccd4db35-fcf0-4349-a9b1-99efcb0c76cc"
   },
   "outputs": [
    {
     "data": {
      "text/plain": [
       "100.0"
      ]
     },
     "metadata": {},
     "output_type": "display_data"
    }
   ],
   "source": [
    "function payoff(american::AmericanOption, price, optimal_time, optimal_price)\n",
    "    if optimal_time < american.maturity\n",
    "        return american.iscall ? max(optimal_price - american.strike_price, 0.0) : max(american.strike_price - optimal_price , 0.0)  \n",
    "    else\n",
    "        return american.iscall ? max(price - american.strike_price, 0.0) : max(american.strike_price - price , 0.0)  \n",
    "    end\n",
    "end\n",
    "\n",
    "american_call = AmericanOption(true, 100.0, 1.0)\n",
    "payoff(american_call, 90.0, 0.5, 200)"
   ]
  },
  {
   "cell_type": "markdown",
   "metadata": {},
   "source": [
    "# DRY : Dont write yourself"
   ]
  },
  {
   "cell_type": "markdown",
   "metadata": {
    "id": "jZmax1CvVBKT"
   },
   "source": [
    "## Calling `super()`?\n",
    "You may have noticed that the `payoff(american::AmericanOption)` method could be improved, since it currently duplicates the implementation of the base method `payoff(Option)`. In Python, you would get rid of this duplication by calling the base class's `payoff()` method, using `super()`:\n",
    "\n",
    "```python\n",
    "# PYTHON\n",
    "class AmericanOption(Option):\n",
    "    def __init__(self, name, age, language):\n",
    "        super().__init__(name, age)\n",
    "        self.language = language\n",
    "    def payoff(self, price, optimal_time, optimal_price):\n",
    "        super().payoff() # do something\n",
    "        print(f\"My favorite language is {self.language}.\")\n",
    "\n",
    "amerian_call = AmericanOption(True, 100.0, 1.0)\n",
    "American_call.payoff()\n",
    "```\n",
    "\n",
    "In Julia, you can do something pretty similar, although you have to implement your own `super()` function, as it is not part of the language:"
   ]
  },
  {
   "cell_type": "code",
   "execution_count": 68,
   "metadata": {
    "colab": {
     "base_uri": "https://localhost:8080/"
    },
    "id": "8Oz-Xe4VmMRr",
    "outputId": "fe4ac915-77d6-43f8-f10b-eba0bf3f0e2e"
   },
   "outputs": [
    {
     "data": {
      "text/plain": [
       "10.0"
      ]
     },
     "metadata": {},
     "output_type": "display_data"
    }
   ],
   "source": [
    "super(american::AmericanOption) = Option(american.iscall, american.strike_price, american.maturity)\n",
    "\n",
    "function payoff_super(american::AmericanOption, price, optimal_time, optimal_price)\n",
    "    if optimal_time < american.maturity\n",
    "        return payoff(super(american), optimal_price)\n",
    "    else\n",
    "        return payoff(super(american), price)\n",
    "    end\n",
    "end\n",
    "\n",
    "american_option = AmericanOption(false, 100.0, 1.0)\n",
    "payoff(american_option, 90.0, 100, 200)\n",
    "# typeof(super(american_option))"
   ]
  },
  {
   "cell_type": "markdown",
   "metadata": {
    "id": "WqtmgScLr3oz"
   },
   "source": [
    "However, this implementation creates a new `Option` instance when calling `super(american_put)`, copying the `iscall`, `strike_price` and `maturity` fields. That's okay for small objects, but it's not ideal for larger ones. Instead, you can explicitely call the specific method you want by using the `invoke()` function:"
   ]
  },
  {
   "cell_type": "code",
   "execution_count": 69,
   "metadata": {
    "colab": {
     "base_uri": "https://localhost:8080/"
    },
    "id": "XPlSZ5kaqz0l",
    "outputId": "d29ecca6-5d1e-45a7-dc24-2389690b43a5"
   },
   "outputs": [
    {
     "data": {
      "text/plain": [
       "190.0"
      ]
     },
     "metadata": {},
     "output_type": "display_data"
    }
   ],
   "source": [
    "function payoff_invoke(american::AmericanOption, price, optimal_time, optimal_price)\n",
    "    if optimal_time < american.maturity\n",
    "        return invoke(payoff, Tuple{Any, Any}, american, optimal_price)  \n",
    "    else\n",
    "        return invoke(payoff, Tuple{Any, Any}, american, price)\n",
    "    end\n",
    "end\n",
    "\n",
    "american_option = AmericanOption(true, 10.0, 1.0)\n",
    "payoff(american_option, 90.0, 0.2, 200.0)"
   ]
  },
  {
   "cell_type": "markdown",
   "metadata": {
    "id": "Vrf7C_Cgsob2"
   },
   "source": [
    "The `invoke()` function expects the following arguments:\n",
    "* The first argument is the function to call.\n",
    "* The second argument is the type of the desired method's arguments tuple: `Tuple{TypeArg1, TypeArg2, etc.}`. In this case we want to call the base function, which takes a single `Any` argument (the `Any` type is implicit when no type is specified).\n",
    "* Lastly, it takes all the arguments to be passed to the method. In this case, there's just one: `american` and `price`."
   ]
  },
  {
   "cell_type": "markdown",
   "metadata": {
    "id": "emqToYz-ypOS"
   },
   "source": [
    "As you can see, we managed to get the same advantages Object-Oriented programming offers, without defining classes or using inheritance. This takes a bit of getting used to, but you might come to prefer this style of generic programming. Indeed, OO programming encourage you to bundle data and behavior together, but this is not always a good idea. Let's look at one example:\n",
    "\n",
    "```python\n",
    "# PYTHON\n",
    "class Rectangle:\n",
    "    def __init__(self, height, width):\n",
    "        self.height = height\n",
    "        self.width = width\n",
    "    def area(self):\n",
    "        return self.height * self.width\n",
    "\n",
    "class Square(Rectangle):\n",
    "    def __init__(self, length):\n",
    "        super().__init__(length, length)\n",
    "```\n",
    "\n",
    "It makes sense for the `Square` class to be a subclass of the `Rectangle` class, since a square **is a** special type of rectangle. It also makes sense for the `Square` class to inherit from all of the `Rectangle` class's behavior, such as the `area()` method. However, it does not really make sense for rectangles and squares to have the same memory representation: a `Rectangle` needs two numbers (`height` and `width`), while a `Square` only needs one (`length`).\n",
    "\n",
    "It's possible to work around this issue like this:\n",
    "\n",
    "```python\n",
    "# PYTHON\n",
    "class Rectangle:\n",
    "    def __init__(self, height, width):\n",
    "        self.height = height\n",
    "        self.width = width\n",
    "    def area(self):\n",
    "        return self.height * self.width\n",
    "\n",
    "class Square(Rectangle):\n",
    "    def __init__(self, length):\n",
    "        self.length = length\n",
    "    @property\n",
    "    def width(self):\n",
    "        return self.length\n",
    "    @property\n",
    "    def height(self):\n",
    "        return self.length\n",
    "```\n",
    "\n",
    "That's better: now, each square is only represented using a single number. We've inherited the behavior, but not the data.\n",
    "\n",
    "In Julia, you could code this like so:"
   ]
  },
  {
   "cell_type": "code",
   "execution_count": 70,
   "metadata": {
    "colab": {
     "base_uri": "https://localhost:8080/"
    },
    "id": "G7aHm-s_y92c",
    "outputId": "3b4d127a-35de-48aa-e57d-1f4911abbd7a"
   },
   "outputs": [
    {
     "data": {
      "text/plain": [
       "height (generic function with 2 methods)"
      ]
     },
     "metadata": {},
     "output_type": "display_data"
    }
   ],
   "source": [
    "struct Rectangle\n",
    "    width\n",
    "    height\n",
    "end\n",
    "\n",
    "width(rect::Rectangle) = rect.width\n",
    "height(rect::Rectangle) = rect.height\n",
    "\n",
    "area(rect) = width(rect) * height(rect)\n",
    "\n",
    "struct Square\n",
    "    length\n",
    "end\n",
    "\n",
    "width(sq::Square) = sq.length\n",
    "height(sq::Square) = sq.length"
   ]
  },
  {
   "cell_type": "code",
   "execution_count": 71,
   "metadata": {
    "colab": {
     "base_uri": "https://localhost:8080/"
    },
    "id": "1Ck-ML8CuOMm",
    "outputId": "c1d6496b-4d6b-45e0-8c9e-4b4d2414933d"
   },
   "outputs": [
    {
     "data": {
      "text/plain": [
       "25"
      ]
     },
     "metadata": {},
     "output_type": "display_data"
    }
   ],
   "source": [
    "area(Square(5))"
   ]
  },
  {
   "cell_type": "markdown",
   "metadata": {
    "id": "qUy8eU__-swA"
   },
   "source": [
    "Notice that the `area()` function relies on the getters `width()` and `height()`, rather than directly on the fields `width` and `height`. This way, the argument can be of any type at all, as long as it has these getters."
   ]
  },
  {
   "cell_type": "markdown",
   "metadata": {
    "id": "iPtX04AJkXnI"
   },
   "source": [
    "## Abstract Types\n",
    "One nice thing about the class hierarchy we defined in Python is that it makes it clear that an American option **is a** kind of option. Any new function you define that takes an `Option` as an argument will automatically accept a `AmericanOption` as well, but no other non-rectangle type. In contrast, our `area()` function currently accepts anything at all.\n",
    "\n",
    "In Julia, a concrete type like `AmericanOption` cannot extend another concrete type like `Option `. However, any type can extend from an abstract type. Let's define some abstract types to create a type hierarchy for our `Square` and `Rectangle` types."
   ]
  },
  {
   "cell_type": "code",
   "execution_count": 72,
   "metadata": {
    "id": "HgXYu8Y7kFf7"
   },
   "outputs": [],
   "source": [
    "abstract type AbstractShape end\n",
    "abstract type AbstractRectangle <: AbstractShape end  # <: means \"subtype of\"\n",
    "abstract type AbstractSquare <: AbstractRectangle end"
   ]
  },
  {
   "cell_type": "markdown",
   "metadata": {
    "id": "s9jYhVkntUXo"
   },
   "source": [
    "The `<:` operator means \"subtype of\"."
   ]
  },
  {
   "cell_type": "markdown",
   "metadata": {
    "id": "ffN21M6wx5rC"
   },
   "source": [
    "For the options example, we may have:"
   ]
  },
  {
   "cell_type": "code",
   "execution_count": 73,
   "metadata": {
    "id": "lWfyiRXHxEZG"
   },
   "outputs": [],
   "source": [
    "abstract type AbstractOption end\n",
    "abstract type AbstractPathwiseOption <: AbstractOption end  # <: means \"subtype of\"\n",
    "abstract type AbstractVanillaOption <: AbstractPathwiseOption end"
   ]
  },
  {
   "cell_type": "markdown",
   "metadata": {
    "id": "SFoq_2FUtjix"
   },
   "source": [
    "Now we can attach the `area()` function to the `AbstractRectangle` type, instead of any type at all:"
   ]
  },
  {
   "cell_type": "code",
   "execution_count": 74,
   "metadata": {
    "colab": {
     "base_uri": "https://localhost:8080/"
    },
    "id": "DpCEaRNytYNQ",
    "outputId": "3e9e2bed-d901-44ad-a443-bddf8d2390cd"
   },
   "outputs": [
    {
     "data": {
      "text/plain": [
       "area (generic function with 2 methods)"
      ]
     },
     "metadata": {},
     "output_type": "display_data"
    }
   ],
   "source": [
    "area(rect::AbstractRectangle) = width(rect) * height(rect)"
   ]
  },
  {
   "cell_type": "markdown",
   "metadata": {
    "id": "utwPa8jLt7bF"
   },
   "source": [
    "Now we can define the concrete types, as subtypes of `AbstractRectangle` and `AbstractSquare`:"
   ]
  },
  {
   "cell_type": "code",
   "execution_count": 75,
   "metadata": {
    "colab": {
     "base_uri": "https://localhost:8080/"
    },
    "id": "cHChkf1Mt0GN",
    "outputId": "f0b67719-d750-43ba-bde0-e50948457b13"
   },
   "outputs": [
    {
     "data": {
      "text/plain": [
       "height (generic function with 4 methods)"
      ]
     },
     "metadata": {},
     "output_type": "display_data"
    }
   ],
   "source": [
    "struct Rectangle_v2 <: AbstractRectangle\n",
    "  width\n",
    "  height\n",
    "end\n",
    "\n",
    "width(rect::Rectangle_v2) = rect.width\n",
    "height(rect::Rectangle_v2) = rect.height\n",
    "\n",
    "struct Square_v2 <: AbstractSquare\n",
    "  length\n",
    "end\n",
    "\n",
    "width(sq::Square_v2) = sq.length\n",
    "height(sq::Square_v2) = sq.length"
   ]
  },
  {
   "cell_type": "markdown",
   "metadata": {
    "id": "N6JklHCruNkP"
   },
   "source": [
    "In short, the Julian approach to type hierarchies looks like this:\n",
    "\n",
    "* Create a hierarchy of abstract types to represent the concepts you want to implement.\n",
    "* Write functions for these abstract types. Much of your implementation can be coded at that level, manipulating abstract concepts.\n",
    "* Lastly, create concrete types, and write the methods needed to give them the behavior that is expected by the generic algorithms you wrote."
   ]
  },
  {
   "cell_type": "markdown",
   "metadata": {
    "id": "GZA6mB9hu3pg"
   },
   "source": [
    "This pattern is used everywhere in Julia's standard libraries. For example, here are the supertypes of `Float64` and `Int64`:"
   ]
  },
  {
   "cell_type": "code",
   "execution_count": 76,
   "metadata": {
    "colab": {
     "base_uri": "https://localhost:8080/"
    },
    "id": "No9X1dLtu-nj",
    "outputId": "fe163041-5797-470e-8e36-205b3bb1722e"
   },
   "outputs": [
    {
     "name": "stdout",
     "output_type": "stream",
     "text": [
      "Float64 <: AbstractFloat <: Real <: Number <: Any"
     ]
    }
   ],
   "source": [
    "Base.show_supertypes(Float64)"
   ]
  },
  {
   "cell_type": "code",
   "execution_count": 77,
   "metadata": {
    "colab": {
     "base_uri": "https://localhost:8080/"
    },
    "id": "RowhPCR_R-QG",
    "outputId": "d72447dc-7a25-4025-8599-75b47a514a9b"
   },
   "outputs": [
    {
     "name": "stdout",
     "output_type": "stream",
     "text": [
      "Int64 <: Signed <: Integer <: Real <: Number <: Any"
     ]
    }
   ],
   "source": [
    "Base.show_supertypes(Int64)"
   ]
  },
  {
   "cell_type": "code",
   "execution_count": 78,
   "metadata": {
    "colab": {
     "base_uri": "https://localhost:8080/"
    },
    "id": "XHlnACUTRRCQ",
    "outputId": "fca215bc-95ac-443e-a27c-dd87569c0c5f"
   },
   "outputs": [
    {
     "name": "stdout",
     "output_type": "stream",
     "text": [
      "Int64 <: Signed <: Integer <: Real <: Number <: Any"
     ]
    }
   ],
   "source": [
    "using Base: show_supertypes\n",
    "show_supertypes(Int64)"
   ]
  },
  {
   "cell_type": "markdown",
   "metadata": {
    "id": "fTFddfq0CEyy"
   },
   "source": [
    "Note: Julia implicitly runs `using Core` and `using Base` when starting the REPL. However, the `show_supertypes()` function is not exported by the `Base` module, thus you cannot access it by just typing `show_supertypes(Float64)`. Instead, you have to specify the module name: `Base.show_supertypes(Float64)`."
   ]
  },
  {
   "cell_type": "markdown",
   "metadata": {
    "id": "K-q4QCgI-rWI"
   },
   "source": [
    "And here is the whole hierarchy of `Number` types:"
   ]
  },
  {
   "cell_type": "code",
   "execution_count": 79,
   "metadata": {},
   "outputs": [
    {
     "name": "stdout",
     "output_type": "stream",
     "text": [
      "Number\n",
      "    Base.MultiplicativeInverses.MultiplicativeInverse\n",
      "        Base.MultiplicativeInverses.SignedMultiplicativeInverse\n",
      "        Base.MultiplicativeInverses.UnsignedMultiplicativeInverse\n",
      "    Complex\n",
      "    Plots.Measurement\n",
      "    Real\n",
      "        AbstractFloat\n",
      "            BigFloat\n",
      "            Float16\n",
      "            Float32\n",
      "            Float64\n",
      "        AbstractIrrational\n",
      "            Irrational\n",
      "            IrrationalConstants.IrrationalConstant\n",
      "                IrrationalConstants.Fourinvπ\n",
      "                IrrationalConstants.Fourπ\n",
      "                IrrationalConstants.Halfπ\n",
      "                IrrationalConstants.Inv2π\n",
      "                IrrationalConstants.Inv4π\n",
      "                IrrationalConstants.Invsqrt2\n",
      "                IrrationalConstants.Invsqrt2π\n",
      "                IrrationalConstants.Invsqrtπ\n",
      "                IrrationalConstants.Invπ\n",
      "                IrrationalConstants.Log2π\n",
      "                IrrationalConstants.Log4π\n",
      "                IrrationalConstants.Loghalf\n",
      "                IrrationalConstants.Logten\n",
      "                IrrationalConstants.Logtwo\n",
      "                IrrationalConstants.Logπ\n",
      "                IrrationalConstants.Quartπ\n",
      "                IrrationalConstants.Sqrt2\n",
      "                IrrationalConstants.Sqrt2π\n",
      "                IrrationalConstants.Sqrt3\n",
      "                IrrationalConstants.Sqrt4π\n",
      "                IrrationalConstants.Sqrthalfπ\n",
      "                IrrationalConstants.Sqrtπ\n",
      "                IrrationalConstants.Twoinvπ\n",
      "                IrrationalConstants.Twoπ\n",
      "        FixedPointNumbers.FixedPoint\n",
      "            FixedPointNumbers.Fixed\n",
      "            FixedPointNumbers.Normed\n",
      "        Integer\n",
      "            Bool\n",
      "            Signed\n",
      "                BigInt\n",
      "                Int128\n",
      "                Int16\n",
      "                Int32\n",
      "                Int64\n",
      "                Int8\n",
      "            Unsigned\n",
      "                UInt128\n",
      "                UInt16\n",
      "                UInt32\n",
      "                UInt64\n",
      "                UInt8\n",
      "        Rational\n",
      "        StatsBase.PValue\n",
      "        StatsBase.TestStat\n"
     ]
    }
   ],
   "source": [
    "function show_hierarchy(root, indent=0)\n",
    "    println(repeat(\" \", indent * 4), root)\n",
    "    for subtype in subtypes(root)\n",
    "        show_hierarchy(subtype, indent + 1)\n",
    "    end\n",
    "end\n",
    "\n",
    "show_hierarchy(Number)"
   ]
  },
  {
   "cell_type": "markdown",
   "metadata": {
    "id": "NdE0eLaKf_tM"
   },
   "source": [
    "## Iterator Interface\n",
    "You will sometimes want to provide a way to iterate over your custom types. In Python, this requires defining the `__iter__()` method which should return an object which implements the `__next__()` method. In Julia, you must define at least two functions:\n",
    "* `iterate(::YourIteratorType)`, which must return either `nothing` if there are no values in the sequence, or `(first_value, iterator_state)`.\n",
    "* `iterate(::YourIteratorType, state)`, which must return either `nothing` if there are no more values, or `(next_value, new_iterator_state)`.\n",
    "\n",
    "For example, let's create a simple iterator for the Fibonacci sequence:"
   ]
  },
  {
   "cell_type": "code",
   "execution_count": 80,
   "metadata": {
    "id": "baemCHqZde4Y"
   },
   "outputs": [],
   "source": [
    "struct Fibonacci end"
   ]
  },
  {
   "cell_type": "code",
   "execution_count": 81,
   "metadata": {},
   "outputs": [],
   "source": [
    "import Base.iterate"
   ]
  },
  {
   "cell_type": "code",
   "execution_count": 82,
   "metadata": {
    "colab": {
     "base_uri": "https://localhost:8080/"
    },
    "id": "yidgsJt9eBSk",
    "outputId": "77dbf7d6-d599-4fa6-c82c-67f91cceed12"
   },
   "outputs": [
    {
     "data": {
      "text/plain": [
       "iterate (generic function with 350 methods)"
      ]
     },
     "metadata": {},
     "output_type": "display_data"
    }
   ],
   "source": [
    "iterate(f::Fibonacci) = (1, (1, 1))\n",
    "\n",
    "function iterate(f::Fibonacci, state)\n",
    "    new_state = (state[2], state[1] + state[2])\n",
    "    return (new_state[1], new_state)\n",
    "end"
   ]
  },
  {
   "cell_type": "markdown",
   "metadata": {
    "id": "9CORRxR8hYrl"
   },
   "source": [
    "Now we can iterate over a `Fibonacci` instance:"
   ]
  },
  {
   "cell_type": "code",
   "execution_count": 83,
   "metadata": {
    "colab": {
     "base_uri": "https://localhost:8080/"
    },
    "id": "5W0QbY41fJGE",
    "outputId": "bb5c801d-5dc1-471a-c8e4-c32d497c5088"
   },
   "outputs": [
    {
     "name": "stdout",
     "output_type": "stream",
     "text": [
      "1: 1\n",
      "2: 1\n",
      "3: 2\n",
      "4: 3\n",
      "5: 5\n",
      "6: 8\n",
      "7: 13\n",
      "8: 21\n",
      "9: 34\n",
      "10: 55\n"
     ]
    }
   ],
   "source": [
    "for (i, f) in enumerate(Fibonacci())\n",
    "    println(\"$i: $f\")\n",
    "    i ≥ 10 && break\n",
    "end"
   ]
  },
  {
   "cell_type": "markdown",
   "metadata": {
    "id": "RjEk9nRIhmwV"
   },
   "source": [
    "## Indexing Interface\n",
    "You can also create a type that will be indexable like an array (allowing syntax like `a[5] = 3`). In Python, this requires implementing the `__getitem__()` and `__setitem__()` methods. In Julia, you must implement the `getindex(A::YourType, i)`, `setindex!(A::YourType, v, i)`, `firstindex(A::YourType)` and `lastindex(A::YourType)` methods."
   ]
  },
  {
   "cell_type": "code",
   "execution_count": 84,
   "metadata": {
    "colab": {
     "base_uri": "https://localhost:8080/"
    },
    "id": "i-r1StLujBEL",
    "outputId": "14cef8b6-e28c-4abd-e3be-7fc8eb1d0872"
   },
   "outputs": [
    {
     "data": {
      "text/plain": [
       "1.333333333333333333333333333333333333333333333333333333333333333333333333333339"
      ]
     },
     "metadata": {},
     "output_type": "display_data"
    }
   ],
   "source": [
    "e = 2\n",
    "struct MyTaylorSeries end\n",
    "\n",
    "import Base.getindex, Base.firstindex\n",
    "\n",
    "getindex(::MyTaylorSeries, i) = e^i/factorial(big(i))\n",
    "firstindex(::MyTaylorSeries) = 1.0\n",
    "\n",
    "S = MyTaylorSeries()\n",
    "S[3]"
   ]
  },
  {
   "cell_type": "code",
   "execution_count": 85,
   "metadata": {
    "colab": {
     "base_uri": "https://localhost:8080/"
    },
    "id": "p8zfJLvDjpSP",
    "outputId": "8ce99c39-de96-4703-a883-9088593180d3"
   },
   "outputs": [
    {
     "data": {
      "text/plain": [
       "2.0"
      ]
     },
     "metadata": {},
     "output_type": "display_data"
    }
   ],
   "source": [
    "S[begin]"
   ]
  },
  {
   "cell_type": "code",
   "execution_count": 86,
   "metadata": {
    "colab": {
     "base_uri": "https://localhost:8080/"
    },
    "id": "n9y4Y2r2jzTG",
    "outputId": "6e4b28c9-8fdc-402c-88a6-73f35afcd6e0"
   },
   "outputs": [
    {
     "data": {
      "text/plain": [
       "getindex (generic function with 307 methods)"
      ]
     },
     "metadata": {},
     "output_type": "display_data"
    }
   ],
   "source": [
    "getindex(S::MyTaylorSeries, r::UnitRange) = [S[i] for i in r]"
   ]
  },
  {
   "cell_type": "code",
   "execution_count": 87,
   "metadata": {
    "colab": {
     "base_uri": "https://localhost:8080/"
    },
    "id": "vk-gqI08jrQo",
    "outputId": "fdcfa369-b3fe-4c5a-a15b-8e8498839265"
   },
   "outputs": [
    {
     "data": {
      "text/plain": [
       "4-element Vector{BigFloat}:\n",
       " 2.0\n",
       " 2.0\n",
       " 1.333333333333333333333333333333333333333333333333333333333333333333333333333339\n",
       " 0.6666666666666666666666666666666666666666666666666666666666666666666666666666695"
      ]
     },
     "metadata": {},
     "output_type": "display_data"
    }
   ],
   "source": [
    "S[1:4]"
   ]
  },
  {
   "cell_type": "markdown",
   "metadata": {
    "id": "1j3qxO4TkoVm"
   },
   "source": [
    "For more details on these interfaces, and to learn how to build full-blown array types with broadcasting and more, check out [this page](https://docs.julialang.org/en/v1/manual/interfaces/)."
   ]
  },
  {
   "cell_type": "markdown",
   "metadata": {
    "id": "bD9gzH2XDlGL"
   },
   "source": [
    "## Creating a Number Type\n",
    "Let's create a `MyRational` struct and try to make it mimic the built-in `Rational` type:"
   ]
  },
  {
   "cell_type": "code",
   "execution_count": 88,
   "metadata": {
    "id": "nwEtMyR1PB3C"
   },
   "outputs": [],
   "source": [
    "struct MyRational <: Real\n",
    "    num # numerator\n",
    "    den # denominator\n",
    "end"
   ]
  },
  {
   "cell_type": "code",
   "execution_count": 89,
   "metadata": {
    "colab": {
     "base_uri": "https://localhost:8080/"
    },
    "id": "cwCpLCW6PePs",
    "outputId": "017ca167-786e-4eea-e43e-99aba909b437"
   },
   "outputs": [
    {
     "data": {
      "text/plain": [
       "MyRational(2, 3)"
      ]
     },
     "metadata": {},
     "output_type": "display_data"
    }
   ],
   "source": [
    "MyRational(2, 3)"
   ]
  },
  {
   "cell_type": "markdown",
   "metadata": {
    "id": "vbIz77VzST24"
   },
   "source": [
    "It would be more convenient and readable if we could type `2 ⨸ 3` to create a `MyRational`:"
   ]
  },
  {
   "cell_type": "code",
   "execution_count": 90,
   "metadata": {
    "colab": {
     "base_uri": "https://localhost:8080/"
    },
    "id": "VuitXq8eTL4G",
    "outputId": "ca6e655b-b4d4-4ce7-c8ba-ae043a7a0ec0"
   },
   "outputs": [
    {
     "data": {
      "text/plain": [
       "⨸ (generic function with 1 method)"
      ]
     },
     "metadata": {},
     "output_type": "display_data"
    }
   ],
   "source": [
    "function ⨸(num, den)\n",
    "    MyRational(num, den)\n",
    "end"
   ]
  },
  {
   "cell_type": "code",
   "execution_count": 91,
   "metadata": {
    "colab": {
     "base_uri": "https://localhost:8080/"
    },
    "id": "isQcJMAeTRi-",
    "outputId": "d357b296-4b07-49db-f795-f3e62873ed31"
   },
   "outputs": [
    {
     "data": {
      "text/plain": [
       "MyRational(2, 3)"
      ]
     },
     "metadata": {},
     "output_type": "display_data"
    }
   ],
   "source": [
    "2 ⨸ 3"
   ]
  },
  {
   "cell_type": "markdown",
   "metadata": {
    "id": "g594gvCpTTYB"
   },
   "source": [
    "I chose `⨸` because it's a symbol that Julia's parser treats as a binary operator, but which is otherwise not used by Julia (see the full [list of parsed symbols](https://github.com/JuliaLang/julia/blob/master/src/julia-parser.scm) and their priorities). This particular symbol will have the same priority as multiplication and division."
   ]
  },
  {
   "cell_type": "markdown",
   "metadata": {
    "id": "3DKaUnqsUG0L"
   },
   "source": [
    "If you want to know how to type it and check that it is unused, type `?⨸` (copy/paste the symbol):"
   ]
  },
  {
   "cell_type": "code",
   "execution_count": 92,
   "metadata": {
    "colab": {
     "base_uri": "https://localhost:8080/",
     "height": 176
    },
    "id": "km3KccbsUTnQ",
    "outputId": "7313c3b5-a4c4-4f47-cc63-395104f2983a"
   },
   "outputs": [
    {
     "ename": "Base.Meta.ParseError",
     "evalue": "ParseError:\n# Error @ c:\\Users\\Hamid\\Downloads\\IntroJuliaPython\\julia\\jl_notebook_cell_df34fa98e69747e1a8f8a730347b8e2f_Y336sZmlsZQ==.jl:1:1\n?⨸\n╙ ── not a unary operator",
     "output_type": "error",
     "traceback": [
      "ParseError:\n",
      "# Error @ c:\\Users\\Hamid\\Downloads\\IntroJuliaPython\\julia\\jl_notebook_cell_df34fa98e69747e1a8f8a730347b8e2f_Y336sZmlsZQ==.jl:1:1\n",
      "?⨸\n",
      "╙ ── not a unary operator\n",
      "\n",
      "Stacktrace:\n",
      " [1] top-level scope\n",
      "   @ c:\\Users\\Hamid\\Downloads\\IntroJuliaPython\\julia\\jl_notebook_cell_df34fa98e69747e1a8f8a730347b8e2f_Y336sZmlsZQ==.jl:1"
     ]
    }
   ],
   "source": [
    "?⨸"
   ]
  },
  {
   "cell_type": "markdown",
   "metadata": {
    "id": "eWzNstBqQckD"
   },
   "source": [
    "Now let's make it possible to add two `MyRational` values. We want it to be possible for our `MyRational` type to be used in existing algorithms which rely on `+`, so we must create a new method for the `Base.+` function:"
   ]
  },
  {
   "cell_type": "code",
   "execution_count": 93,
   "metadata": {
    "colab": {
     "base_uri": "https://localhost:8080/"
    },
    "id": "2T7MyjE2RhUW",
    "outputId": "a7597dd9-f3f1-4189-a204-419caa8bc3b8"
   },
   "outputs": [
    {
     "data": {
      "text/plain": [
       "+ (generic function with 233 methods)"
      ]
     },
     "metadata": {},
     "output_type": "display_data"
    }
   ],
   "source": [
    "import Base.+\n",
    "\n",
    "function +(r1::MyRational, r2::MyRational)\n",
    "    (r1.num * r2.den + r1.den * r2.num) ⨸ (r1.den * r2.den)\n",
    "end"
   ]
  },
  {
   "cell_type": "code",
   "execution_count": 94,
   "metadata": {
    "colab": {
     "base_uri": "https://localhost:8080/"
    },
    "id": "aFtoPHZRSNoU",
    "outputId": "52016128-dcd4-4624-9fc6-dc9d35cae104"
   },
   "outputs": [
    {
     "data": {
      "text/plain": [
       "MyRational(19, 15)"
      ]
     },
     "metadata": {},
     "output_type": "display_data"
    }
   ],
   "source": [
    "2 ⨸ 3 + 3 ⨸ 5"
   ]
  },
  {
   "cell_type": "markdown",
   "metadata": {
    "id": "8--bQ8izR7_I"
   },
   "source": [
    "It's important to import `Base.+` first, or else you would just be defining a new `+` function in the current module (`Main`), which would not be called by existing algorithms."
   ]
  },
  {
   "cell_type": "markdown",
   "metadata": {
    "id": "x79nFEHQYFfU"
   },
   "source": [
    "You can easily implement `*`, `^` and so on, in much the same way."
   ]
  },
  {
   "cell_type": "markdown",
   "metadata": {
    "id": "GGTgc07sSR4w"
   },
   "source": [
    "Let's change the way `MyRational` values are printed, to make them look a bit nicer. For this, we must create a new method for the `Base.show(io::IO, x)` function:"
   ]
  },
  {
   "cell_type": "code",
   "execution_count": 95,
   "metadata": {
    "colab": {
     "base_uri": "https://localhost:8080/"
    },
    "id": "KQN5IqLxVzLF",
    "outputId": "b75d77cf-7082-4068-9ed2-78aa6d94ee0f"
   },
   "outputs": [
    {
     "data": {
      "text/plain": [
       "19 ⨸ 15"
      ]
     },
     "metadata": {},
     "output_type": "display_data"
    }
   ],
   "source": [
    "import Base.show\n",
    "\n",
    "function show(io::IO, r::MyRational)\n",
    "    print(io, \"$(r.num) ⨸ $(r.den)\")\n",
    "end\n",
    "\n",
    "2 ⨸ 3 + 3 ⨸ 5"
   ]
  },
  {
   "cell_type": "markdown",
   "metadata": {
    "id": "rJg_-ZYOXS4m"
   },
   "source": [
    "We can expand the `show()` function so it can provide an HTML representation for `MyRational` values. This will be called by the `display()` function in Jupyter or Colab:"
   ]
  },
  {
   "cell_type": "code",
   "execution_count": 96,
   "metadata": {
    "colab": {
     "base_uri": "https://localhost:8080/",
     "height": 40
    },
    "id": "h6smoUzBWkNB",
    "outputId": "ecd9564c-422a-4008-f4a4-6eea55c8f680"
   },
   "outputs": [
    {
     "data": {
      "text/html": [
       "<sup><b>19</b></sup>&frasl;<sub><b>15</b></sub>"
      ],
      "text/plain": [
       "19 ⨸ 15"
      ]
     },
     "metadata": {},
     "output_type": "display_data"
    }
   ],
   "source": [
    "function show(io::IO, ::MIME\"text/html\", r::MyRational)\n",
    "    print(io, \"<sup><b>$(r.num)</b></sup>&frasl;<sub><b>$(r.den)</b></sub>\")\n",
    "end\n",
    "\n",
    "2 ⨸ 3 + 3 ⨸ 5"
   ]
  },
  {
   "cell_type": "markdown",
   "metadata": {
    "id": "5bOKggSjX7hM"
   },
   "source": [
    "Next, we want to be able to perform any operation involving `MyRational` values and values of other `Number` types. For example, we may want to multiply integers and `MyRational` values. One option is to define a new method like this:"
   ]
  },
  {
   "cell_type": "code",
   "execution_count": 97,
   "metadata": {
    "colab": {
     "base_uri": "https://localhost:8080/",
     "height": 40
    },
    "id": "dlW_pbUPZL_0",
    "outputId": "dc4a635c-b057-428c-9e3d-76e33e2042cc"
   },
   "outputs": [
    {
     "data": {
      "text/html": [
       "<sup><b>10</b></sup>&frasl;<sub><b>3</b></sub>"
      ],
      "text/plain": [
       "10 ⨸ 3"
      ]
     },
     "metadata": {},
     "output_type": "display_data"
    }
   ],
   "source": [
    "import Base.*\n",
    "\n",
    "function *(r::MyRational, i::Integer)\n",
    "    (r.num * i) ⨸ r.den\n",
    "end\n",
    "\n",
    "2 ⨸ 3 * 5"
   ]
  },
  {
   "cell_type": "markdown",
   "metadata": {
    "id": "3Xr--hB-ZlDm"
   },
   "source": [
    "Since multiplication is commutative, we need the reverse method as well:"
   ]
  },
  {
   "cell_type": "code",
   "execution_count": 98,
   "metadata": {
    "colab": {
     "base_uri": "https://localhost:8080/",
     "height": 40
    },
    "id": "3DkeVGqaZtNv",
    "outputId": "02be9ab4-8792-4102-f095-bd6d807dee29"
   },
   "outputs": [
    {
     "data": {
      "text/html": [
       "<sup><b>10</b></sup>&frasl;<sub><b>3</b></sub>"
      ],
      "text/plain": [
       "10 ⨸ 3"
      ]
     },
     "metadata": {},
     "output_type": "display_data"
    }
   ],
   "source": [
    "function *(i::Integer, r::MyRational)\n",
    "    r * i # this will call the previous method\n",
    "end\n",
    "\n",
    "5 * (2 ⨸ 3) # we need the parentheses since * and ⨸ have the same priority"
   ]
  },
  {
   "cell_type": "markdown",
   "metadata": {
    "id": "hzW07JkXggLo"
   },
   "source": [
    "It's cumbersome to have to define these methods for every operation. There's a better way, which we will explore in the next two sections."
   ]
  },
  {
   "cell_type": "markdown",
   "metadata": {
    "id": "TWXZrND8N-nR"
   },
   "source": [
    "## Conversion\n",
    "It is possible to provide a way for integers to be automatically converted to `MyRational` values:"
   ]
  },
  {
   "cell_type": "code",
   "execution_count": 99,
   "metadata": {
    "colab": {
     "base_uri": "https://localhost:8080/",
     "height": 217
    },
    "id": "SFIenX2Og0qY",
    "outputId": "b2747c62-a75a-4e4d-fc89-9b179f912047"
   },
   "outputs": [
    {
     "data": {
      "text/html": [
       "<sup><b>42</b></sup>&frasl;<sub><b>1</b></sub>"
      ],
      "text/plain": [
       "42 ⨸ 1"
      ]
     },
     "metadata": {},
     "output_type": "display_data"
    }
   ],
   "source": [
    "import Base.convert\n",
    "\n",
    "MyRational(x::Integer) = MyRational(x, 1)\n",
    "\n",
    "convert(::Type{MyRational}, x::Integer) = MyRational(x)\n",
    "\n",
    "convert(MyRational, 42)"
   ]
  },
  {
   "cell_type": "markdown",
   "metadata": {
    "id": "n_gGRgRSwrkS"
   },
   "source": [
    "The `Type{MyRational}` type is a special type which has a single instance: the `MyRational` type itself. So this `convert()` method only accepts `MyRational` itself as its first argument (and we don't actually use the first argument, so we don't even need to give it a name in the function declaration)."
   ]
  },
  {
   "cell_type": "markdown",
   "metadata": {
    "id": "5B9cNbV5lbHm"
   },
   "source": [
    "Now integers will be automatically converted to `MyRational` values when you assign them to an array whose element type if `MyRational`:"
   ]
  },
  {
   "cell_type": "code",
   "execution_count": 100,
   "metadata": {
    "colab": {
     "base_uri": "https://localhost:8080/"
    },
    "id": "YWdijh_2k7LU",
    "outputId": "94592f20-669c-4445-ba70-4bbadfeb9b67"
   },
   "outputs": [
    {
     "name": "stdout",
     "output_type": "stream",
     "text": [
      "MyRational[5 ⨸ 1, 6 ⨸ 1]\n"
     ]
    }
   ],
   "source": [
    "a = [2 ⨸ 3] # the element type is MyRational\n",
    "a[1] = 5    # convert(MyRational, 5) is called automatically\n",
    "push!(a, 6) # convert(MyRational, 6) is called automatically\n",
    "println(a)"
   ]
  },
  {
   "cell_type": "markdown",
   "metadata": {
    "id": "ESWblH5olvOY"
   },
   "source": [
    "Conversion will also occur automatically in these cases:\n",
    "* `r::MyRational = 42`: assigning an integer to `r` where `r` is a local variable with a declared type of `MyRational`.\n",
    "* `s.b = 42` if `s` is a struct and `b` is a field of type `MyRational` (also when calling `new(42)` on that struct, assuming `b` is the first field).\n",
    "* `return 42` if the return type is declared as `MyRational` (e.g., `function f(x)::MyRational ... end`)."
   ]
  },
  {
   "cell_type": "markdown",
   "metadata": {
    "id": "kIulkBomd5hy"
   },
   "source": [
    "However, there is no automatic conversion when calling functions:"
   ]
  },
  {
   "cell_type": "code",
   "execution_count": 101,
   "metadata": {
    "colab": {
     "base_uri": "https://localhost:8080/"
    },
    "id": "7Jf6rT8uhAtU",
    "outputId": "53d01ea4-403e-4c77-b100-27c1c0d5a1db"
   },
   "outputs": [
    {
     "data": {
      "text/plain": [
       "MethodError(for_my_rationals_only, (42,), 0x0000000000007be6)"
      ]
     },
     "metadata": {},
     "output_type": "display_data"
    }
   ],
   "source": [
    "function for_my_rationals_only(x::MyRational)\n",
    "    println(\"It works:\", x)\n",
    "end\n",
    "\n",
    "try\n",
    "    for_my_rationals_only(42)\n",
    "catch ex\n",
    "    ex\n",
    "end"
   ]
  },
  {
   "cell_type": "markdown",
   "metadata": {
    "id": "KhtxelSROzU_"
   },
   "source": [
    "## Promotion\n",
    "The `Base` functions `+`, `-`, `*`, `/`, `^`, etc. all use a \"promotion\" algorithm to convert the arguments to the appropriate type. For example, adding an integer and a float promotes the integer to a float before the addition takes place. These functions use the `promote()` function for this. For example, given several integers and a float, all integers get promoted to floats:"
   ]
  },
  {
   "cell_type": "code",
   "execution_count": 102,
   "metadata": {
    "colab": {
     "base_uri": "https://localhost:8080/"
    },
    "id": "BEa8TRPuokYN",
    "outputId": "2072687e-9c65-44c2-eb5a-a22c699cea61"
   },
   "outputs": [
    {
     "data": {
      "text/plain": [
       "(1.0, 2.0, 3.0, 4.0)"
      ]
     },
     "metadata": {},
     "output_type": "display_data"
    }
   ],
   "source": [
    "promote(1, 2, 3, 4.0)"
   ]
  },
  {
   "cell_type": "markdown",
   "metadata": {
    "id": "wDpLvwpMPP59"
   },
   "source": [
    "This is why a sum of integers and floats results in a float:"
   ]
  },
  {
   "cell_type": "code",
   "execution_count": 103,
   "metadata": {
    "colab": {
     "base_uri": "https://localhost:8080/"
    },
    "id": "grWU-hHHPI7v",
    "outputId": "8da3b111-0cf0-439b-bdb5-367d8f1256ec"
   },
   "outputs": [
    {
     "data": {
      "text/plain": [
       "10.0"
      ]
     },
     "metadata": {},
     "output_type": "display_data"
    }
   ],
   "source": [
    "1 + 2 + 3 + 4.0"
   ]
  },
  {
   "cell_type": "markdown",
   "metadata": {
    "id": "pkrDanbRO7b2"
   },
   "source": [
    "The `promote()` function is also called when creating an array. For example, the following array is a `Float64` array:"
   ]
  },
  {
   "cell_type": "code",
   "execution_count": 104,
   "metadata": {
    "colab": {
     "base_uri": "https://localhost:8080/"
    },
    "id": "AeDsWTZjO-4d",
    "outputId": "252a21df-f769-48dc-aa58-4d92db3e5a0d"
   },
   "outputs": [
    {
     "data": {
      "text/plain": [
       "4-element Vector{Float64}:\n",
       " 1.0\n",
       " 2.0\n",
       " 3.0\n",
       " 4.0"
      ]
     },
     "metadata": {},
     "output_type": "display_data"
    }
   ],
   "source": [
    "a = [1, 2, 3, 4.0]"
   ]
  },
  {
   "cell_type": "markdown",
   "metadata": {
    "id": "JCdZ4NhMo505"
   },
   "source": [
    "What about the `MyRational` type? Rather than create new methods for the `promote()` function, the recommended approach is to create a new method for the `promote_rule()` function. It takes two types and returns the type to convert to:"
   ]
  },
  {
   "cell_type": "code",
   "execution_count": 105,
   "metadata": {
    "colab": {
     "base_uri": "https://localhost:8080/"
    },
    "id": "3xJTjr7XPgtx",
    "outputId": "97e8f396-5980-45c3-b52b-b888bc937832"
   },
   "outputs": [
    {
     "data": {
      "text/plain": [
       "Float64"
      ]
     },
     "metadata": {},
     "output_type": "display_data"
    }
   ],
   "source": [
    "promote_rule(Float64, Int64)"
   ]
  },
  {
   "cell_type": "markdown",
   "metadata": {
    "id": "W68U2_SjPt_T"
   },
   "source": [
    "Let's implement a new method for this function, to make sure that any subtype of the `Integer` type will be promoted to `MyRational`:"
   ]
  },
  {
   "cell_type": "code",
   "execution_count": 106,
   "metadata": {
    "colab": {
     "base_uri": "https://localhost:8080/"
    },
    "id": "wjK9_3Bierna",
    "outputId": "dffe594f-900b-4b59-c977-ebb52be9bc0d"
   },
   "outputs": [
    {
     "data": {
      "text/plain": [
       "promote_rule (generic function with 152 methods)"
      ]
     },
     "metadata": {},
     "output_type": "display_data"
    }
   ],
   "source": [
    "import Base.promote_rule\n",
    "\n",
    "promote_rule(::Type{MyRational}, ::Type{T}) where {T <: Integer} = MyRational"
   ]
  },
  {
   "cell_type": "markdown",
   "metadata": {
    "id": "OSXo1GaxwU9F"
   },
   "source": [
    "This method definition uses **parametric types**: the type `T` can be any type at all, as long as it is a subtype of the `Integer` abstract type. If you tried to define the method `promote_rule(::Type{MyRational}, ::Type{Integer})`, it would expect the type `Integer` itself as the second argument, which would not work, since the `promote_rule()` function will usually be called with concrete types like `Int64` as its arguments."
   ]
  },
  {
   "cell_type": "markdown",
   "metadata": {
    "id": "Cn7m2aTTrC6X"
   },
   "source": [
    "Let's check that it works:"
   ]
  },
  {
   "cell_type": "code",
   "execution_count": 107,
   "metadata": {
    "colab": {
     "base_uri": "https://localhost:8080/"
    },
    "id": "bD7p0DHFfaCg",
    "outputId": "83870c15-e9cd-4ac2-aaa3-9120c6dadb96"
   },
   "outputs": [
    {
     "data": {
      "text/plain": [
       "(5 ⨸ 1, 2 ⨸ 3)"
      ]
     },
     "metadata": {},
     "output_type": "display_data"
    }
   ],
   "source": [
    "promote(5, 2 ⨸ 3)"
   ]
  },
  {
   "cell_type": "markdown",
   "metadata": {
    "id": "WVRYV79ErH81"
   },
   "source": [
    "Yep! Now whenever we call `+`, `-`, etc., with an integer and a `MyRational` value, the integer will get automatically promoted to a `MyRational` value:"
   ]
  },
  {
   "cell_type": "code",
   "execution_count": 108,
   "metadata": {
    "colab": {
     "base_uri": "https://localhost:8080/",
     "height": 40
    },
    "id": "lmjjo9lSegy9",
    "outputId": "ec5cbc62-5e5f-4593-deb1-49bd908dd482"
   },
   "outputs": [
    {
     "data": {
      "text/html": [
       "<sup><b>17</b></sup>&frasl;<sub><b>3</b></sub>"
      ],
      "text/plain": [
       "17 ⨸ 3"
      ]
     },
     "metadata": {},
     "output_type": "display_data"
    }
   ],
   "source": [
    "5 + 2 ⨸ 3"
   ]
  },
  {
   "cell_type": "markdown",
   "metadata": {
    "id": "B6jVZiYXxuPJ"
   },
   "source": [
    "Under the hood:\n",
    "* this called `+(5, 2 ⨸ 3)`,\n",
    "  * which called the `+(::Number, ::Number)` method (thanks to multiple dispatch),\n",
    "    * which called `promote(5, 2 ⨸ 3)`,\n",
    "      * which called `promote_rule(Int64, MyRational)`,\n",
    "        * which called `promote_rule(::MyRational, ::T) where {T <: Integer}`,\n",
    "          * which returned `MyRational`,\n",
    "    * then the `+(::Number, ::Number)` method called `convert(MyRational, 5)`,\n",
    "      * which called `MyRational(5)`,\n",
    "        * which returned `MyRational(5, 1)`,\n",
    "    * and finally `+(::Number, ::Number)` called `+(MyRational(5, 1), MyRational(2, 3))`,\n",
    "      * which returned `MyRational(17, 3)`."
   ]
  },
  {
   "cell_type": "markdown",
   "metadata": {
    "id": "d30Q7aANrik5"
   },
   "source": [
    "The benefit of this approach is that we only need to implement the `+`, `-`, etc. functions for pairs of `MyRational` values, not with all combinations of `MyRational` values and integers."
   ]
  },
  {
   "cell_type": "markdown",
   "metadata": {
    "id": "GftnTFTyLchM"
   },
   "source": [
    "If your head hurts, it's perfectly normal. ;-) Writing a new type that is easy to use, flexible and plays nicely with existing types takes a bit of planning and work, but the point is that you will not write these every day, and once you have, they will make your life much easier."
   ]
  },
  {
   "cell_type": "markdown",
   "metadata": {
    "id": "GSVv5YNisaxJ"
   },
   "source": [
    "Now let's handle the case where we want to execute operations with `MyRational` values and floats. In this case, we naturally want to promote the `MyRational` value to a float. We first need to define how to convert a `MyRational` value to any subtype of `AbstractFloat`:"
   ]
  },
  {
   "cell_type": "code",
   "execution_count": 109,
   "metadata": {
    "colab": {
     "base_uri": "https://localhost:8080/"
    },
    "id": "DZSFfORzrx4I",
    "outputId": "20594fff-abd2-4b24-9ccf-5bb2619d049c"
   },
   "outputs": [
    {
     "data": {
      "text/plain": [
       "convert (generic function with 274 methods)"
      ]
     },
     "metadata": {},
     "output_type": "display_data"
    }
   ],
   "source": [
    "convert(::Type{T}, x::MyRational) where {T <: AbstractFloat} = T(x.num / x.den)"
   ]
  },
  {
   "cell_type": "markdown",
   "metadata": {
    "id": "XC5z7YxcMjJN"
   },
   "source": [
    "This `convert()` works with any type `T` which is a subtype of `AbstractFloat`. It just computes `x.num / x.den` and converts the result to type `T`. Let's try it:"
   ]
  },
  {
   "cell_type": "code",
   "execution_count": 110,
   "metadata": {
    "colab": {
     "base_uri": "https://localhost:8080/"
    },
    "id": "LxPjD04VMBXg",
    "outputId": "58e58343-68ff-4ce0-da84-0dd50fe517bb"
   },
   "outputs": [
    {
     "data": {
      "text/plain": [
       "1.5"
      ]
     },
     "metadata": {},
     "output_type": "display_data"
    }
   ],
   "source": [
    "convert(Float64, 3 ⨸ 2)"
   ]
  },
  {
   "cell_type": "markdown",
   "metadata": {
    "id": "Iity08_TMyLa"
   },
   "source": [
    "Now let's define a `promote_rule()` method which will work for any type `T` which is a subtype of `AbstractFloat`, and which will give priority to `T` over `MyRational`:"
   ]
  },
  {
   "cell_type": "code",
   "execution_count": 111,
   "metadata": {
    "colab": {
     "base_uri": "https://localhost:8080/"
    },
    "id": "S2xlgBf8MGa8",
    "outputId": "0ee7c041-1448-47b4-b378-a34cc020d026"
   },
   "outputs": [
    {
     "data": {
      "text/plain": [
       "promote_rule (generic function with 153 methods)"
      ]
     },
     "metadata": {},
     "output_type": "display_data"
    }
   ],
   "source": [
    "promote_rule(::Type{MyRational}, ::Type{T}) where {T <: AbstractFloat} = T"
   ]
  },
  {
   "cell_type": "code",
   "execution_count": 112,
   "metadata": {
    "colab": {
     "base_uri": "https://localhost:8080/"
    },
    "id": "5Xe9_k_GQZw0",
    "outputId": "6c4a036f-90f3-431e-aa7a-d40699228543"
   },
   "outputs": [
    {
     "data": {
      "text/plain": [
       "(0.5, 4.0)"
      ]
     },
     "metadata": {},
     "output_type": "display_data"
    }
   ],
   "source": [
    "promote(1 ⨸ 2, 4.0)"
   ]
  },
  {
   "cell_type": "markdown",
   "metadata": {
    "id": "ZRQrziIuNONH"
   },
   "source": [
    "Now we can combine floats and `MyRational` values easily:"
   ]
  },
  {
   "cell_type": "code",
   "execution_count": 113,
   "metadata": {
    "colab": {
     "base_uri": "https://localhost:8080/"
    },
    "id": "ncZJSLjTsMsG",
    "outputId": "fd72736a-f7eb-4d4b-cde2-87e936c2e152"
   },
   "outputs": [
    {
     "data": {
      "text/plain": [
       "1.5"
      ]
     },
     "metadata": {},
     "output_type": "display_data"
    }
   ],
   "source": [
    "2.25 ^ (1 ⨸ 2)"
   ]
  },
  {
   "cell_type": "markdown",
   "metadata": {
    "id": "p6msWOnrRwTO"
   },
   "source": [
    "## Parametric Types and Functions"
   ]
  },
  {
   "cell_type": "markdown",
   "metadata": {
    "id": "6aNBefNARChe"
   },
   "source": [
    "Julia's `Rational` type is actually a **parametric type** which ensures that the numerator and denominator have the same type `T`, subtype of `Integer`. Here's a new version of our rational struct which enforces the same constraint:"
   ]
  },
  {
   "cell_type": "code",
   "execution_count": 114,
   "metadata": {
    "id": "I0Vyf_ogRdy0"
   },
   "outputs": [],
   "source": [
    "struct MyRational2{T <: Integer}\n",
    "    num::T\n",
    "    den::T\n",
    "end"
   ]
  },
  {
   "cell_type": "markdown",
   "metadata": {
    "id": "SHdhiFdlSwOd"
   },
   "source": [
    "To instantiate this type, we can specify the type `T`:"
   ]
  },
  {
   "cell_type": "code",
   "execution_count": 115,
   "metadata": {
    "colab": {
     "base_uri": "https://localhost:8080/"
    },
    "id": "FTfSXjQ4RseZ",
    "outputId": "1edf49ff-e524-490d-be93-6119b2d4e64b"
   },
   "outputs": [
    {
     "data": {
      "text/plain": [
       "MyRational2{BigInt}(2, 3)"
      ]
     },
     "metadata": {},
     "output_type": "display_data"
    }
   ],
   "source": [
    "MyRational2{BigInt}(2, 3)"
   ]
  },
  {
   "cell_type": "markdown",
   "metadata": {
    "id": "_dFuAINiTboo"
   },
   "source": [
    "Alternatively, we can use the `MyRational2` type's default constructor, with two integers of the same type:"
   ]
  },
  {
   "cell_type": "code",
   "execution_count": 116,
   "metadata": {
    "colab": {
     "base_uri": "https://localhost:8080/"
    },
    "id": "8Q8RWIB8Toq7",
    "outputId": "ae16bd94-90f5-437f-c6f2-60e1d12cbe89"
   },
   "outputs": [
    {
     "data": {
      "text/plain": [
       "MyRational2{Int64}(2, 3)"
      ]
     },
     "metadata": {},
     "output_type": "display_data"
    }
   ],
   "source": [
    "MyRational2(2, 3)"
   ]
  },
  {
   "cell_type": "markdown",
   "metadata": {
    "id": "8hhYRFcWXKkG"
   },
   "source": [
    "If we want to be able to construct a `MyRational2` with integers of different types, we must write an appropriate constructor which handles the promotion rule:"
   ]
  },
  {
   "cell_type": "code",
   "execution_count": 117,
   "metadata": {
    "colab": {
     "base_uri": "https://localhost:8080/"
    },
    "id": "BdRaOp44XS-I",
    "outputId": "bc707320-e267-4a2a-f1d9-8a8e0e92f13b"
   },
   "outputs": [
    {
     "data": {
      "text/plain": [
       "MyRational2"
      ]
     },
     "metadata": {},
     "output_type": "display_data"
    }
   ],
   "source": [
    "function MyRational2(num::Integer, den::Integer)\n",
    "    MyRational2(promote(num, den)...)\n",
    "end"
   ]
  },
  {
   "cell_type": "markdown",
   "metadata": {
    "id": "F1-HWooSXwRj"
   },
   "source": [
    "This constructor accepts two integers of potentially different types, and promotes them to the same type. Then it calls the default `MyRational2` constructor which expects two arguments of the same type. The syntax `f(args...)` is analog to Python's `f(*args)`."
   ]
  },
  {
   "cell_type": "markdown",
   "metadata": {
    "id": "ui3Oe7CHYhKs"
   },
   "source": [
    "Let's see if this works:"
   ]
  },
  {
   "cell_type": "code",
   "execution_count": 118,
   "metadata": {
    "colab": {
     "base_uri": "https://localhost:8080/"
    },
    "id": "55PS-B4kXsMv",
    "outputId": "828a7b3a-3a3a-4c7e-efbc-9bd8706b2f9c"
   },
   "outputs": [
    {
     "data": {
      "text/plain": [
       "MyRational2{BigInt}(2, 3)"
      ]
     },
     "metadata": {},
     "output_type": "display_data"
    }
   ],
   "source": [
    "MyRational2(2, BigInt(3))"
   ]
  },
  {
   "cell_type": "markdown",
   "metadata": {
    "id": "FYBh3sMgXvIy"
   },
   "source": [
    "Great!"
   ]
  },
  {
   "cell_type": "markdown",
   "metadata": {
    "id": "TFB6iS8cYuwk"
   },
   "source": [
    "Note that all parametrized types such as `MyRational2{Int64}` or `MyRational2{BigInt}` are subtypes of `MyRational2`. So if a function accepts a `MyRational2` argument, you can pass it an instance of any specific, parametrized type:"
   ]
  },
  {
   "cell_type": "code",
   "execution_count": 119,
   "metadata": {
    "colab": {
     "base_uri": "https://localhost:8080/"
    },
    "id": "Xoe56vbfZXr8",
    "outputId": "f2ea0d6d-5130-4fcf-94a0-46dd0f06849e"
   },
   "outputs": [
    {
     "name": "stdout",
     "output_type": "stream",
     "text": [
      "MyRational2{BigInt}(1, 2)\n",
      "MyRational2{Int64}(1, 2)\n"
     ]
    }
   ],
   "source": [
    "function for_any_my_rational2(x::MyRational2)\n",
    "    println(x)\n",
    "end\n",
    "\n",
    "for_any_my_rational2(MyRational2{BigInt}(1, 2))\n",
    "for_any_my_rational2(MyRational2{Int64}(1, 2))"
   ]
  },
  {
   "cell_type": "markdown",
   "metadata": {
    "id": "HzrkuhIMT3rq"
   },
   "source": [
    "It's useful to think of types as sets. For example, the `Int64` type represents the set of all 64-bit integer values, so `42 isa Int64`:\n",
    "* When `x` is an instance of some type `T`, it is an element of the set `T` represents, and `x isa T`.\n",
    "* When `U` is a subtype of `V`, `U` is a subset of `V`, and `U <: V`.\n",
    "\n",
    "The `MyRational2` type itself (without any parameter) represents the set of all values of `MyRational2{T}` for all subtypes `T` of `Integer`. In other words, it is the union of all the `MyRational2{T}` types. This is called a `UnionAll` type, and indeed the type `MyRational2` itself is an instance of the `UnionAll` type:"
   ]
  },
  {
   "cell_type": "code",
   "execution_count": 120,
   "metadata": {
    "id": "hGKucwR4Z78q"
   },
   "outputs": [],
   "source": [
    "@assert MyRational2{BigInt}(2, 3) isa MyRational2{BigInt}\n",
    "@assert MyRational2{BigInt}(2, 3) isa MyRational2\n",
    "@assert MyRational2 === (MyRational2{T} where {T <: Integer})\n",
    "@assert MyRational2{BigInt} <: MyRational2\n",
    "@assert MyRational2 isa UnionAll"
   ]
  },
  {
   "cell_type": "markdown",
   "metadata": {
    "id": "Tv483WelU4It"
   },
   "source": [
    "If we dump the `MyRational2` type, we can see that it is a `UnionAll` instance, with a parameter type `T`, constrained to a subtype of the `Integer` type (since the upper bound `ub` is `Integer`):"
   ]
  },
  {
   "cell_type": "code",
   "execution_count": 121,
   "metadata": {
    "colab": {
     "base_uri": "https://localhost:8080/"
    },
    "id": "6Xzox_pwU1AA",
    "outputId": "48b91ee4-60ef-419b-b7f2-5d9aa82c9a4f"
   },
   "outputs": [
    {
     "name": "stdout",
     "output_type": "stream",
     "text": [
      "UnionAll\n",
      "  var: TypeVar\n",
      "    name: Symbol T\n",
      "    lb: Union{}\n",
      "    ub: Integer <: Real\n",
      "  body: MyRational2{T<:Integer} <: Any\n",
      "    num::T\n",
      "    den::T\n"
     ]
    }
   ],
   "source": [
    "dump(MyRational2)"
   ]
  },
  {
   "cell_type": "markdown",
   "metadata": {
    "id": "eEpPNFJBcoag"
   },
   "source": [
    "There's a lot more to learn about Julia types. When you feel ready to explore this in more depth, check out [this page](https://docs.julialang.org/en/v1.4/manual/types/). You can also take a look at the [source code of Julia's rationals](https://github.com/JuliaLang/julia/blob/master/base/rational.jl)."
   ]
  },
  {
   "cell_type": "markdown",
   "metadata": {
    "id": "Ieqz4vrxEAQb"
   },
   "source": [
    "# Docstrings\n",
    "It's good practice to add docstrings to every function you export. The docstring is placed just _before_ the definition of the function:"
   ]
  },
  {
   "cell_type": "code",
   "execution_count": 122,
   "metadata": {
    "colab": {
     "base_uri": "https://localhost:8080/"
    },
    "id": "OgwehsQjNj8Y",
    "outputId": "fbe4fe4b-47f6-467d-a311-8744f88e8f2a"
   },
   "outputs": [
    {
     "data": {
      "text/plain": [
       "square"
      ]
     },
     "metadata": {},
     "output_type": "display_data"
    }
   ],
   "source": [
    "\"Compute the square of number x\"\n",
    "square(x::Number) = x^2"
   ]
  },
  {
   "cell_type": "markdown",
   "metadata": {
    "id": "B9vmLpLpO6ix"
   },
   "source": [
    "You can retrieve a function's docstring using the `@doc` macro:"
   ]
  },
  {
   "cell_type": "code",
   "execution_count": 123,
   "metadata": {
    "colab": {
     "base_uri": "https://localhost:8080/",
     "height": 46
    },
    "id": "rYR63pL1NsWU",
    "outputId": "99613972-c9a9-4898-86b0-dae41aa07e5e"
   },
   "outputs": [
    {
     "data": {
      "text/latex": [
       "Compute the square of number x\n",
       "\n"
      ],
      "text/markdown": [
       "Compute the square of number x\n"
      ],
      "text/plain": [
       "  Compute the square of number x"
      ]
     },
     "metadata": {},
     "output_type": "display_data"
    }
   ],
   "source": [
    "@doc square"
   ]
  },
  {
   "cell_type": "markdown",
   "metadata": {
    "id": "wte1Y76jPKpd"
   },
   "source": [
    "Docstrings follow the [Markdown format](https://en.wikipedia.org/wiki/Markdown#:~:text=Markdown%20is%20a%20lightweight%20markup,using%20a%20plain%20text%20editor.).\n",
    "A typical docstring starts with the signature of the function, indented by 4 spaces, so it will get syntax highlighted as Julia code.\n",
    "It also includes an `Examples` section with Julia REPL outputs:"
   ]
  },
  {
   "cell_type": "code",
   "execution_count": 124,
   "metadata": {
    "colab": {
     "base_uri": "https://localhost:8080/"
    },
    "id": "xucdR5ywNzTf",
    "outputId": "df1b56b6-02b3-4abe-9d3f-40eb1b24f1df"
   },
   "outputs": [
    {
     "data": {
      "text/plain": [
       "cube"
      ]
     },
     "metadata": {},
     "output_type": "display_data"
    }
   ],
   "source": [
    "\"\"\"\n",
    "    cube(x::Number)\n",
    "\n",
    "Compute the cube of `x`.\n",
    "\n",
    "# Examples\n",
    "```julia-repl\n",
    "julia> cube(5)\n",
    "125\n",
    "julia> cube(im)\n",
    "0 - 1im\n",
    "```\n",
    "\"\"\"\n",
    "cube(x) = x^3"
   ]
  },
  {
   "cell_type": "code",
   "execution_count": 125,
   "metadata": {},
   "outputs": [
    {
     "data": {
      "text/latex": [
       "\\begin{verbatim}\n",
       "cube(x::Number)\n",
       "\\end{verbatim}\n",
       "Compute the cube of \\texttt{x}.\n",
       "\n",
       "\\section{Examples}\n",
       "\\begin{verbatim}\n",
       "julia> cube(5)\n",
       "125\n",
       "julia> cube(im)\n",
       "0 - 1im\n",
       "\\end{verbatim}\n"
      ],
      "text/markdown": [
       "```\n",
       "cube(x::Number)\n",
       "```\n",
       "\n",
       "Compute the cube of `x`.\n",
       "\n",
       "# Examples\n",
       "\n",
       "```julia-repl\n",
       "julia> cube(5)\n",
       "125\n",
       "julia> cube(im)\n",
       "0 - 1im\n",
       "```\n"
      ],
      "text/plain": [
       "\u001b[36m  cube(x::Number)\u001b[39m\n",
       "\n",
       "  Compute the cube of \u001b[36mx\u001b[39m.\n",
       "\n",
       "\u001b[1m  Examples\u001b[22m\n",
       "\u001b[1m  ≡≡≡≡≡≡≡≡\u001b[22m\n",
       "\n",
       "\u001b[36m  julia> cube(5)\u001b[39m\n",
       "\u001b[36m  125\u001b[39m\n",
       "\u001b[36m  julia> cube(im)\u001b[39m\n",
       "\u001b[36m  0 - 1im\u001b[39m"
      ]
     },
     "metadata": {},
     "output_type": "display_data"
    }
   ],
   "source": [
    "@doc cube"
   ]
  },
  {
   "cell_type": "markdown",
   "metadata": {
    "id": "b2aSKGYkaN7D"
   },
   "source": [
    "Instead of using `julia-repl` code blocks for the examples, you can use `jldoctest` to mark these examples as doctests (similar to Python's doctests)."
   ]
  },
  {
   "cell_type": "markdown",
   "metadata": {
    "id": "gJt_pU7oQFzT"
   },
   "source": [
    "The help gets nicely formatted:"
   ]
  },
  {
   "cell_type": "markdown",
   "metadata": {
    "id": "bT28xCa9QMcq"
   },
   "source": [
    "When there are several methods for a given function, it is common to give general information about the function in the first method (usually the most generic), and only add docstrings to other methods if they add useful information (without repeating the general info).\n",
    "\n",
    "Alternatively, you may attach the general information to the function itself:"
   ]
  },
  {
   "cell_type": "code",
   "execution_count": 126,
   "metadata": {
    "colab": {
     "base_uri": "https://localhost:8080/"
    },
    "id": "mi3rw1dYQmkT",
    "outputId": "7c69340b-6d91-49d0-f05d-fa1ff2831bf5"
   },
   "outputs": [
    {
     "data": {
      "text/plain": [
       "foo"
      ]
     },
     "metadata": {},
     "output_type": "display_data"
    }
   ],
   "source": [
    "\"\"\"\n",
    "    foo(x)\n",
    "\n",
    "Compute the foo of the bar\n",
    "\"\"\"\n",
    "function foo end  # declares the foo function\n",
    "\n",
    "# foo(x::Number) behaves normally, no need for a docstring\n",
    "foo(x::Number) = \"baz\"\n",
    "\n",
    "\"\"\"\n",
    "    foo(x::String)\n",
    "\n",
    "For strings, compute the qux of the bar instead.\n",
    "\"\"\"\n",
    "foo(x::String) = \"qux\""
   ]
  },
  {
   "cell_type": "code",
   "execution_count": 127,
   "metadata": {
    "colab": {
     "base_uri": "https://localhost:8080/",
     "height": 153
    },
    "id": "ffQK0fnPTXsH",
    "outputId": "04852f52-c662-41f1-e4c4-528439d3b817"
   },
   "outputs": [],
   "source": [
    "# @doc foo # need to install LaTeX"
   ]
  }
 ],
 "metadata": {
  "accelerator": "GPU",
  "colab": {
   "collapsed_sections": [],
   "name": "Julia_Py.ipynb",
   "provenance": [],
   "toc_visible": true
  },
  "kernelspec": {
   "display_name": "Julia 1.10.5",
   "language": "julia",
   "name": "julia-1.10"
  },
  "language_info": {
   "file_extension": ".jl",
   "mimetype": "application/julia",
   "name": "julia",
   "version": "1.10.5"
  }
 },
 "nbformat": 4,
 "nbformat_minor": 1
}
