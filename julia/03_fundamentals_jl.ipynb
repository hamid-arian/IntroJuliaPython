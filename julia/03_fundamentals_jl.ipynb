{
 "cells": [
  {
   "cell_type": "markdown",
   "metadata": {
    "id": "TcwD8b3R1vmy"
   },
   "source": [
    "# Julia's Hiearchical and Fundamental Type System\n",
    "\n",
    "Julia defines and provides functions for standard data types such as\n",
    "\n",
    "*   strings\n",
    "*   integers\n",
    "*   floats\n",
    "*   arrays and matrices\n",
    "*   etc...\n",
    "\n",
    "The basic process in Julia is the REPL, which stands for \"Read-Evaluate-Print Loop\".\n",
    "\n",
    "Every time you take a step in Julia (hitting Shift-Enter in JuliaBox, for instance), you run through this loop.\n",
    "\n",
    "Julia's fundamental process is the REPL(Read-Evaluate-Print Loop). This loop is executed each time you take a step in Julia (for example, by pressing Shift-Enter in Visual Studio Code or Google Colab)."
   ]
  },
  {
   "cell_type": "markdown",
   "metadata": {
    "id": "sXEjDf7jBjJi"
   },
   "source": [
    "## Arrays\n",
    "\n",
    "Let's create a small array:"
   ]
  },
  {
   "cell_type": "code",
   "execution_count": null,
   "metadata": {
    "colab": {
     "base_uri": "https://localhost:8080/"
    },
    "id": "UFhriSyixCMX",
    "outputId": "94dbb4ce-53db-4166-cee9-cf5326c2178e"
   },
   "outputs": [],
   "source": [
    "a = [1, 4, 9, 16]"
   ]
  },
  {
   "cell_type": "markdown",
   "metadata": {
    "id": "owVeZ9nLR2on"
   },
   "source": [
    "Indexing and assignments work as you would expect:"
   ]
  },
  {
   "cell_type": "code",
   "execution_count": null,
   "metadata": {
    "colab": {
     "base_uri": "https://localhost:8080/"
    },
    "id": "yM4mNBfKR81J",
    "outputId": "baf8aaf1-00b5-45fd-990e-910f43c3425d"
   },
   "outputs": [],
   "source": [
    "a[1] = 10\n",
    "a[2:3] = [20, 30]\n",
    "a"
   ]
  },
  {
   "cell_type": "markdown",
   "metadata": {
    "id": "bv_tPMOhxHtK"
   },
   "source": [
    "### Element Type\n",
    "Since we used only integers when creating the array, Julia inferred that the array is only meant to hold integers (NumPy arrays behave the same way). Let's try adding a string:"
   ]
  },
  {
   "cell_type": "code",
   "execution_count": null,
   "metadata": {
    "colab": {
     "base_uri": "https://localhost:8080/"
    },
    "id": "XBiagA9b_YPR",
    "outputId": "b3c3624d-1695-4c4c-d39a-6fa15bc8d023"
   },
   "outputs": [],
   "source": [
    "try\n",
    "  a[3] = \"Three\" #string \n",
    "catch ex\n",
    "  ex\n",
    "end"
   ]
  },
  {
   "cell_type": "markdown",
   "metadata": {
    "id": "T8EJ7y5HAgzz"
   },
   "source": [
    "Nope! We get a `MethodError` exception, telling us that Julia could not convert the string `\"Three\"` to a 64-bit integer (we will discuss exceptions later). If we want an array that can hold any type, like Python's lists can, we must prefix the array with `Any`, which is Julia's root type (like `object` in Python):"
   ]
  },
  {
   "cell_type": "code",
   "execution_count": null,
   "metadata": {
    "colab": {
     "base_uri": "https://localhost:8080/"
    },
    "id": "VcsscYgVBX6Z",
    "outputId": "d218d37f-189c-495f-80d0-a2e05a2425e9"
   },
   "outputs": [],
   "source": [
    "a = Any[1, 4, 9, 16]\n",
    "a[3] = \"Three\"\n",
    "a"
   ]
  },
  {
   "cell_type": "markdown",
   "metadata": {
    "id": "yekHWpLFPWUO"
   },
   "source": [
    "Prefixing with `Float64`, or `String` or any other type works as well:"
   ]
  },
  {
   "cell_type": "code",
   "execution_count": null,
   "metadata": {
    "colab": {
     "base_uri": "https://localhost:8080/"
    },
    "id": "hR9x5VEmPfgO",
    "outputId": "fb1e481b-b1fb-4e83-cbc4-eb6f274290b6"
   },
   "outputs": [],
   "source": [
    "b = Float64[1, 4, 9, 16]"
   ]
  },
  {
   "cell_type": "markdown",
   "metadata": {
    "id": "8-2ahduHoiRh"
   },
   "source": [
    "An empty array is automatically an `Any` array:"
   ]
  },
  {
   "cell_type": "code",
   "execution_count": null,
   "metadata": {
    "colab": {
     "base_uri": "https://localhost:8080/"
    },
    "id": "eDMPVf5Oolnk",
    "outputId": "83df0a4e-45e3-4b5c-e51a-aa5e410dd934"
   },
   "outputs": [],
   "source": [
    "a = []"
   ]
  },
  {
   "cell_type": "markdown",
   "metadata": {
    "id": "zY4m8VX2PmXq"
   },
   "source": [
    "You can use the `eltype()` function to get an array's element type (the equivalent of NumPy arrays' `dtype`):"
   ]
  },
  {
   "cell_type": "code",
   "execution_count": null,
   "metadata": {
    "colab": {
     "base_uri": "https://localhost:8080/"
    },
    "id": "zZN9rtpEPvGV",
    "outputId": "67e644db-5103-4f5d-8b21-b8bd336982a2"
   },
   "outputs": [],
   "source": [
    "eltype([1, 4, 9, 16])"
   ]
  },
  {
   "cell_type": "markdown",
   "metadata": {
    "id": "RXavtfEvyx-I"
   },
   "source": [
    "If you create an array containing objects of different types, Julia will do its best to use a type that can hold all the values as precisely as possible. For example, a mix of integers and floats results in a float array:"
   ]
  },
  {
   "cell_type": "code",
   "execution_count": null,
   "metadata": {
    "colab": {
     "base_uri": "https://localhost:8080/"
    },
    "id": "jovRNC9tzaWj",
    "outputId": "6d12cba5-c0c7-4963-ac8b-435cba93d6ef"
   },
   "outputs": [],
   "source": [
    "[1, 2, 3.0, 4.0]"
   ]
  },
  {
   "cell_type": "markdown",
   "metadata": {},
   "source": [
    "A mix of unrelated types results in an `Any` array:"
   ]
  },
  {
   "cell_type": "code",
   "execution_count": null,
   "metadata": {
    "colab": {
     "base_uri": "https://localhost:8080/"
    },
    "id": "pgT5mGcV0Rrc",
    "outputId": "d7342a25-0d86-449b-e084-3c1f251f968b"
   },
   "outputs": [],
   "source": [
    "[1, 2, \"Three\", 4]"
   ]
  },
  {
   "cell_type": "markdown",
   "metadata": {
    "id": "qqUknXIGB2r7"
   },
   "source": [
    "If you want to live in a world without type constraints, you can prefix all you arrays with `Any`, and you will feel like you're coding in Python. But I don't recommend it: the compiler can perform a bunch of optimizations when it knows exactly the type and size of the data the program will handle, so it will run much faster. So when you create an empty array but you know the type of the values it will contain, you might as well prefix it with that type (you don't have to, but it will speed up your program)."
   ]
  },
  {
   "cell_type": "markdown",
   "metadata": {
    "id": "3oo7WzpiQB_h"
   },
   "source": [
    "## Push and Pop\n",
    "To append elements to an array, use the `push!()` function. By convention, functions whose name ends with a bang `!` may modify their arguments:"
   ]
  },
  {
   "cell_type": "code",
   "execution_count": null,
   "metadata": {
    "colab": {
     "base_uri": "https://localhost:8080/"
    },
    "id": "m2vQfFEVCxII",
    "outputId": "2e6efa11-7ff4-416f-e731-6540969012c3"
   },
   "outputs": [],
   "source": [
    "a = [1]\n",
    "push!(a, 4) # similar to plot!(p, x, y)\n",
    "push!(a, 9, 16)"
   ]
  },
  {
   "cell_type": "markdown",
   "metadata": {
    "id": "CCWoFNINU15g"
   },
   "source": [
    "And `pop!()` works like in Python:"
   ]
  },
  {
   "cell_type": "code",
   "execution_count": null,
   "metadata": {},
   "outputs": [],
   "source": [
    "a"
   ]
  },
  {
   "cell_type": "code",
   "execution_count": null,
   "metadata": {
    "colab": {
     "base_uri": "https://localhost:8080/"
    },
    "id": "ie0iAIHtSXIW",
    "outputId": "d3c198e6-f468-44a1-d07e-55a0db5e0a3d"
   },
   "outputs": [],
   "source": [
    "pop!(a)"
   ]
  },
  {
   "cell_type": "markdown",
   "metadata": {
    "id": "0W67Y7JhVA3_"
   },
   "source": [
    "Equivalent to:\n",
    "\n",
    "```python\n",
    "# PYTHON\n",
    "a.pop()\n",
    "```"
   ]
  },
  {
   "cell_type": "markdown",
   "metadata": {
    "id": "mY0L1GG_Upxz"
   },
   "source": [
    "There are many more functions you can call on an array. We will see later how to find them."
   ]
  },
  {
   "cell_type": "markdown",
   "metadata": {
    "id": "4ZScNi5Rv8cM"
   },
   "source": [
    "## Multidimensional Arrays\n",
    "Importantly, Julia arrays can be multidimensional, just like NumPy arrays:"
   ]
  },
  {
   "cell_type": "code",
   "execution_count": null,
   "metadata": {
    "colab": {
     "base_uri": "https://localhost:8080/"
    },
    "id": "hxfUbTc3wBob",
    "outputId": "4b7ef2d8-831c-45eb-b25f-3688141b8323"
   },
   "outputs": [],
   "source": [
    "M = [1   2   3   4\n",
    "     5   6   7   8\n",
    "     9  10  11  12]"
   ]
  },
  {
   "cell_type": "markdown",
   "metadata": {
    "id": "sFlaq_4kwbde"
   },
   "source": [
    "Another syntax for this is:"
   ]
  },
  {
   "cell_type": "code",
   "execution_count": null,
   "metadata": {
    "colab": {
     "base_uri": "https://localhost:8080/"
    },
    "id": "wetBEg8HwhWJ",
    "outputId": "247d0e81-eab5-46d4-927b-61da1e2af15a"
   },
   "outputs": [],
   "source": [
    "M = [1 2 3 4; 5 6 7 8; 9 10 11 12]"
   ]
  },
  {
   "cell_type": "markdown",
   "metadata": {
    "id": "atfjWzUmwIgw"
   },
   "source": [
    "You can index them much like NumPy arrays:"
   ]
  },
  {
   "cell_type": "code",
   "execution_count": null,
   "metadata": {
    "colab": {
     "base_uri": "https://localhost:8080/"
    },
    "id": "GhtdjnYQwLka",
    "outputId": "aa4989cf-6a96-4646-9931-c48e4f738b96"
   },
   "outputs": [],
   "source": [
    "M[2:3, 3:4]"
   ]
  },
  {
   "cell_type": "markdown",
   "metadata": {
    "id": "4frazS3zXPQT"
   },
   "source": [
    "You can transpose a matrix using the \"adjoint\" operator `'`:"
   ]
  },
  {
   "cell_type": "code",
   "execution_count": null,
   "metadata": {
    "colab": {
     "base_uri": "https://localhost:8080/"
    },
    "id": "ydWdJ1eFXVbJ",
    "outputId": "6dbe8720-6e07-4b2e-ae7a-39d03df83d24"
   },
   "outputs": [],
   "source": [
    "M'\n",
    "# transpose(M)"
   ]
  },
  {
   "cell_type": "markdown",
   "metadata": {
    "id": "A032EIww_NsU"
   },
   "source": [
    "As you can see, Julia arrays are closer to NumPy arrays than to Python lists.\n"
   ]
  },
  {
   "cell_type": "markdown",
   "metadata": {
    "id": "NnY2DL_YCPmZ"
   },
   "source": [
    "Arrays can be concatenated vertically using the `vcat()` function:"
   ]
  },
  {
   "cell_type": "code",
   "execution_count": null,
   "metadata": {
    "colab": {
     "base_uri": "https://localhost:8080/"
    },
    "id": "pTazNcWZ_-8e",
    "outputId": "d81579f6-0df8-4e4e-ee23-05ac6cd307e0"
   },
   "outputs": [],
   "source": [
    "M1 = [1 2\n",
    "      3 4]\n",
    "M2 = [5 6\n",
    "      7 8]\n",
    "vcat(M1, M2)"
   ]
  },
  {
   "cell_type": "markdown",
   "metadata": {
    "id": "GPjPb-cCCZI5"
   },
   "source": [
    "Alternatively, you can use the `[M1; M2]` syntax:"
   ]
  },
  {
   "cell_type": "code",
   "execution_count": null,
   "metadata": {
    "colab": {
     "base_uri": "https://localhost:8080/"
    },
    "id": "DOnN1wVOCp9z",
    "outputId": "5dd99a51-001b-493c-edde-d27775835bb0"
   },
   "outputs": [],
   "source": [
    "[M1; M2]"
   ]
  },
  {
   "cell_type": "markdown",
   "metadata": {
    "id": "wvq9sUdOCtJR"
   },
   "source": [
    "To concatenate arrays horizontally, use `hcat()`:"
   ]
  },
  {
   "cell_type": "code",
   "execution_count": null,
   "metadata": {
    "colab": {
     "base_uri": "https://localhost:8080/"
    },
    "id": "Xj7s5cedCLJy",
    "outputId": "75ed6881-9975-44bf-eaf4-0df85e92ceaf"
   },
   "outputs": [],
   "source": [
    "hcat(M1, M2)"
   ]
  },
  {
   "cell_type": "markdown",
   "metadata": {
    "id": "ciffAqpeC2dX"
   },
   "source": [
    "Or you can use the `[M1 M2]` syntax:"
   ]
  },
  {
   "cell_type": "code",
   "execution_count": null,
   "metadata": {
    "colab": {
     "base_uri": "https://localhost:8080/"
    },
    "id": "XxSWzDXhC08W",
    "outputId": "f0d63467-2d39-4345-9ae3-72848556cba2"
   },
   "outputs": [],
   "source": [
    "[M1 M2]"
   ]
  },
  {
   "cell_type": "markdown",
   "metadata": {
    "id": "OhQoXAiyGge9"
   },
   "source": [
    "You can combine horizontal and vertical concatenation:"
   ]
  },
  {
   "cell_type": "code",
   "execution_count": null,
   "metadata": {
    "colab": {
     "base_uri": "https://localhost:8080/"
    },
    "id": "ra4Xe-Cv_PKl",
    "outputId": "15587c81-ff88-4899-f692-912cac78b079"
   },
   "outputs": [],
   "source": [
    "M3 = [9 10 11 12]\n",
    "[M1 M2; M3]"
   ]
  },
  {
   "cell_type": "markdown",
   "metadata": {
    "id": "sQllnyjlIBfB"
   },
   "source": [
    "Equivalently, you can call the `hvcat()` function. The first argument specifies the number of arguments to concatenate in each block row:"
   ]
  },
  {
   "cell_type": "code",
   "execution_count": null,
   "metadata": {
    "colab": {
     "base_uri": "https://localhost:8080/"
    },
    "id": "Lv63KdpLEN4N",
    "outputId": "909b0965-cf79-40fc-98d0-cc3da522cadc"
   },
   "outputs": [],
   "source": [
    "hvcat((2, 1), M1, M2, M3)"
   ]
  },
  {
   "cell_type": "markdown",
   "metadata": {
    "id": "e40Z6cdzWM2K"
   },
   "source": [
    "`hvcat()` is useful to create a single cell matrix:"
   ]
  },
  {
   "cell_type": "code",
   "execution_count": null,
   "metadata": {
    "colab": {
     "base_uri": "https://localhost:8080/"
    },
    "id": "KP-WjRlPzzSR",
    "outputId": "3edd3450-6709-4e82-bdc8-d9741cd6741c"
   },
   "outputs": [],
   "source": [
    "hvcat(1, 42)"
   ]
  },
  {
   "cell_type": "markdown",
   "metadata": {
    "id": "4xWYHOGgzvOr"
   },
   "source": [
    " Or a column vector (i.e., an _n_×1 matrix = a matrix with a single column):"
   ]
  },
  {
   "cell_type": "code",
   "execution_count": null,
   "metadata": {
    "colab": {
     "base_uri": "https://localhost:8080/"
    },
    "id": "NhVPed-TWW6b",
    "outputId": "dd96d09c-85bf-43ff-9ac3-992e8e1c5fab"
   },
   "outputs": [],
   "source": [
    "# hvcat((1, 1, 1), 10, 11, 12) # a column vector with values 10, 11, 12\n",
    "hvcat(1, 10, 11, 12) # equivalent to the previous line"
   ]
  },
  {
   "cell_type": "markdown",
   "metadata": {
    "id": "pVTtq2RyWfSD"
   },
   "source": [
    "Alternatively, you can transpose a row vector (but `hvcat()` is a bit faster):"
   ]
  },
  {
   "cell_type": "code",
   "execution_count": null,
   "metadata": {
    "colab": {
     "base_uri": "https://localhost:8080/"
    },
    "id": "9d8inKAGWjTr",
    "outputId": "37db88ba-3d4c-4db9-adf6-e04d0826a92b"
   },
   "outputs": [],
   "source": [
    "[10 11 12]'"
   ]
  },
  {
   "cell_type": "markdown",
   "metadata": {
    "id": "f75W5yn5OiEC"
   },
   "source": [
    "The REPL and IJulia call `display()` to print the result of the last expression in a cell (except when it is `nothing`). It is fairly verbose:"
   ]
  },
  {
   "cell_type": "code",
   "execution_count": null,
   "metadata": {
    "colab": {
     "base_uri": "https://localhost:8080/",
     "height": 102
    },
    "id": "9zTEV0mpOzm9",
    "outputId": "0079a7cf-4795-4c90-97ef-2a7b0ff230ad"
   },
   "outputs": [],
   "source": [
    "display([1, 2, 3, 4])"
   ]
  },
  {
   "cell_type": "markdown",
   "metadata": {
    "id": "gMWooHYTO7NU"
   },
   "source": [
    "The `println()` function is more concise, but be careful not to confuse vectors, column vectors and row vectors (printed with commas, semi-colons and spaces, respectively):"
   ]
  },
  {
   "cell_type": "code",
   "execution_count": null,
   "metadata": {
    "colab": {
     "base_uri": "https://localhost:8080/"
    },
    "id": "Xw2He_XbPQbz",
    "outputId": "66619c16-c5e5-47cf-aec7-48c89f815674"
   },
   "outputs": [],
   "source": [
    "println(\"Vector: \", [1, 2, 3, 4])\n",
    "println(\"Column vector: \", hvcat(1, 1, 2, 3, 4))\n",
    "println(\"Row vector: \", [1 2 3 4])\n",
    "println(\"Matrix: \", [1 2 3; 4 5 6])"
   ]
  },
  {
   "cell_type": "markdown",
   "metadata": {
    "id": "8yjMLNP2M3Ip"
   },
   "source": [
    "Although column vectors are printed as `[1; 2; 3; 4]`, evaluating `[1; 2; 3; 4]` will give you a regular vector. That's because `[x;y]` concatenates `x` and `y` vertically, and if `x` and `y` are scalars or vectors, you just get a regular vector."
   ]
  },
  {
   "cell_type": "markdown",
   "metadata": {
    "id": "bdnpqswqyrp8"
   },
   "source": [
    "|Julia|Python\n",
    "|-----|------\n",
    "|`a = [1, 2, 3]` | `a = [1, 2, 3]`<br />or<br />`import numpy as np`<br />`np.array([1, 2, 3])`\n",
    "|`a[1]` | `a[0]`\n",
    "|`a[end]` | `a[-1]`\n",
    "|`a[2:end-1]` | `a[1:-1]`\n",
    "|`push!(a, 5)` | `a.append(5)`\n",
    "|`pop!(a)` | `a.pop()`\n",
    "|`M = [1 2 3]` | `np.array([[1, 2, 3]])`\n",
    "|`M = [1 2 3]'` | `np.array([[1, 2, 3]]).T`\n",
    "|`M = hvcat(1,  1, 2, 3)` | `np.array([[1], [2], [3]])`\n",
    "|`M = [1 2 3`<br />&nbsp; &nbsp; &nbsp; &nbsp; &nbsp; &nbsp;`4 5 6]`<br />or<br />`M = [1 2 3; 4 5 6]` | `M = np.array([[1,2,3], [4,5,6]])`\n",
    "|`M[1:2, 2:3]` | `M[0:2, 1:3]`\n",
    "|`[M1; M2]` | `np.r_[M1, M2]`\n",
    "|`[M1  M2]` | `np.c_[M1, M2]`\n",
    "|`[M1 M2; M3]` | `np.r_[np.c_[M1, M2], M3]`\n"
   ]
  },
  {
   "cell_type": "markdown",
   "metadata": {
    "id": "raewgAnU9YIv"
   },
   "source": [
    "## Comprehensions\n",
    "List comprehensions are available in Julia, just like in Python (they're usually just called \"comprehensions\" in Julia):"
   ]
  },
  {
   "cell_type": "code",
   "execution_count": null,
   "metadata": {
    "colab": {
     "base_uri": "https://localhost:8080/"
    },
    "id": "H8B6Tk429aTV",
    "outputId": "fc8c667c-6dfe-4755-ade5-6f7bc50f6619"
   },
   "outputs": [],
   "source": [
    "a = [x^2 for x ∈ 1:4]"
   ]
  },
  {
   "cell_type": "markdown",
   "metadata": {
    "id": "1W4O8W3bQsIn"
   },
   "source": [
    "You can filter elements using an `if` clause, just like in Python:"
   ]
  },
  {
   "cell_type": "code",
   "execution_count": null,
   "metadata": {
    "colab": {
     "base_uri": "https://localhost:8080/"
    },
    "id": "pK4bZX6LQzNF",
    "outputId": "3ea14799-c9f4-426f-c9e7-c8fab16b41d7"
   },
   "outputs": [],
   "source": [
    "a = [x^2 for x ∈ 1:5 if x ∉ (2, 4)]"
   ]
  },
  {
   "cell_type": "markdown",
   "metadata": {
    "id": "E6UjXo-wRpdf"
   },
   "source": [
    "* `a ∉ b` is equivalent to `!(a in b)` (or `a not in b` in Python). You can type `∉` with `\\notin<tab>`\n",
    "* `a ∈ b` is equivalent to `a in b`. You can type it with `\\in<tab>`"
   ]
  },
  {
   "cell_type": "markdown",
   "metadata": {
    "id": "6R3umUN4Qq1x"
   },
   "source": [
    "In Julia, comprehensions can contain nested loops, just like in Python:"
   ]
  },
  {
   "cell_type": "code",
   "execution_count": null,
   "metadata": {
    "colab": {
     "base_uri": "https://localhost:8080/"
    },
    "id": "o7-yPeiSlY96",
    "outputId": "7644d713-12bb-4444-f981-e82b38592ffe"
   },
   "outputs": [],
   "source": [
    "a = [(i,j) for i in 1:3 for j in 1:i]"
   ]
  },
  {
   "cell_type": "markdown",
   "metadata": {
    "id": "1d06vVpLi9pS"
   },
   "source": [
    "Julia comprehensions can also create multi-dimensional arrays (note the different syntax: there is only one `for`):"
   ]
  },
  {
   "cell_type": "code",
   "execution_count": null,
   "metadata": {
    "colab": {
     "base_uri": "https://localhost:8080/"
    },
    "id": "gx9M3oLFjHsp",
    "outputId": "3d40307b-536a-4fcb-bc21-f3455e4934cd"
   },
   "outputs": [],
   "source": [
    "a = [row * col for row in 1:3, col in 1:5]"
   ]
  },
  {
   "cell_type": "markdown",
   "metadata": {
    "id": "xPm39I-7jPVv"
   },
   "source": [
    "## Conditional sub-Arrays\n",
    "You can select all the parameters in an array which satisfy a condition and put them into another array. "
   ]
  },
  {
   "cell_type": "code",
   "execution_count": null,
   "metadata": {
    "colab": {
     "base_uri": "https://localhost:8080/"
    },
    "id": "u-lUon0yjcjn",
    "outputId": "869c74ae-9c15-4120-d3e5-c3cb4e38bf07"
   },
   "outputs": [],
   "source": [
    "a = [-4, -3, -2, -1, 0, 1, 2, 3, 4]\n",
    "b = a[a .> 0]\n",
    "# b = b[b .< 3]"
   ]
  },
  {
   "cell_type": "markdown",
   "metadata": {
    "id": "8_MgIEMeg69D"
   },
   "source": [
    "# Dictionaries\n",
    "The syntax for dictionaries is a bit different than Python:"
   ]
  },
  {
   "cell_type": "code",
   "execution_count": null,
   "metadata": {
    "colab": {
     "base_uri": "https://localhost:8080/"
    },
    "id": "IwBc2os7g9Yr",
    "outputId": "eb2dc8ff-8a0a-4fe6-84e3-db67ad7f9499"
   },
   "outputs": [],
   "source": [
    "d = Dict(\"call\"=>\"long\", \"put\"=>\"short\") #big short\n",
    "println(d[\"call\"])"
   ]
  },
  {
   "cell_type": "code",
   "execution_count": null,
   "metadata": {
    "colab": {
     "base_uri": "https://localhost:8080/"
    },
    "id": "rZoY383Qhaus",
    "outputId": "f366e34f-81ab-4db8-e84c-e23117cdc11b"
   },
   "outputs": [],
   "source": [
    "println(get(d, \"neutral\", \"pardon?\"))"
   ]
  },
  {
   "cell_type": "code",
   "execution_count": null,
   "metadata": {
    "colab": {
     "base_uri": "https://localhost:8080/"
    },
    "id": "GOk28cgEjsjG",
    "outputId": "f0a7cd43-539e-4d05-fca9-e4811520b280"
   },
   "outputs": [],
   "source": [
    "keys(d)"
   ]
  },
  {
   "cell_type": "code",
   "execution_count": null,
   "metadata": {
    "colab": {
     "base_uri": "https://localhost:8080/"
    },
    "id": "xrt3-wu7j6TI",
    "outputId": "671fc235-0656-4fa8-b9be-bd26d171a077"
   },
   "outputs": [],
   "source": [
    "values(d)"
   ]
  },
  {
   "cell_type": "code",
   "execution_count": null,
   "metadata": {
    "colab": {
     "base_uri": "https://localhost:8080/"
    },
    "id": "J2kRT8MGj8Wo",
    "outputId": "ad6e9e54-efb9-4bf8-8eda-f3fa041eb586"
   },
   "outputs": [],
   "source": [
    "haskey(d, \"option\")"
   ]
  },
  {
   "cell_type": "code",
   "execution_count": null,
   "metadata": {
    "colab": {
     "base_uri": "https://localhost:8080/"
    },
    "id": "PABOOmVSkJ6l",
    "outputId": "0bde0f53-4e15-4232-f8dc-8bfab4a1c940"
   },
   "outputs": [],
   "source": [
    "\"call\" ∈ keys(d) # this is slower than haskey()"
   ]
  },
  {
   "cell_type": "markdown",
   "metadata": {
    "id": "8MI_Oti4h2sz"
   },
   "source": [
    "Dict comprehensions work as you would expect:"
   ]
  },
  {
   "cell_type": "code",
   "execution_count": null,
   "metadata": {
    "colab": {
     "base_uri": "https://localhost:8080/"
    },
    "id": "ck21M2RIiEWw",
    "outputId": "e44b6e3d-dee4-4d3d-e447-5bc266c2c554"
   },
   "outputs": [],
   "source": [
    "d = Dict(i=>i^2 for i in 1:5)"
   ]
  },
  {
   "cell_type": "markdown",
   "metadata": {
    "id": "yeyP5pbQiK4-"
   },
   "source": [
    "Note that the items (aka \"pairs\" in Julia) are shuffled, since dictionaries are hash-based, like in Python (although Python sorts them by key for display).\n",
    "\n",
    "You can easily iterate through the dictionary's pairs like this:"
   ]
  },
  {
   "cell_type": "code",
   "execution_count": null,
   "metadata": {
    "colab": {
     "base_uri": "https://localhost:8080/"
    },
    "id": "GJ1PcdDHiouw",
    "outputId": "e5aaeeac-bd7c-45e4-d4e7-c49e9ee4ece2"
   },
   "outputs": [],
   "source": [
    "for (k, v) in d\n",
    "    println(\"$k maps to $v\")\n",
    "end"
   ]
  },
  {
   "cell_type": "markdown",
   "metadata": {
    "id": "b5Ea2USET5jD"
   },
   "source": [
    "And you can merge dictionaries like this:"
   ]
  },
  {
   "cell_type": "code",
   "execution_count": null,
   "metadata": {
    "colab": {
     "base_uri": "https://localhost:8080/"
    },
    "id": "dkNkluLJT7zD",
    "outputId": "f60ab612-ebc7-49a6-abc3-189ff2a4957b"
   },
   "outputs": [],
   "source": [
    "d1 = Dict(\"tree\"=>\"arbre\", \"love\"=>\"amour\", \"coffee\"=>\"café\")\n",
    "d2 = Dict(\"car\"=>\"voiture\", \"love\"=>\"aimer\")\n",
    "\n",
    "d = merge(d1, d2)"
   ]
  },
  {
   "cell_type": "markdown",
   "metadata": {
    "id": "B1WRTtDXUSCt"
   },
   "source": [
    "Notice that the second dictionary has priority in case of conflict (it's `\"love\" => \"aimer\"`, not `\"love\" => \"amour\"`)."
   ]
  },
  {
   "cell_type": "markdown",
   "metadata": {
    "id": "zu39af1MVaKB"
   },
   "source": [
    "Or if you want to update the first dictionary instead of creating a new one:"
   ]
  },
  {
   "cell_type": "code",
   "execution_count": null,
   "metadata": {
    "colab": {
     "base_uri": "https://localhost:8080/"
    },
    "id": "5_kcU7WTVhIN",
    "outputId": "aa074b1d-3c93-400f-d801-02d97ff90209"
   },
   "outputs": [],
   "source": [
    "merge!(d1, d2) "
   ]
  },
  {
   "cell_type": "markdown",
   "metadata": {
    "id": "6_-ibdMnjP8a"
   },
   "source": [
    "In Julia, each pair is an actual `Pair` object:"
   ]
  },
  {
   "cell_type": "code",
   "execution_count": null,
   "metadata": {
    "colab": {
     "base_uri": "https://localhost:8080/"
    },
    "id": "a85m1lmJjVPP",
    "outputId": "3c1d9b8e-baf2-43ad-f202-84f647946a5d"
   },
   "outputs": [],
   "source": [
    "p = \"tree\" => \"arbre\"\n",
    "println(typeof(p))\n",
    "k, v = p\n",
    "println(\"$k maps to $v\")"
   ]
  },
  {
   "cell_type": "markdown",
   "metadata": {
    "id": "mOCYFiB3N5s8"
   },
   "source": [
    "Note that any object for which a `hash()` method is implemented can be used as a key in a dictionary. This includes all the basic types like integers, floats, as well as string, tuples, etc. But it also includes arrays! In Julia, you have the freedom to use arrays as keys (unlike in Python), but make sure not to mutate these arrays after insertion, or else things will break! Indeed, the pairs will be stored in memory in a location that depends on the hash of the key at insertion time, so if that key changes afterwards, you won't be able to find the pair anymore:"
   ]
  },
  {
   "cell_type": "code",
   "execution_count": null,
   "metadata": {
    "colab": {
     "base_uri": "https://localhost:8080/"
    },
    "id": "0bYNOLHiOgnl",
    "outputId": "4383413c-1204-4a6c-fb80-2be92e29625f"
   },
   "outputs": [],
   "source": [
    "a = [1, 2, 3]\n",
    "d = Dict(a => \"My array\")\n",
    "println(\"The dictionary is: $d\")\n",
    "println(\"Indexing works fine as long as the array is unchanged: \", d[a])\n",
    "a[1] = 10\n",
    "println(\"This is the dictionary now: $d\")\n",
    "try\n",
    "    println(\"Key changed, indexing is now broken: \", d[a])\n",
    "catch ex\n",
    "    ex\n",
    "end"
   ]
  },
  {
   "cell_type": "markdown",
   "metadata": {
    "id": "zr26SHedQJTE"
   },
   "source": [
    "However, it's still possible to iterate through the keys, the values or the pairs:"
   ]
  },
  {
   "cell_type": "code",
   "execution_count": null,
   "metadata": {
    "colab": {
     "base_uri": "https://localhost:8080/"
    },
    "id": "5e6eZEq9QUt4",
    "outputId": "5ffa044e-99cf-4547-da62-00b1c72ce5cb"
   },
   "outputs": [],
   "source": [
    "for pair in d\n",
    "    println(pair)\n",
    "end"
   ]
  },
  {
   "cell_type": "markdown",
   "metadata": {
    "id": "Ie9QcVsYWDFh"
   },
   "source": [
    "|Julia|Python\n",
    "|-----|------\n",
    "|`Dict(\"tree\"=>\"arbre\", \"love\"=>\"amour\")` | `{\"tree\": \"arbre\", \"love\": \"amour\"}`\n",
    "|`d[\"arbre\"]` | `d[\"arbre\"]`\n",
    "|`get(d, \"unknown\", \"default\")` | `d.get(\"unknown\", \"default\")`\n",
    "|`keys(d)` | `d.keys()`\n",
    "|`values(d)` | `d.values()`\n",
    "|`haskey(d, k)` | `k in d`\n",
    "|`Dict(i=>i^2 for i in 1:4)` | `{i: i**2 for i in 1:4}`\n",
    "|`for (k, v) in d` | `for k, v in d.items():`\n",
    "|`merge(d1, d2)` | `{**d1, **d2}`\n",
    "|`merge!(d1, d2)` | `d1.update(d2)`"
   ]
  },
  {
   "cell_type": "markdown",
   "metadata": {
    "id": "rTWmi1P8jlDq"
   },
   "source": [
    "# Sets"
   ]
  },
  {
   "cell_type": "markdown",
   "metadata": {
    "id": "WlTKQaxxmLde"
   },
   "source": [
    "Let's create a couple sets:"
   ]
  },
  {
   "cell_type": "code",
   "execution_count": null,
   "metadata": {
    "colab": {
     "base_uri": "https://localhost:8080/"
    },
    "id": "sQ_wNw0Mjmqs",
    "outputId": "646385e7-c0e4-4914-87c9-1a3a5b462493"
   },
   "outputs": [],
   "source": [
    "odd = Set([1, 3, 5, 7, 9, 11])\n",
    "prime = Set([2, 3, 5, 7, 11])"
   ]
  },
  {
   "cell_type": "markdown",
   "metadata": {
    "id": "w7JZBRWbsqiL"
   },
   "source": [
    "The order of sets is not guaranteed, just like in Python."
   ]
  },
  {
   "cell_type": "markdown",
   "metadata": {
    "id": "JEQ96Ljkm_0R"
   },
   "source": [
    "Use `in` or `∈` (type `\\in<tab>`) to check whether a set contains a given value:"
   ]
  },
  {
   "cell_type": "code",
   "execution_count": null,
   "metadata": {
    "colab": {
     "base_uri": "https://localhost:8080/"
    },
    "id": "oRd2gpWvm9mF",
    "outputId": "d2b126a3-4f66-49d2-df40-62a5e51bc09d"
   },
   "outputs": [],
   "source": [
    "5 ∈ odd"
   ]
  },
  {
   "cell_type": "code",
   "execution_count": null,
   "metadata": {
    "colab": {
     "base_uri": "https://localhost:8080/"
    },
    "id": "pRQN8XNWnQgj",
    "outputId": "15431eaf-598e-4ac2-8694-d6789cdc840b"
   },
   "outputs": [],
   "source": [
    "5 in odd"
   ]
  },
  {
   "cell_type": "markdown",
   "metadata": {
    "id": "WyBv6ethnRw8"
   },
   "source": [
    "Both of these expressions are equivalent to:"
   ]
  },
  {
   "cell_type": "code",
   "execution_count": null,
   "metadata": {
    "colab": {
     "base_uri": "https://localhost:8080/"
    },
    "id": "Twamj50pnXQE",
    "outputId": "f452f62f-6c45-42b3-f46d-87a4f708ab62"
   },
   "outputs": [],
   "source": [
    "in(5, odd)"
   ]
  },
  {
   "cell_type": "markdown",
   "metadata": {
    "id": "MHQ5qnLZmPhR"
   },
   "source": [
    "Now let's get the union of these two sets:"
   ]
  },
  {
   "cell_type": "code",
   "execution_count": null,
   "metadata": {
    "colab": {
     "base_uri": "https://localhost:8080/"
    },
    "id": "mfuMOXDdmGKA",
    "outputId": "00b196f4-96fe-403a-de63-235468b87e86"
   },
   "outputs": [],
   "source": [
    "odd ∪ prime "
   ]
  },
  {
   "cell_type": "markdown",
   "metadata": {
    "id": "xS6GLhE5mRbD"
   },
   "source": [
    "∪ is the union symbol, not a U. To type this character, type `\\cup<tab>` (it has the shape of a cup). Alternatively, you can just use the `union()` function:"
   ]
  },
  {
   "cell_type": "code",
   "execution_count": null,
   "metadata": {
    "colab": {
     "base_uri": "https://localhost:8080/"
    },
    "id": "G_yju4QvmerU",
    "outputId": "4bca1dbc-2e4e-4f96-9697-43153f332db5"
   },
   "outputs": [],
   "source": [
    "union(odd, prime)"
   ]
  },
  {
   "cell_type": "markdown",
   "metadata": {
    "id": "Y8l4331img0-"
   },
   "source": [
    "Now let's get the intersection using the ∩ symbol (type `\\cap<tab>`):"
   ]
  },
  {
   "cell_type": "code",
   "execution_count": null,
   "metadata": {
    "colab": {
     "base_uri": "https://localhost:8080/"
    },
    "id": "NazqlxbGmkZM",
    "outputId": "986b3fd9-fe90-4a14-b1ca-8d0920f41e2f"
   },
   "outputs": [],
   "source": [
    "odd ∩ prime"
   ]
  },
  {
   "cell_type": "markdown",
   "metadata": {
    "id": "X9-MDgxWmzXl"
   },
   "source": [
    "Or use the `intersect()` function:"
   ]
  },
  {
   "cell_type": "code",
   "execution_count": null,
   "metadata": {},
   "outputs": [],
   "source": [
    "my_set = Set([1729])"
   ]
  },
  {
   "cell_type": "code",
   "execution_count": null,
   "metadata": {
    "colab": {
     "base_uri": "https://localhost:8080/"
    },
    "id": "zcEEMfG4m1l9",
    "outputId": "c438ff94-0f95-41b8-a4b1-32a1b95a8a80"
   },
   "outputs": [],
   "source": [
    "intersect(my_set, prime)"
   ]
  },
  {
   "cell_type": "markdown",
   "metadata": {
    "id": "QSMs88owpLb2"
   },
   "source": [
    "Next, let's get the [set difference](https://en.wikipedia.org/wiki/Complement_(set_theory)#Relative_complement) and the [symetric difference](https://en.wikipedia.org/wiki/Symmetric_difference) between these two sets:"
   ]
  },
  {
   "cell_type": "code",
   "execution_count": null,
   "metadata": {
    "colab": {
     "base_uri": "https://localhost:8080/"
    },
    "id": "-Tpr5_BBpQH_",
    "outputId": "b5494e9f-fe9d-4c58-87ff-e7ef14072071"
   },
   "outputs": [],
   "source": [
    "setdiff(odd, prime) # values in odd but not in prime"
   ]
  },
  {
   "cell_type": "code",
   "execution_count": null,
   "metadata": {
    "colab": {
     "base_uri": "https://localhost:8080/"
    },
    "id": "of_EQE1CpvpO",
    "outputId": "91181c3a-87a8-42f2-f079-0d4e3ff518fc"
   },
   "outputs": [],
   "source": [
    "symdiff(odd, prime) # values that are not in the intersection"
   ]
  },
  {
   "cell_type": "markdown",
   "metadata": {
    "id": "NH_-NbzPsSQ_"
   },
   "source": [
    "Lastly, set comprehensions work just fine:"
   ]
  },
  {
   "cell_type": "code",
   "execution_count": null,
   "metadata": {
    "colab": {
     "base_uri": "https://localhost:8080/"
    },
    "id": "LMIiE-0psXvs",
    "outputId": "c14c7607-bf45-4b37-bbd1-8f865a9b3356"
   },
   "outputs": [],
   "source": [
    "Set([i^2 for i in 1:4])"
   ]
  },
  {
   "cell_type": "markdown",
   "metadata": {
    "id": "vm1zWNsJRcFV"
   },
   "source": [
    "Note that you can store any hashable object in a `Set` (i.e., any instance of a type for which the `hash()` method is implemented). This includes arrays, unlike in Python. Just like for dictionary keys, you can add arrays to sets, but make sure not to mutate them after insertion."
   ]
  },
  {
   "cell_type": "markdown",
   "metadata": {
    "id": "nPrJ9Ih9X4ak"
   },
   "source": [
    "|Julia|Python\n",
    "|-----|------\n",
    "|`Set([1, 3, 5, 7])` | `{1, 3, 5, 7}`\n",
    "|`5 in odd` | `5 in odd`\n",
    "|`Set([i^2 for i in 1:4])` | `{i**2 for i in range(1, 5)}`\n",
    "|`odd ∪ primes` | `odd | primes`\n",
    "|`union(odd, primes)` | `odd.union(primes)`\n",
    "|`odd ∩ primes` | `odd & primes`\n",
    "|`insersect(odd, primes)` | `odd.intersection(primes)`\n",
    "|`setdiff(odd, primes)` | `odd - primes` or `odd.difference(primes)`\n",
    "|`symdiff(odd, primes)` | `odd ^ primes` or `odd.symmetric_difference(primes)`"
   ]
  },
  {
   "cell_type": "markdown",
   "metadata": {
    "id": "ERjZUJYlnMsq"
   },
   "source": [
    "# Tuples"
   ]
  },
  {
   "cell_type": "markdown",
   "metadata": {
    "id": "LnIg-YKumD8N"
   },
   "source": [
    " Julia has tuples, very much like Python. They can contain anything:"
   ]
  },
  {
   "cell_type": "code",
   "execution_count": null,
   "metadata": {
    "colab": {
     "base_uri": "https://localhost:8080/"
    },
    "id": "SwtMszm6nFmD",
    "outputId": "98cf0b47-23e8-482c-9706-1578ffda300a"
   },
   "outputs": [],
   "source": [
    "t = (1729, \"romanujan\", 100.0)"
   ]
  },
  {
   "cell_type": "markdown",
   "metadata": {
    "id": "YFGgt6ISLBQN"
   },
   "source": [
    "Let's look at one element:"
   ]
  },
  {
   "cell_type": "code",
   "execution_count": null,
   "metadata": {
    "colab": {
     "base_uri": "https://localhost:8080/"
    },
    "id": "muUQX9TUnfhh",
    "outputId": "8cee6d0d-0ac0-4a1c-c2ab-e4d58d64a517"
   },
   "outputs": [],
   "source": [
    "t[1]"
   ]
  },
  {
   "cell_type": "markdown",
   "metadata": {
    "id": "kxt7Dyujpcto"
   },
   "source": [
    "Hey! Did you see that? **Julia is 1-indexed**, like Matlab and other math-oriented programming languages, not 0-indexed like Python and most programming languages. I found it easy to get used to, and in fact I quite like it, but your mileage may vary.\n",
    "\n",
    "Moreover, the indexing bounds are inclusive. In Python, to get the 1st and 2nd elements of a list or tuple, you would write `t[0:2]` (or just `t[:2]`), while in Julia you write `t[1:2]`.\n"
   ]
  },
  {
   "cell_type": "code",
   "execution_count": null,
   "metadata": {
    "colab": {
     "base_uri": "https://localhost:8080/"
    },
    "id": "PSSUDRRtp77N",
    "outputId": "1de6b799-2eab-4a8a-c690-59ec9d7c51fc"
   },
   "outputs": [],
   "source": [
    "t[1:2]"
   ]
  },
  {
   "cell_type": "markdown",
   "metadata": {
    "id": "gUK1aCRutlul"
   },
   "source": [
    "Note that `end` represents the index of the last element in the tuple. So you must write `t[end]` instead of `t[-1]`. Similarly, you must write `t[end - 1]`, not `t[-2]`, and so on."
   ]
  },
  {
   "cell_type": "code",
   "execution_count": null,
   "metadata": {
    "colab": {
     "base_uri": "https://localhost:8080/"
    },
    "id": "7YpghPgLqZmy",
    "outputId": "a2b8d03b-cbed-4369-812e-34b6fc9e11d1"
   },
   "outputs": [],
   "source": [
    "t[end]"
   ]
  },
  {
   "cell_type": "code",
   "execution_count": null,
   "metadata": {
    "colab": {
     "base_uri": "https://localhost:8080/"
    },
    "id": "3rzqwS7etsyx",
    "outputId": "2a019c2a-599b-420b-eb61-cf2ca0043d9d"
   },
   "outputs": [],
   "source": [
    "t[end - 1:end]"
   ]
  },
  {
   "cell_type": "markdown",
   "metadata": {
    "id": "d950dLwB3SeA"
   },
   "source": [
    "Like in Python, tuples are immutable:"
   ]
  },
  {
   "cell_type": "code",
   "execution_count": null,
   "metadata": {
    "colab": {
     "base_uri": "https://localhost:8080/"
    },
    "id": "0sLz7J2KmKMi",
    "outputId": "010d7d2a-24ee-4d53-f30a-2e1694498469"
   },
   "outputs": [],
   "source": [
    "try\n",
    "  t[2] = 2\n",
    "catch ex\n",
    "  ex\n",
    "end"
   ]
  },
  {
   "cell_type": "markdown",
   "metadata": {
    "id": "ia-7dPaYN6o3"
   },
   "source": [
    "The syntax for empty and 1-element tuples is the same as in Python:"
   ]
  },
  {
   "cell_type": "code",
   "execution_count": null,
   "metadata": {
    "colab": {
     "base_uri": "https://localhost:8080/"
    },
    "id": "2iz34eBoODk6",
    "outputId": "825f75f4-6025-4bc7-b1ff-05e84256bf60"
   },
   "outputs": [],
   "source": [
    "empty_tuple = ()\n",
    "one_element_tuple = (42,)"
   ]
  },
  {
   "cell_type": "markdown",
   "metadata": {
    "id": "4vgV76ftmMno"
   },
   "source": [
    "You can unpack a tuple, just like in Python (it's called \"destructuring\" in Julia):"
   ]
  },
  {
   "cell_type": "code",
   "execution_count": null,
   "metadata": {
    "colab": {
     "base_uri": "https://localhost:8080/"
    },
    "id": "1-RPxSCfn5Zr",
    "outputId": "18fd4e45-0169-43ca-cf9b-a8711b1b6a37"
   },
   "outputs": [],
   "source": [
    "a, b, c, d, e = (1729, \"string\", 100.0, pi, \"euler\")\n",
    "println(\"a=$a, b=$b, c=$c, d=$d, e=$e\")"
   ]
  },
  {
   "cell_type": "markdown",
   "metadata": {
    "id": "I4jsaD4Fq37B"
   },
   "source": [
    "It also works with nested tuples, just like in Python:"
   ]
  },
  {
   "cell_type": "code",
   "execution_count": null,
   "metadata": {
    "colab": {
     "base_uri": "https://localhost:8080/"
    },
    "id": "s3S4SAfNq83S",
    "outputId": "f6faf9b1-88f7-487c-8424-e578e24511a5"
   },
   "outputs": [],
   "source": [
    "(a, (b, c), (d, e)) = (1, (\"Two\", 3), (4, 5))\n",
    "println(\"a=$a, b=$b, c=$c, d=$d, e=$e\")"
   ]
  },
  {
   "cell_type": "markdown",
   "metadata": {
    "id": "1SC6AVpIrUxa"
   },
   "source": [
    "However, consider this example:"
   ]
  },
  {
   "cell_type": "code",
   "execution_count": null,
   "metadata": {
    "colab": {
     "base_uri": "https://localhost:8080/"
    },
    "id": "Wz5cl0_6rj0H",
    "outputId": "3318d891-7807-458c-fbfd-f64a69e4461d"
   },
   "outputs": [],
   "source": [
    "a, b, c = (1, \"Two\", 3, 4, 5)\n",
    "println(\"a=$a, b=$b, c=$c\")"
   ]
  },
  {
   "cell_type": "markdown",
   "metadata": {
    "id": "ZdZg-xMDrnvK"
   },
   "source": [
    "In Python, this would cause a `ValueError: too many values to unpack`. In Julia, the extra values in the tuple are just ignored.\n",
    "\n",
    "If you want to capture the extra values in the variable `c`, you need to do so explicitly:"
   ]
  },
  {
   "cell_type": "code",
   "execution_count": null,
   "metadata": {
    "colab": {
     "base_uri": "https://localhost:8080/"
    },
    "id": "zC8DWzkSsF1i",
    "outputId": "bb89ca02-334c-43d1-e7ca-9f2484317200"
   },
   "outputs": [],
   "source": [
    "t = (1, \"Two\", 3, 4, 5)\n",
    "a, b = t[1:2]\n",
    "c = t[3:end]\n",
    "println(\"a=$a, b=$b, c=$c\")"
   ]
  },
  {
   "cell_type": "markdown",
   "metadata": {
    "id": "rOKhLbritHAW"
   },
   "source": [
    "Or more concisely:"
   ]
  },
  {
   "cell_type": "code",
   "execution_count": null,
   "metadata": {
    "colab": {
     "base_uri": "https://localhost:8080/"
    },
    "id": "8Pvh4LCytCiq",
    "outputId": "2283cbd6-6f20-4caf-a3a0-bbd7d9970003"
   },
   "outputs": [],
   "source": [
    "(a, b), c = t[1:2], t[3:end]\n",
    "println(\"a=$a, b=$b, c=$c\")"
   ]
  },
  {
   "cell_type": "markdown",
   "metadata": {
    "id": "niHEbUJk5YFn"
   },
   "source": [
    "## Named Tuples"
   ]
  },
  {
   "cell_type": "markdown",
   "metadata": {
    "id": "p3yVvsXA52ct"
   },
   "source": [
    "Julia supports named tuples:"
   ]
  },
  {
   "cell_type": "code",
   "execution_count": null,
   "metadata": {
    "colab": {
     "base_uri": "https://localhost:8080/"
    },
    "id": "2FJnd4K35aOZ",
    "outputId": "879e000e-16a5-48fb-a71a-4ded4361895e"
   },
   "outputs": [],
   "source": [
    "nt = (name=\"Julia\", category=\"Language\", stars=5)"
   ]
  },
  {
   "cell_type": "code",
   "execution_count": null,
   "metadata": {
    "colab": {
     "base_uri": "https://localhost:8080/"
    },
    "id": "xydPCMQZ5sPY",
    "outputId": "f3b9540c-bf53-4632-ca79-ee99246f8ae4"
   },
   "outputs": [],
   "source": [
    "nt.name"
   ]
  },
  {
   "cell_type": "code",
   "execution_count": null,
   "metadata": {
    "colab": {
     "base_uri": "https://localhost:8080/"
    },
    "id": "9MeN88AU5w4t",
    "outputId": "69d823ed-6b08-4cbd-bcbe-c456ea52edcf"
   },
   "outputs": [],
   "source": [
    "dump(nt)"
   ]
  },
  {
   "cell_type": "markdown",
   "metadata": {
    "id": "MJFUxd06YdqY"
   },
   "source": [
    "# Structs\n",
    "Julia supports structs, which hold multiple named fields, a bit like named tuples:"
   ]
  },
  {
   "cell_type": "code",
   "execution_count": null,
   "metadata": {
    "id": "WhCs3HtJZK95"
   },
   "outputs": [],
   "source": [
    "struct Option # only contains data but not action/behavior (method)\n",
    "    iscall #data: either true or false\n",
    "    strike_price #data: price for execution\n",
    "    maturity # date of execution\n",
    "end"
   ]
  },
  {
   "cell_type": "markdown",
   "metadata": {
    "id": "G5oQzSt9Zx3L"
   },
   "source": [
    "Structs have a default constructor, which expects all the field values, in order:"
   ]
  },
  {
   "cell_type": "code",
   "execution_count": null,
   "metadata": {
    "colab": {
     "base_uri": "https://localhost:8080/"
    },
    "id": "aXISSlv5Z8l6",
    "outputId": "a6fd6996-bd55-4bf6-f2bd-5620205c533d"
   },
   "outputs": [],
   "source": [
    "p = Option(false, 100.0, 1.0)"
   ]
  },
  {
   "cell_type": "code",
   "execution_count": null,
   "metadata": {
    "colab": {
     "base_uri": "https://localhost:8080/"
    },
    "id": "26v5EQ8YZ-JQ",
    "outputId": "a815255f-75b4-49a4-a067-ae73d7d47b13"
   },
   "outputs": [],
   "source": [
    "p.maturity"
   ]
  },
  {
   "cell_type": "markdown",
   "metadata": {
    "id": "Tq30l3f1dHcn"
   },
   "source": [
    "You can create other constructors by creating functions with the same name as the struct:"
   ]
  },
  {
   "cell_type": "code",
   "execution_count": 53,
   "metadata": {
    "colab": {
     "base_uri": "https://localhost:8080/"
    },
    "id": "oS_GHuHpdPQx",
    "outputId": "e75ea05a-9886-425d-e6ed-208ec9919e3e"
   },
   "outputs": [
    {
     "data": {
      "text/plain": [
       "Option(true, 100, 1)"
      ]
     },
     "metadata": {},
     "output_type": "display_data"
    }
   ],
   "source": [
    "function Option(iscall)\n",
    "    Option(iscall, 100, 1)\n",
    "end\n",
    "\n",
    "function Option()\n",
    "    Option(true)\n",
    "end\n",
    "\n",
    "p = Option()"
   ]
  },
  {
   "cell_type": "markdown",
   "metadata": {
    "id": "MhHkPNXzeMwh"
   },
   "source": [
    "This creates two constructors: the second calls the first, which calls the default constructor. Notice that you can create multiple functions with the same name but different arguments. We will discuss this later."
   ]
  },
  {
   "cell_type": "markdown",
   "metadata": {
    "id": "C_qV3JIyeial"
   },
   "source": [
    "These two constructors are called \"outer constructors\", since they are defined outside of the definition of the struct. You can also define \"inner constructors\":"
   ]
  },
  {
   "cell_type": "code",
   "execution_count": 54,
   "metadata": {
    "colab": {
     "base_uri": "https://localhost:8080/"
    },
    "id": "XuGp8ZJJe13y",
    "outputId": "d97844b7-3574-494a-d858-977c052099ea"
   },
   "outputs": [
    {
     "data": {
      "text/plain": [
       "Option2(\"European\", -1)"
      ]
     },
     "metadata": {},
     "output_type": "display_data"
    }
   ],
   "source": [
    "struct Option2\n",
    "    name\n",
    "    age\n",
    "    function Option2(name)\n",
    "        new(name, -1)\n",
    "    end\n",
    "end\n",
    "\n",
    "function Option2()\n",
    "    Option2(\"European\")\n",
    "end\n",
    "\n",
    "p2 = Option2()"
   ]
  },
  {
   "cell_type": "markdown",
   "metadata": {
    "id": "m5qB9QHf1MMC"
   },
   "source": [
    "This time, the outer constructor calls the inner constructor, which calls the `new()` function. This `new()` function only works in inner constructors, and of course it creates an instance of the struct.\n",
    "\n",
    "When you define inner constructors, they replace the default constructor: "
   ]
  },
  {
   "cell_type": "code",
   "execution_count": 55,
   "metadata": {
    "colab": {
     "base_uri": "https://localhost:8080/"
    },
    "id": "_xLhbC9q2vC3",
    "outputId": "23526e87-efb4-4dd3-d773-d1fffb3b6840"
   },
   "outputs": [
    {
     "data": {
      "text/plain": [
       "MethodError(Option2, (\"Bob\", 35), 0x0000000000007b16)"
      ]
     },
     "metadata": {},
     "output_type": "display_data"
    }
   ],
   "source": [
    "try\n",
    "    Option2(\"Bob\", 35)\n",
    "catch ex\n",
    "    ex\n",
    "end"
   ]
  },
  {
   "cell_type": "markdown",
   "metadata": {
    "id": "6eSrsaNi_mQ3"
   },
   "source": [
    "Structs usually have very few inner constructors (often just one), which do the heavy duty work, and the checks. Then they may have multiple outer constructors which are mostly there for convenience."
   ]
  },
  {
   "cell_type": "markdown",
   "metadata": {
    "id": "HLJWvFSfaAHi"
   },
   "source": [
    "By default, structs are immutable:"
   ]
  },
  {
   "cell_type": "code",
   "execution_count": 56,
   "metadata": {},
   "outputs": [
    {
     "data": {
      "text/plain": [
       "true"
      ]
     },
     "metadata": {},
     "output_type": "display_data"
    }
   ],
   "source": [
    "p.iscall"
   ]
  },
  {
   "cell_type": "code",
   "execution_count": 57,
   "metadata": {
    "colab": {
     "base_uri": "https://localhost:8080/"
    },
    "id": "n9hhxkdvaYOY",
    "outputId": "68c1cb85-7000-4869-fc5c-e6a633a3be82"
   },
   "outputs": [
    {
     "data": {
      "text/plain": [
       "ErrorException(\"setfield!: immutable struct of type Option cannot be changed\")"
      ]
     },
     "metadata": {},
     "output_type": "display_data"
    }
   ],
   "source": [
    "try\n",
    "    p.iscall = false\n",
    "catch ex\n",
    "    ex\n",
    "end"
   ]
  },
  {
   "cell_type": "markdown",
   "metadata": {
    "id": "oqY3EFMKa1Px"
   },
   "source": [
    "However, it is possible to define a mutable struct:"
   ]
  },
  {
   "cell_type": "code",
   "execution_count": 58,
   "metadata": {
    "colab": {
     "base_uri": "https://localhost:8080/"
    },
    "id": "S5cNqzAma5H_",
    "outputId": "7eb775c0-2a99-4e9e-b05d-a92f4eeaa44b"
   },
   "outputs": [
    {
     "data": {
      "text/plain": [
       "Option3(\"Lucy\", 80)"
      ]
     },
     "metadata": {},
     "output_type": "display_data"
    }
   ],
   "source": [
    "mutable struct Option3\n",
    "    name\n",
    "    age\n",
    "end\n",
    "\n",
    "p3 = Option3(\"Lucy\", 79)\n",
    "p3.age += 1\n",
    "p3"
   ]
  },
  {
   "cell_type": "markdown",
   "metadata": {
    "id": "XcMyQq4r7eam"
   },
   "source": [
    "Structs look a lot like Python classes, with instance variables and constructors, but where are the methods? We will discuss this later, in the \"Methods\" section."
   ]
  },
  {
   "cell_type": "markdown",
   "metadata": {
    "id": "AOfz9B7ZF__1"
   },
   "source": [
    "# Enums"
   ]
  },
  {
   "cell_type": "markdown",
   "metadata": {
    "id": "RozBUdxsGgKv"
   },
   "source": [
    "To create an enum, use the `@enum` macro:"
   ]
  },
  {
   "cell_type": "code",
   "execution_count": null,
   "metadata": {
    "id": "R6HMPDyvGB_k"
   },
   "outputs": [],
   "source": [
    "@enum Fruit apple=1 banana=2 orange=3\n",
    "Fruit"
   ]
  },
  {
   "cell_type": "markdown",
   "metadata": {
    "id": "dxFUJ9boGmkh"
   },
   "source": [
    "This creates the `Fruit` enum, with 3 possible values. It also binds the names to the values:"
   ]
  },
  {
   "cell_type": "code",
   "execution_count": null,
   "metadata": {
    "colab": {
     "base_uri": "https://localhost:8080/"
    },
    "id": "czHDZ6MRGUvL",
    "outputId": "8aa73dec-46c1-42f1-f698-a4642f687b60"
   },
   "outputs": [],
   "source": [
    "banana"
   ]
  },
  {
   "cell_type": "markdown",
   "metadata": {
    "id": "7ufyorAsGvzv"
   },
   "source": [
    "Or you can get a `Fruit` instance using the value:"
   ]
  },
  {
   "cell_type": "code",
   "execution_count": null,
   "metadata": {
    "colab": {
     "base_uri": "https://localhost:8080/"
    },
    "id": "NVgfYUBWGObS",
    "outputId": "26796204-d88c-4202-b5f1-803020efa34a"
   },
   "outputs": [],
   "source": [
    "Fruit(2)"
   ]
  },
  {
   "cell_type": "markdown",
   "metadata": {
    "id": "ctxEepMNG_-4"
   },
   "source": [
    "And you can get all the instances of the enum easily:"
   ]
  },
  {
   "cell_type": "code",
   "execution_count": null,
   "metadata": {
    "colab": {
     "base_uri": "https://localhost:8080/"
    },
    "id": "yPy9trwtGR1y",
    "outputId": "cf785f49-44f4-47d7-c940-00005b0f12b6"
   },
   "outputs": [],
   "source": [
    "instances(Fruit)"
   ]
  },
  {
   "cell_type": "markdown",
   "metadata": {
    "id": "7OOe0m7pLj80"
   },
   "source": [
    "# Object Identity\n",
    "In the previous example, `Fruit(2)` and `banana` refer to the same object, not just two objects that happen to be equal. You can verify using the `===` operator, which is the equivalent of Python's `is` operator:"
   ]
  },
  {
   "cell_type": "code",
   "execution_count": null,
   "metadata": {
    "colab": {
     "base_uri": "https://localhost:8080/"
    },
    "id": "G6cpTrQcGUP4",
    "outputId": "eacf48f4-e832-443e-bcb0-c0aa3cb042cf"
   },
   "outputs": [],
   "source": [
    "banana === Fruit(2)"
   ]
  },
  {
   "cell_type": "markdown",
   "metadata": {
    "id": "4QPR-8TeL5Wy"
   },
   "source": [
    "You can also check this by looking at their `objectid()`, which is the equivalent of Python's `id()` function:"
   ]
  },
  {
   "cell_type": "code",
   "execution_count": null,
   "metadata": {
    "colab": {
     "base_uri": "https://localhost:8080/"
    },
    "id": "q6qYhWnyMBpf",
    "outputId": "ccda7583-fa6a-4b59-c784-59a27491c6a7"
   },
   "outputs": [],
   "source": [
    "objectid(banana)"
   ]
  },
  {
   "cell_type": "code",
   "execution_count": null,
   "metadata": {
    "colab": {
     "base_uri": "https://localhost:8080/"
    },
    "id": "sT3hq8f_MEZN",
    "outputId": "97cc1151-9b89-4119-ece9-31247f108498"
   },
   "outputs": [],
   "source": [
    "objectid(Fruit(2))"
   ]
  },
  {
   "cell_type": "code",
   "execution_count": null,
   "metadata": {
    "id": "4ZrS4322MKfN"
   },
   "outputs": [],
   "source": [
    "a = [1, 2, 4]\n",
    "b = [1, 2, 4]\n",
    "@assert a == b  # a and b are equal\n",
    "@assert a !== b # but they are not the same object"
   ]
  },
  {
   "cell_type": "code",
   "execution_count": null,
   "metadata": {
    "colab": {
     "base_uri": "https://localhost:8080/"
    },
    "id": "SKguY6NoHG1i",
    "outputId": "44ba719c-cee3-46d8-bbd5-000069767319"
   },
   "outputs": [],
   "source": [
    "a === b"
   ]
  }
 ],
 "metadata": {
  "accelerator": "GPU",
  "colab": {
   "collapsed_sections": [],
   "name": "Julia_Py.ipynb",
   "provenance": [],
   "toc_visible": true
  },
  "kernelspec": {
   "display_name": "Julia 1.10.5",
   "language": "julia",
   "name": "julia-1.10"
  },
  "language_info": {
   "file_extension": ".jl",
   "mimetype": "application/julia",
   "name": "julia",
   "version": "1.10.5"
  }
 },
 "nbformat": 4,
 "nbformat_minor": 1
}
