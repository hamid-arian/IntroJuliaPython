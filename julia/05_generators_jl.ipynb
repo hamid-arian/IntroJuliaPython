{
 "cells": [
  {
   "cell_type": "markdown",
   "metadata": {
    "id": "jApml2wDacs2"
   },
   "source": [
    "# Generators"
   ]
  },
  {
   "cell_type": "markdown",
   "metadata": {},
   "source": [
    "$$\n",
    "\\pi = 4 \\sum_{i=0}^{+\\infty}{\\frac{(-1)^i}{2i + 1}}\n",
    "$$"
   ]
  },
  {
   "cell_type": "code",
   "execution_count": 12,
   "metadata": {
    "colab": {
     "base_uri": "https://localhost:8080/"
    },
    "id": "7pLMhQjV6z5l",
    "outputId": "7e29298d-f90a-4bef-ccde-02f0bd4fc875"
   },
   "outputs": [
    {
     "data": {
      "text/plain": [
       "π_approximate (generic function with 1 method)"
      ]
     },
     "metadata": {},
     "output_type": "display_data"
    }
   ],
   "source": [
    "function π_approximate(n)\n",
    "    return 4 * sum((isodd(i) ? -1 : 1)/(2i+1) for i in 0:n)\n",
    "end"
   ]
  },
  {
   "cell_type": "markdown",
   "metadata": {},
   "source": [
    "$$\n",
    "\\pi = \\sqrt{12} \\sum_{i=0}^{+\\infty}{(-1)^i\\frac{(\\frac{1}{3})^i}{2i + 1}}\n",
    "$$"
   ]
  },
  {
   "cell_type": "code",
   "execution_count": 13,
   "metadata": {},
   "outputs": [
    {
     "data": {
      "text/plain": [
       "π_approximate2 (generic function with 1 method)"
      ]
     },
     "metadata": {},
     "output_type": "display_data"
    }
   ],
   "source": [
    "function π_approximate2(n)\n",
    "    sum = 1.0\n",
    "    for i in 1:n\n",
    "      sum+= (isodd(i) ? -1 : 1) * ((1/3)^i)/(2*i+1)\n",
    "    end\n",
    "    sqrt(12.) * sum\n",
    "end"
   ]
  },
  {
   "cell_type": "code",
   "execution_count": 18,
   "metadata": {},
   "outputs": [
    {
     "name": "stdout",
     "output_type": "stream",
     "text": [
      "3.1514934010709914\n",
      "3.141592653589794\n",
      "3.141592653589793\n"
     ]
    }
   ],
   "source": [
    "println(π_approximate(100), \"\\n\" ,π_approximate2(100), \"\\n\", π-1+1)"
   ]
  },
  {
   "cell_type": "markdown",
   "metadata": {
    "id": "u-WAtc-eDcp9"
   },
   "source": [
    "That's very similar to the corresponding Python code:\n",
    "\n",
    "```python\n",
    "# PYTHON\n",
    "def π_approx2(n):\n",
    "  return 4 * sum((-1 if i%2==1 else 1)/(2*i+1) for i in range(n+1))\n",
    "\n",
    "assert π_approx(100) == π_approx2(100)\n",
    "```"
   ]
  },
  {
   "cell_type": "markdown",
   "metadata": {
    "id": "OHaPPceEKO3r"
   },
   "source": [
    "## `zip`, `enumerate`, `collect`"
   ]
  },
  {
   "cell_type": "markdown",
   "metadata": {
    "id": "GBj2mvbiI9cP"
   },
   "source": [
    "The `zip()` function works much like in Python:"
   ]
  },
  {
   "cell_type": "code",
   "execution_count": 19,
   "metadata": {
    "colab": {
     "base_uri": "https://localhost:8080/"
    },
    "id": "-UsOasVeJCWe",
    "outputId": "152bf40d-0248-4a0a-dd54-98c3a9678ab6"
   },
   "outputs": [
    {
     "name": "stdout",
     "output_type": "stream",
     "text": [
      "10: Ten\n",
      "11: Eleven\n",
      "12: Twelve\n",
      "13: thirteen\n",
      "14: fourteen\n"
     ]
    }
   ],
   "source": [
    "for (i, s) in zip(10:14, [\"Ten\", \"Eleven\", \"Twelve\", \"thirteen\", \"fourteen\"])\n",
    "    println(i, \": \", s)\n",
    "end"
   ]
  },
  {
   "cell_type": "code",
   "execution_count": 20,
   "metadata": {
    "colab": {
     "base_uri": "https://localhost:8080/"
    },
    "id": "HzL7yewIKcXg",
    "outputId": "88122cd4-040d-47a0-cd60-606d5a9ef30c"
   },
   "outputs": [
    {
     "data": {
      "text/plain": [
       "5-element Vector{Tuple{Int64, String}}:\n",
       " (10, \"Ten\")\n",
       " (11, \"Eleven\")\n",
       " (12, \"Twelve\")\n",
       " (13, \"thirteen\")\n",
       " (14, \"fourteen\")"
      ]
     },
     "metadata": {},
     "output_type": "display_data"
    }
   ],
   "source": [
    "collect(zip(10:14, [\"Ten\", \"Eleven\", \"Twelve\", \"thirteen\", \"fourteen\", \"fifteen\"]))"
   ]
  },
  {
   "cell_type": "markdown",
   "metadata": {
    "id": "hu_eJ7okKolh"
   },
   "source": [
    "Notice that the parentheses in `for (i, s)` are required in Julia, as opposed to Python."
   ]
  },
  {
   "cell_type": "markdown",
   "metadata": {
    "id": "3y2q4YhNJOQy"
   },
   "source": [
    "The `enumerate()` function also works like in Python, except of course it is 1-indexed:"
   ]
  },
  {
   "cell_type": "code",
   "execution_count": 21,
   "metadata": {
    "colab": {
     "base_uri": "https://localhost:8080/"
    },
    "id": "bCTejeu0Ji_8",
    "outputId": "657eb988-6ee4-4eab-ca05-f2a522ae16f0"
   },
   "outputs": [
    {
     "name": "stdout",
     "output_type": "stream",
     "text": [
      "1: One\n",
      "2: Two\n",
      "3: Three\n"
     ]
    }
   ],
   "source": [
    "for (i, s) in enumerate([\"One\", \"Two\", \"Three\"])\n",
    "    println(i, \": \", s)\n",
    "end"
   ]
  },
  {
   "cell_type": "code",
   "execution_count": null,
   "metadata": {
    "colab": {
     "base_uri": "https://localhost:8080/"
    },
    "id": "3k6xaXkGKU2H",
    "outputId": "9cc76c9e-53e3-4021-9033-c8333de2e541"
   },
   "outputs": [],
   "source": [
    "collect(enumerate([\"One\", \"Two\", \"Three\"]))"
   ]
  },
  {
   "cell_type": "markdown",
   "metadata": {
    "id": "vs4_UjWnJy20"
   },
   "source": [
    "To pull the values of a generator into an array, use `collect()`:"
   ]
  },
  {
   "cell_type": "code",
   "execution_count": 22,
   "metadata": {
    "colab": {
     "base_uri": "https://localhost:8080/"
    },
    "id": "42T1NJKhKD1w",
    "outputId": "9122dc12-ba8b-4256-85ae-29a147e4b402"
   },
   "outputs": [
    {
     "data": {
      "text/plain": [
       "5-element Vector{Int64}:\n",
       " 1\n",
       " 2\n",
       " 3\n",
       " 4\n",
       " 5"
      ]
     },
     "metadata": {},
     "output_type": "display_data"
    }
   ],
   "source": [
    "collect(1:5)"
   ]
  },
  {
   "cell_type": "markdown",
   "metadata": {
    "id": "MQMx3bjkKFpk"
   },
   "source": [
    "A shorter syntax for that is:"
   ]
  },
  {
   "cell_type": "code",
   "execution_count": null,
   "metadata": {
    "colab": {
     "base_uri": "https://localhost:8080/"
    },
    "id": "2IEoo_TvKIDm",
    "outputId": "2aab11a5-753f-4db4-fdf1-f6d0202df6fe"
   },
   "outputs": [],
   "source": [
    "[1:5;]"
   ]
  },
  {
   "cell_type": "markdown",
   "metadata": {
    "id": "CumclAQ4TTpq"
   },
   "source": [
    "## Channels\n"
   ]
  },
  {
   "cell_type": "markdown",
   "metadata": {
    "id": "bfjsba6gFcMS"
   },
   "source": [
    "This is also quite easy in Julia:"
   ]
  },
  {
   "cell_type": "code",
   "execution_count": null,
   "metadata": {
    "colab": {
     "base_uri": "https://localhost:8080/"
    },
    "id": "cQZ0cowPUC8x",
    "outputId": "a1c572a1-352f-4843-d08b-4482f1ffedaf"
   },
   "outputs": [],
   "source": [
    "function fibonacci(n)\n",
    "    Channel() do ch\n",
    "        a, b = 1, 1\n",
    "        for i in 1:n\n",
    "            put!(ch, a)\n",
    "            a, b = b, a + b\n",
    "        end\n",
    "    end\n",
    "end\n",
    "\n",
    "for f in fibonacci(10)\n",
    "    println(f)\n",
    "end"
   ]
  },
  {
   "cell_type": "code",
   "execution_count": null,
   "metadata": {
    "colab": {
     "base_uri": "https://localhost:8080/"
    },
    "id": "RD4YwEca0L-M",
    "outputId": "7685a523-6a09-46c0-a6fb-f8e96dbe3480"
   },
   "outputs": [],
   "source": [
    "typeof(fibonacci(10))"
   ]
  },
  {
   "cell_type": "markdown",
   "metadata": {
    "id": "VWkUE9FRFfQI"
   },
   "source": [
    "The `Channel` type is part of the API for tasks and coroutines. We'll discuss these later."
   ]
  }
 ],
 "metadata": {
  "accelerator": "GPU",
  "colab": {
   "collapsed_sections": [],
   "name": "Julia_Py.ipynb",
   "provenance": [],
   "toc_visible": true
  },
  "kernelspec": {
   "display_name": "Julia 1.10.5",
   "language": "julia",
   "name": "julia-1.10"
  },
  "language_info": {
   "file_extension": ".jl",
   "mimetype": "application/julia",
   "name": "julia",
   "version": "1.10.5"
  }
 },
 "nbformat": 4,
 "nbformat_minor": 1
}
